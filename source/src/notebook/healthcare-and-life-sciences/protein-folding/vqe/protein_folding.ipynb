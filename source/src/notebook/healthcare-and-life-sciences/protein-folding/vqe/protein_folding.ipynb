{
 "cells": [
  {
   "cell_type": "code",
   "execution_count": 1,
   "metadata": {},
   "outputs": [
    {
     "ename": "ModuleNotFoundError",
     "evalue": "No module named 'utility'",
     "output_type": "error",
     "traceback": [
      "\u001b[0;31m---------------------------------------------------------------------------\u001b[0m",
      "\u001b[0;31mModuleNotFoundError\u001b[0m                       Traceback (most recent call last)",
      "\u001b[0;32m<ipython-input-1-501fb7976241>\u001b[0m in \u001b[0;36m<module>\u001b[0;34m\u001b[0m\n\u001b[0;32m----> 1\u001b[0;31m \u001b[0;32mfrom\u001b[0m \u001b[0mutility\u001b[0m\u001b[0;34m.\u001b[0m\u001b[0mProteinParser\u001b[0m \u001b[0;32mimport\u001b[0m \u001b[0mProteinData\u001b[0m\u001b[0;34m\u001b[0m\u001b[0;34m\u001b[0m\u001b[0m\n\u001b[0m\u001b[1;32m      2\u001b[0m \u001b[0;32mfrom\u001b[0m \u001b[0mutility\u001b[0m\u001b[0;34m.\u001b[0m\u001b[0mProteinModel\u001b[0m \u001b[0;32mimport\u001b[0m \u001b[0mProteinModel\u001b[0m\u001b[0;34m\u001b[0m\u001b[0;34m\u001b[0m\u001b[0m\n\u001b[1;32m      3\u001b[0m \u001b[0;32mfrom\u001b[0m \u001b[0mutility\u001b[0m\u001b[0;34m.\u001b[0m\u001b[0mProteinStructurePrediction\u001b[0m \u001b[0;32mimport\u001b[0m \u001b[0mProteinStructurePrediction\u001b[0m\u001b[0;34m\u001b[0m\u001b[0;34m\u001b[0m\u001b[0m\n\u001b[1;32m      4\u001b[0m \u001b[0;31m# from utility.ResultProcess import ResultParser\u001b[0m\u001b[0;34m\u001b[0m\u001b[0;34m\u001b[0m\u001b[0;34m\u001b[0m\u001b[0m\n\u001b[1;32m      5\u001b[0m \u001b[0;32mimport\u001b[0m \u001b[0mtime\u001b[0m\u001b[0;34m\u001b[0m\u001b[0;34m\u001b[0m\u001b[0m\n",
      "\u001b[0;31mModuleNotFoundError\u001b[0m: No module named 'utility'"
     ]
    }
   ],
   "source": [
    "from utility.ProteinParser import ProteinData\n",
    "from utility.ProteinModel import ProteinModel\n",
    "from utility.ProteinStructurePrediction import ProteinStructurePrediction\n",
    "# from utility.ResultProcess import ResultParser\n",
    "import time\n",
    "\n",
    "timestamp = time.strftime(\"%Y%m%d-%H\")"
   ]
  },
  {
   "cell_type": "markdown",
   "metadata": {},
   "source": [
    "# Step 1: Prepare Data"
   ]
  },
  {
   "cell_type": "markdown",
   "metadata": {},
   "source": [
    "In this part, we load the folder with the raw rna data for experimentation. To evaluate the quantum solution and the actual solution include both fasta and ct files. To only generate a quantum solution, upload a fasta file.\n"
   ]
  },
  {
   "cell_type": "code",
   "execution_count": null,
   "metadata": {},
   "outputs": [],
   "source": [
    "# input: aminoacids\n",
    "# output: energy files"
   ]
  },
  {
   "cell_type": "code",
   "execution_count": null,
   "metadata": {},
   "outputs": [],
   "source": [
    "data_path='protein-folding-data'"
   ]
  },
  {
   "cell_type": "markdown",
   "metadata": {},
   "source": [
    "# Step 2: Build Model"
   ]
  },
  {
   "cell_type": "markdown",
   "metadata": {},
   "source": [
    "In this part, we will show how to build model for qfold"
   ]
  },
  {
   "cell_type": "code",
   "execution_count": null,
   "metadata": {},
   "outputs": [],
   "source": [
    "# initial the ProteinFold object\n",
    "init_param = {}\n",
    "# method: qfold-cc stands for the classical metropolis method in QFold\n",
    "# method: qfold-qc stands for the quantum metropolis method in QFold\n",
    "method = ['qfold-cc', 'qfold-qc']\n",
    "\n",
    "for mt in method:\n",
    "    if mt == 'qfold-cc':\n",
    "        init_param[mt] = {}\n",
    "        init_param[mt]['params'] = [\"initialization\"]\n",
    "    elif mt == 'qfold-qc':\n",
    "        init_param[mt] = {}\n",
    "        init_param[mt]['params'] = [\"initialization\"]\n",
    "    \n",
    "protein_model = ProteinModel(data_path, method, **init_param)"
   ]
  },
  {
   "cell_type": "code",
   "execution_count": null,
   "metadata": {},
   "outputs": [],
   "source": [
    "# set the parameters for model\n",
    "model_param = {}\n",
    "\n",
    "method = 'qfold-cc'\n",
    "model_param[method] = {}\n",
    "\n",
    "# parameters\n",
    "model_param[method]['initialization'] = [\"minifold\", \"random\"]\n",
    "\n",
    "method = 'qfold-qc'\n",
    "model_param[method] = {}\n",
    "\n",
    "# parameters\n",
    "model_param[method]['initialization'] = [\"minifold\", \"random\"]\n",
    "\n",
    "protein_model.build_models(**model_param)\n"
   ]
  },
  {
   "cell_type": "code",
   "execution_count": null,
   "metadata": {},
   "outputs": [],
   "source": [
    "# save the model\n",
    "model_path = protein_model.save(\"latest\")\n",
    "\n",
    "print(f\"You have built the protein folding models and saved them as protein_folding_latest.pickle\")"
   ]
  },
  {
   "cell_type": "markdown",
   "metadata": {},
   "source": [
    "# Step 3: Predict Protein Structure"
   ]
  },
  {
   "cell_type": "markdown",
   "metadata": {},
   "source": [
    "In this part, we will show how to run models for predicting protein structure"
   ]
  },
  {
   "cell_type": "code",
   "execution_count": null,
   "metadata": {},
   "outputs": [],
   "source": [
    "protein_models = ProteinModel.load(model_path)"
   ]
  },
  {
   "cell_type": "code",
   "execution_count": null,
   "metadata": {},
   "outputs": [],
   "source": [
    "model_info = protein_models.describe_models()"
   ]
  },
  {
   "cell_type": "code",
   "execution_count": null,
   "metadata": {},
   "outputs": [],
   "source": [
    "# get the model you want to optimize\n",
    "protein_name = 'glycylglycine_3_GG'\n",
    "initialization = 'random'\n",
    "method = 'qfold-cc'\n",
    "\n",
    "model_name = \"{}+{}\".format(protein_name, initialization)\n",
    "\n",
    "protein_model = protein_models.get_model(protein_name, method, model_name)"
   ]
  },
  {
   "cell_type": "code",
   "execution_count": null,
   "metadata": {},
   "outputs": [],
   "source": [
    "# protein_model[\"model\"].deltas_dict"
   ]
  },
  {
   "cell_type": "code",
   "execution_count": null,
   "metadata": {},
   "outputs": [],
   "source": [
    "data_path = 'data'\n",
    "# psp_param stands for the parameters for predicting protein structure\n",
    "psp_param = {}\n",
    "psp_param[\"data_path\"] = data_path\n",
    "psp_param[\"mode\"] = 'local-simulator'\n",
    "psp_param[\"model_name\"] = model_name\n",
    "psp_param[\"model_path\"] = model_path\n",
    "\n",
    "psp = ProteinStructurePrediction(protein_model, method, **psp_param)\n",
    "\n",
    "psp.run()"
   ]
  },
  {
   "cell_type": "code",
   "execution_count": null,
   "metadata": {},
   "outputs": [],
   "source": [
    "initialization = 'random'\n",
    "method = 'qfold-qc'\n",
    "\n",
    "model_name = \"{}+{}\".format(protein_name, initialization)\n",
    "\n",
    "protein_model = protein_models.get_model(protein_name, method, model_name)"
   ]
  },
  {
   "cell_type": "code",
   "execution_count": null,
   "metadata": {},
   "outputs": [],
   "source": [
    "psp = ProteinStructurePrediction(protein_model, method, **psp_param)\n",
    "\n",
    "psp.run()"
   ]
  },
  {
   "cell_type": "markdown",
   "metadata": {},
   "source": [
    "# Step 4: Post Process"
   ]
  }
 ],
 "metadata": {
  "kernelspec": {
   "display_name": "Python 3",
   "language": "python",
   "name": "python3"
  },
  "language_info": {
   "codemirror_mode": {
    "name": "ipython",
    "version": 3
   },
   "file_extension": ".py",
   "mimetype": "text/x-python",
   "name": "python",
   "nbconvert_exporter": "python",
   "pygments_lexer": "ipython3",
   "version": "3.6.15"
  },
  "vscode": {
   "interpreter": {
    "hash": "aee8b7b246df8f9039afb4144a1f6fd8d2ca17a180786b69acc140d282b71a49"
   }
  }
 },
 "nbformat": 4,
 "nbformat_minor": 4
}
