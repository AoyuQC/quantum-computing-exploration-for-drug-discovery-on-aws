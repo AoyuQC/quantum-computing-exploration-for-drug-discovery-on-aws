{
 "cells": [
  {
   "cell_type": "code",
   "execution_count": 1,
   "metadata": {},
   "outputs": [
    {
     "name": "stderr",
     "output_type": "stream",
     "text": [
      "Using TensorFlow backend.\n"
     ]
    }
   ],
   "source": [
    "import sys\n",
    "sys.path.append(\"./ProteinFoldingHybridJobs/utility\")\n",
    "\n",
    "from ProteinFoldingHybridJobs.utility.ProteinParser import ProteinData\n",
    "from ProteinFoldingHybridJobs.utility.ProteinModel import ProteinModel\n",
    "from ProteinFoldingHybridJobs.utility.ProteinStructurePrediction import ProteinStructurePrediction\n",
    "# from utility.ResultProcess import ResultParser\n",
    "import time\n",
    "\n",
    "timestamp = time.strftime(\"%Y%m%d-%H\")"
   ]
  },
  {
   "cell_type": "markdown",
   "metadata": {},
   "source": [
    "# Step 1: Prepare Data"
   ]
  },
  {
   "cell_type": "markdown",
   "metadata": {},
   "source": [
    "In this part, we load the folder with the raw rna data for experimentation. To evaluate the quantum solution and the actual solution include both fasta and ct files. To only generate a quantum solution, upload a fasta file.\n"
   ]
  },
  {
   "cell_type": "code",
   "execution_count": 2,
   "metadata": {},
   "outputs": [],
   "source": [
    "# input: aminoacids\n",
    "# output: energy files"
   ]
  },
  {
   "cell_type": "code",
   "execution_count": 3,
   "metadata": {},
   "outputs": [],
   "source": [
    "data_path='protein-folding-data'"
   ]
  },
  {
   "cell_type": "markdown",
   "metadata": {},
   "source": [
    "# Step 2: Build Model"
   ]
  },
  {
   "cell_type": "markdown",
   "metadata": {},
   "source": [
    "In this part, we will show how to build model for qfold"
   ]
  },
  {
   "cell_type": "code",
   "execution_count": 4,
   "metadata": {},
   "outputs": [
    {
     "name": "stderr",
     "output_type": "stream",
     "text": [
      "INFO:root:Initial parameters for protein glycylglycine_3_GG using qfold-cc\n",
      "INFO:root:Initial parameters for protein glycylglycine_3_GG using qfold-qc\n",
      "INFO:root:Initial parameters for protein glycylglycine_4_GG using qfold-cc\n",
      "INFO:root:Initial parameters for protein glycylglycine_4_GG using qfold-qc\n"
     ]
    }
   ],
   "source": [
    "# initial the ProteinFold object\n",
    "init_param = {}\n",
    "# method: qfold-cc stands for the classical metropolis method in QFold\n",
    "# method: qfold-qc stands for the quantum metropolis method in QFold\n",
    "method = ['qfold-cc', 'qfold-qc']\n",
    "\n",
    "for mt in method:\n",
    "    if mt == 'qfold-cc':\n",
    "        init_param[mt] = {}\n",
    "        init_param[mt]['params'] = [\"initialization\"]\n",
    "    elif mt == 'qfold-qc':\n",
    "        init_param[mt] = {}\n",
    "        init_param[mt]['params'] = [\"initialization\"]\n",
    "\n",
    "config_path = \"ProteinFoldingHybridJobs/config/config.json\"\n",
    "protein_model = ProteinModel(data_path, method, config_path, **init_param)"
   ]
  },
  {
   "cell_type": "code",
   "execution_count": 5,
   "metadata": {},
   "outputs": [
    {
     "name": "stdout",
     "output_type": "stream",
     "text": [
      "deltas_dict length for glycylglycine_3_GG: 256\n",
      "deltas_dict length for glycylglycine_3_GG: 256\n",
      "deltas_dict length for glycylglycine_4_GG: 1024\n",
      "deltas_dict length for glycylglycine_4_GG: 1024\n",
      "deltas_dict length for glycylglycine_3_GG: 256\n",
      "deltas_dict length for glycylglycine_3_GG: 256\n",
      "deltas_dict length for glycylglycine_4_GG: 1024\n",
      "deltas_dict length for glycylglycine_4_GG: 1024\n"
     ]
    },
    {
     "data": {
      "text/plain": [
       "0"
      ]
     },
     "execution_count": 5,
     "metadata": {},
     "output_type": "execute_result"
    }
   ],
   "source": [
    "# set the parameters for model\n",
    "model_param = {}\n",
    "\n",
    "method = 'qfold-cc'\n",
    "model_param[method] = {}\n",
    "\n",
    "# parameters\n",
    "model_param[method]['initialization'] = [\"minifold\", \"random\"]\n",
    "\n",
    "method = 'qfold-qc'\n",
    "model_param[method] = {}\n",
    "\n",
    "# parameters\n",
    "model_param[method]['initialization'] = [\"minifold\", \"random\"]\n",
    "\n",
    "protein_model.build_models(**model_param)\n"
   ]
  },
  {
   "cell_type": "code",
   "execution_count": 6,
   "metadata": {},
   "outputs": [
    {
     "name": "stderr",
     "output_type": "stream",
     "text": [
      "INFO:root:finish save protein_folding_latest.pickle\n"
     ]
    },
    {
     "name": "stdout",
     "output_type": "stream",
     "text": [
      "You have built the protein folding models and saved them as protein_folding_latest.pickle\n"
     ]
    }
   ],
   "source": [
    "# save the model\n",
    "model_path = protein_model.save(\"latest\")\n",
    "\n",
    "print(f\"You have built the protein folding models and saved them as protein_folding_latest.pickle\")"
   ]
  },
  {
   "cell_type": "markdown",
   "metadata": {},
   "source": [
    "# Step 3: Predict Protein Structure"
   ]
  },
  {
   "cell_type": "markdown",
   "metadata": {},
   "source": [
    "In this part, we will show how to run models for predicting protein structure"
   ]
  },
  {
   "cell_type": "code",
   "execution_count": 7,
   "metadata": {},
   "outputs": [],
   "source": [
    "protein_models = ProteinModel.load(model_path)"
   ]
  },
  {
   "cell_type": "code",
   "execution_count": 8,
   "metadata": {},
   "outputs": [
    {
     "name": "stderr",
     "output_type": "stream",
     "text": [
      "INFO:root:debug describe\n",
      "INFO:root:model name: glycylglycine_3_GG, method: qfold-cc\n",
      "INFO:root:param: initialization, value {'random', 'minifold'}\n",
      "INFO:root:model name: glycylglycine_3_GG, method: qfold-qc\n",
      "INFO:root:param: initialization, value {'random', 'minifold'}\n",
      "INFO:root:model name: glycylglycine_4_GG, method: qfold-cc\n",
      "INFO:root:param: initialization, value {'random', 'minifold'}\n",
      "INFO:root:model name: glycylglycine_4_GG, method: qfold-qc\n",
      "INFO:root:param: initialization, value {'random', 'minifold'}\n"
     ]
    }
   ],
   "source": [
    "model_info = protein_models.describe_models()"
   ]
  },
  {
   "cell_type": "code",
   "execution_count": 9,
   "metadata": {},
   "outputs": [],
   "source": [
    "# get the model you want to optimize\n",
    "protein_name = 'glycylglycine_3_GG'\n",
    "initialization = 'random'\n",
    "method = 'qfold-cc'\n",
    "\n",
    "model_name = \"{}+{}\".format(protein_name, initialization)\n",
    "\n",
    "protein_model = protein_models.get_model(protein_name, method, model_name)"
   ]
  },
  {
   "cell_type": "code",
   "execution_count": 10,
   "metadata": {},
   "outputs": [
    {
     "name": "stderr",
     "output_type": "stream",
     "text": [
      "INFO:root:initial protein structure prediction using qfold-cc in QFold\n",
      "INFO:root:CLASSICAL METROPOLIS: Time for 2 steps: 0.3213992118835449 seconds\n",
      "INFO:root:CLASSICAL METROPOLIS: Time for 3 steps: 0.45438313484191895 seconds\n",
      "INFO:root:CLASSICAL METROPOLIS: Time for 4 steps: 0.5776138305664062 seconds\n",
      "INFO:root:CLASSICAL METROPOLIS: Time for 5 steps: 0.715691089630127 seconds\n",
      "INFO:root:CLASSICAL METROPOLIS: Time for 6 steps: 0.8359878063201904 seconds\n",
      "INFO:root:CLASSICAL METROPOLIS: Time for 7 steps: 0.9730174541473389 seconds\n",
      "INFO:root:CLASSICAL METROPOLIS: Time for 8 steps: 1.1031997203826904 seconds\n",
      "INFO:root:CLASSICAL METROPOLIS: Time for 9 steps: 1.2273075580596924 seconds\n",
      "INFO:root:finish save tts_results_glycylglycine_3_GG+random_1000_qfold-cc.json\n"
     ]
    }
   ],
   "source": [
    "data_path = 'data'\n",
    "# psp_param stands for the parameters for predicting protein structure\n",
    "psp_param = {}\n",
    "psp_param[\"data_path\"] = data_path\n",
    "psp_param[\"mode\"] = 'local-simulator'\n",
    "psp_param[\"model_name\"] = model_name\n",
    "psp_param[\"model_path\"] = model_path\n",
    "\n",
    "psp = ProteinStructurePrediction(protein_model, method, config_path, **psp_param)\n",
    "\n",
    "psp.run()"
   ]
  },
  {
   "cell_type": "code",
   "execution_count": 11,
   "metadata": {},
   "outputs": [],
   "source": [
    "initialization = 'random'\n",
    "method = 'qfold-qc'\n",
    "\n",
    "model_name = \"{}+{}\".format(protein_name, initialization)\n",
    "\n",
    "protein_model = protein_models.get_model(protein_name, method, model_name)"
   ]
  },
  {
   "cell_type": "code",
   "execution_count": 12,
   "metadata": {},
   "outputs": [
    {
     "name": "stderr",
     "output_type": "stream",
     "text": [
      "INFO:root:initial protein structure prediction using qfold-qc in QFold\n",
      "INFO:qiskit.compiler.assembler:Total Assembly Time - 0.10824 (ms)\n",
      "INFO:qiskit.compiler.assembler:Total Assembly Time - 0.05054 (ms)\n",
      "INFO:qiskit.compiler.assembler:Total Assembly Time - 0.04935 (ms)\n",
      "INFO:qiskit.transpiler.runningpassmanager:Pass: UnitarySynthesis - 0.01049 (ms)\n",
      "INFO:qiskit.transpiler.runningpassmanager:Pass: UnrollCustomDefinitions - 27671.91505 (ms)\n",
      "INFO:qiskit.transpiler.passes.basis.basis_translator:Begin BasisTranslator from source basis {('mcx', 5), ('mcu1', 9), ('mcx', 4), ('cx', 2), ('cu3', 2), ('h', 1), ('ccx', 3), ('x', 1), ('snapshot', 16)} to target basis {'mcr', 'mcp', 'set_statevector', 'csx', 'mcrz', 'unitary', 'rzx', 'diagonal', 'u3', 'reset', 'initialize', 'save_density_matrix', 'cz', 'measure', 'x', 'save_amplitudes', 'ry', 'ccx', 'r', 'mcu', 'cx', 'u1', 'save_expval', 't', 'sxdg', 'mcrx', 'delay', 'cp', 'save_statevector', 'id', 'swap', 'p', 'h', 'mcx', 'save_state', 'roerror', 'mcsx', 'y', 'cu', 'save_amplitudes_sq', 'save_probs', 'tdg', 'z', 'mcu1', 'rxx', 'rx', 'mcz', 'qerror_loc', 'cu2', 'mcphase', 'snapshot', 'mcu3', 'cu3', 'multiplexer', 'mcy', 'kraus', 'save_probs_ket', 'cy', 'barrier', 'quantum_channel', 'cu1', 'mcry', 'u', 'sx', 'rz', 'sdg', 's', 'rzz', 'ryy', 'u2', 'pauli', 'cswap', 'mcu2', 'mcswap'}.\n",
      "INFO:qiskit.transpiler.passes.basis.basis_translator:Basis translation path search completed in 0.000s.\n",
      "INFO:qiskit.transpiler.passes.basis.basis_translator:Basis translation paths composed in 0.103s.\n",
      "INFO:qiskit.transpiler.passes.basis.basis_translator:Basis translation instructions replaced in 0.479s.\n",
      "INFO:qiskit.transpiler.runningpassmanager:Pass: BasisTranslator - 765.35940 (ms)\n",
      "INFO:qiskit.transpiler.runningpassmanager:Pass: RemoveResetInZeroState - 42.36364 (ms)\n",
      "INFO:qiskit.transpiler.runningpassmanager:Pass: Depth - 36.53169 (ms)\n",
      "INFO:qiskit.transpiler.runningpassmanager:Pass: FixedPoint - 0.01192 (ms)\n",
      "INFO:qiskit.transpiler.runningpassmanager:Pass: Optimize1qGatesDecomposition - 38707.38077 (ms)\n",
      "INFO:qiskit.transpiler.runningpassmanager:Pass: CXCancellation - 49.36743 (ms)\n",
      "INFO:qiskit.transpiler.runningpassmanager:Pass: UnitarySynthesis - 0.01121 (ms)\n",
      "INFO:qiskit.transpiler.runningpassmanager:Pass: UnrollCustomDefinitions - 84.72943 (ms)\n",
      "INFO:qiskit.transpiler.passes.basis.basis_translator:Begin BasisTranslator from source basis {('mcx', 5), ('mcu1', 9), ('mcx', 4), ('cx', 2), ('cu3', 2), ('h', 1), ('u2', 1), ('ccx', 3), ('x', 1), ('snapshot', 16), ('u3', 1)} to target basis {'mcr', 'mcp', 'set_statevector', 'csx', 'mcrz', 'unitary', 'rzx', 'diagonal', 'u3', 'reset', 'initialize', 'save_density_matrix', 'cz', 'measure', 'x', 'save_amplitudes', 'ry', 'ccx', 'r', 'mcu', 'cx', 'u1', 'save_expval', 't', 'sxdg', 'mcrx', 'delay', 'cp', 'save_statevector', 'id', 'swap', 'p', 'h', 'mcx', 'save_state', 'roerror', 'mcsx', 'y', 'cu', 'save_amplitudes_sq', 'save_probs', 'tdg', 'z', 'mcu1', 'rxx', 'rx', 'mcz', 'qerror_loc', 'cu2', 'mcphase', 'snapshot', 'mcu3', 'cu3', 'multiplexer', 'mcy', 'kraus', 'save_probs_ket', 'cy', 'barrier', 'quantum_channel', 'cu1', 'mcry', 'u', 'sx', 'rz', 'sdg', 's', 'rzz', 'ryy', 'u2', 'pauli', 'cswap', 'mcu2', 'mcswap'}.\n",
      "INFO:qiskit.transpiler.passes.basis.basis_translator:Basis translation path search completed in 0.000s.\n",
      "INFO:qiskit.transpiler.passes.basis.basis_translator:Basis translation paths composed in 0.047s.\n",
      "INFO:qiskit.transpiler.passes.basis.basis_translator:Basis translation instructions replaced in 0.235s.\n",
      "INFO:qiskit.transpiler.runningpassmanager:Pass: BasisTranslator - 350.48342 (ms)\n",
      "INFO:qiskit.transpiler.runningpassmanager:Pass: Depth - 18.62168 (ms)\n",
      "INFO:qiskit.transpiler.runningpassmanager:Pass: FixedPoint - 0.01144 (ms)\n",
      "INFO:qiskit.transpiler.runningpassmanager:Pass: Optimize1qGatesDecomposition - 8448.53306 (ms)\n",
      "INFO:qiskit.transpiler.runningpassmanager:Pass: CXCancellation - 49.51429 (ms)\n",
      "INFO:qiskit.transpiler.runningpassmanager:Pass: UnitarySynthesis - 0.01097 (ms)\n",
      "INFO:qiskit.transpiler.runningpassmanager:Pass: UnrollCustomDefinitions - 84.51915 (ms)\n",
      "INFO:qiskit.transpiler.passes.basis.basis_translator:Begin BasisTranslator from source basis {('mcx', 5), ('mcu1', 9), ('mcx', 4), ('cx', 2), ('cu3', 2), ('h', 1), ('u2', 1), ('ccx', 3), ('x', 1), ('snapshot', 16), ('u3', 1)} to target basis {'mcr', 'mcp', 'set_statevector', 'csx', 'mcrz', 'unitary', 'rzx', 'diagonal', 'u3', 'reset', 'initialize', 'save_density_matrix', 'cz', 'measure', 'x', 'save_amplitudes', 'ry', 'ccx', 'r', 'mcu', 'cx', 'u1', 'save_expval', 't', 'sxdg', 'mcrx', 'delay', 'cp', 'save_statevector', 'id', 'swap', 'p', 'h', 'mcx', 'save_state', 'roerror', 'mcsx', 'y', 'cu', 'save_amplitudes_sq', 'save_probs', 'tdg', 'z', 'mcu1', 'rxx', 'rx', 'mcz', 'qerror_loc', 'cu2', 'mcphase', 'snapshot', 'mcu3', 'cu3', 'multiplexer', 'mcy', 'kraus', 'save_probs_ket', 'cy', 'barrier', 'quantum_channel', 'cu1', 'mcry', 'u', 'sx', 'rz', 'sdg', 's', 'rzz', 'ryy', 'u2', 'pauli', 'cswap', 'mcu2', 'mcswap'}.\n",
      "INFO:qiskit.transpiler.passes.basis.basis_translator:Basis translation path search completed in 0.000s.\n",
      "INFO:qiskit.transpiler.passes.basis.basis_translator:Basis translation paths composed in 0.046s.\n",
      "INFO:qiskit.transpiler.passes.basis.basis_translator:Basis translation instructions replaced in 0.236s.\n",
      "INFO:qiskit.transpiler.runningpassmanager:Pass: BasisTranslator - 350.86298 (ms)\n",
      "INFO:qiskit.transpiler.runningpassmanager:Pass: Depth - 18.82267 (ms)\n",
      "INFO:qiskit.transpiler.runningpassmanager:Pass: FixedPoint - 0.01121 (ms)\n",
      "INFO:qiskit.transpiler.runningpassmanager:Pass: Optimize1qGatesDecomposition - 8601.45068 (ms)\n",
      "INFO:qiskit.transpiler.runningpassmanager:Pass: CXCancellation - 49.78466 (ms)\n",
      "INFO:qiskit.transpiler.runningpassmanager:Pass: UnitarySynthesis - 0.01192 (ms)\n",
      "INFO:qiskit.transpiler.runningpassmanager:Pass: UnrollCustomDefinitions - 83.98223 (ms)\n",
      "INFO:qiskit.transpiler.passes.basis.basis_translator:Begin BasisTranslator from source basis {('mcx', 5), ('mcu1', 9), ('mcx', 4), ('cx', 2), ('cu3', 2), ('h', 1), ('u2', 1), ('ccx', 3), ('x', 1), ('snapshot', 16), ('u3', 1)} to target basis {'mcr', 'mcp', 'set_statevector', 'csx', 'mcrz', 'unitary', 'rzx', 'diagonal', 'u3', 'reset', 'initialize', 'save_density_matrix', 'cz', 'measure', 'x', 'save_amplitudes', 'ry', 'ccx', 'r', 'mcu', 'cx', 'u1', 'save_expval', 't', 'sxdg', 'mcrx', 'delay', 'cp', 'save_statevector', 'id', 'swap', 'p', 'h', 'mcx', 'save_state', 'roerror', 'mcsx', 'y', 'cu', 'save_amplitudes_sq', 'save_probs', 'tdg', 'z', 'mcu1', 'rxx', 'rx', 'mcz', 'qerror_loc', 'cu2', 'mcphase', 'snapshot', 'mcu3', 'cu3', 'multiplexer', 'mcy', 'kraus', 'save_probs_ket', 'cy', 'barrier', 'quantum_channel', 'cu1', 'mcry', 'u', 'sx', 'rz', 'sdg', 's', 'rzz', 'ryy', 'u2', 'pauli', 'cswap', 'mcu2', 'mcswap'}.\n",
      "INFO:qiskit.transpiler.passes.basis.basis_translator:Basis translation path search completed in 0.000s.\n",
      "INFO:qiskit.transpiler.passes.basis.basis_translator:Basis translation paths composed in 0.046s.\n",
      "INFO:qiskit.transpiler.passes.basis.basis_translator:Basis translation instructions replaced in 0.234s.\n",
      "INFO:qiskit.transpiler.runningpassmanager:Pass: BasisTranslator - 348.47689 (ms)\n",
      "INFO:qiskit.transpiler.runningpassmanager:Pass: ContainsInstruction - 0.00954 (ms)\n",
      "INFO:qiskit.compiler.transpiler:Total Transpile Time - 88612.06889 (ms)\n",
      "INFO:qiskit.compiler.assembler:Total Assembly Time - 0.13089 (ms)\n",
      "INFO:qiskit.execute_function:Total Job Submission Time - 387.02035 (ms)\n",
      "INFO:root:QUANTUM METROPOLIS: Time for final steps 94.63419485092163 seconds (90.7121479511261 seconds statevector)\n",
      "INFO:root:finish save tts_results_glycylglycine_3_GG+random_1000_qfold-qc.json\n"
     ]
    }
   ],
   "source": [
    "psp = ProteinStructurePrediction(protein_model, method, config_path, **psp_param)\n",
    "\n",
    "psp.run()"
   ]
  },
  {
   "cell_type": "markdown",
   "metadata": {},
   "source": [
    "# Step 4: Post Process"
   ]
  },
  {
   "cell_type": "markdown",
   "metadata": {},
   "source": [
    "In this part, we will show how to visualize the results"
   ]
  },
  {
   "cell_type": "code",
   "execution_count": null,
   "metadata": {},
   "outputs": [],
   "source": []
  }
 ],
 "metadata": {
  "kernelspec": {
   "display_name": "Python 3",
   "language": "python",
   "name": "python3"
  },
  "language_info": {
   "codemirror_mode": {
    "name": "ipython",
    "version": 3
   },
   "file_extension": ".py",
   "mimetype": "text/x-python",
   "name": "python",
   "nbconvert_exporter": "python",
   "pygments_lexer": "ipython3",
   "version": "3.7.2"
  },
  "vscode": {
   "interpreter": {
    "hash": "aee8b7b246df8f9039afb4144a1f6fd8d2ca17a180786b69acc140d282b71a49"
   }
  }
 },
 "nbformat": 4,
 "nbformat_minor": 4
}
