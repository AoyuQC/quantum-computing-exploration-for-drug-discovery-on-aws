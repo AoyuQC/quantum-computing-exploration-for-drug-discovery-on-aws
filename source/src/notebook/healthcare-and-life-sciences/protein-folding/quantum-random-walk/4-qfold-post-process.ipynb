{
 "cells": [
  {
   "cell_type": "code",
   "execution_count": 1,
   "metadata": {},
   "outputs": [
    {
     "name": "stderr",
     "output_type": "stream",
     "text": [
      "2023-02-05 04:31:13,737 dwave.cloud INFO MainThread Log level for 'dwave.cloud' namespace set to 0\n"
     ]
    }
   ],
   "source": [
    "from utility.ProteinParser import ProteinData\n",
    "from utility.RNAQUBO import RNAQUBO\n",
    "from utility.AnnealerOptimizer import Annealer\n",
    "from utility.ResultProcess import ResultParser\n",
    "import time\n",
    "\n",
    "timestamp = time.strftime(\"%Y%m%d-%H\")"
   ]
  },
  {
   "cell_type": "markdown",
   "metadata": {},
   "source": [
    "# Step 1: Prepare Data"
   ]
  },
  {
   "cell_type": "markdown",
   "metadata": {},
   "source": [
    "In this part, we load the folder with the raw rna data for experimentation. To evaluate the quantum solution and the actual solution include both fasta and ct files. To only generate a quantum solution, upload a fasta file.\n"
   ]
  },
  {
   "cell_type": "markdown",
   "metadata": {},
   "source": [
    "# Step 2: Build Model"
   ]
  },
  {
   "cell_type": "markdown",
   "metadata": {},
   "source": [
    "In this part, we build the Quadratic Unconstrained \n",
    "Binary Optimization (QUBO) model for rna folding.\n",
    "\n",
    "First, we set the following parameters and \n",
    "initialize the RNAQUBO object. \n",
    "\n",
    "<center>\n",
    "\n",
    "| Parameter | Description | Value |\n",
    "|--- |--- |--- |\n",
    "| PKP | pseudoknot penalty | -1.0, -0.5, 0.0, 0.5, 1.0 |\n",
    "| S | penalty for short stems | 1 |\n",
    "| O | penalty for overlaps | 1e6 |\n",
    "| method | the method of building model | 'qc' |\n",
    "| data_path | pickle file directory of rna data |  |\n",
    "\n",
    " </center>"
   ]
  },
  {
   "cell_type": "markdown",
   "metadata": {},
   "source": [
    "# Step 3: Optimize Configuration"
   ]
  },
  {
   "cell_type": "markdown",
   "metadata": {},
   "source": [
    "In this part, we use SA and QA to find the optimized configuration of rna folding.\n",
    "At first, we load the model file using **RNAQUBO** object"
   ]
  },
  {
   "cell_type": "markdown",
   "metadata": {},
   "source": [
    "# Step 4: Post Process"
   ]
  },
  {
   "cell_type": "markdown",
   "metadata": {},
   "source": [
    "In this part, we post process the optimizing results for evaluation and visualization.\n",
    "At first, we prepare the following parameters:\n",
    "\n",
    "| Parameter | Description | Value |\n",
    "|--- |--- |--- |\n",
    "|method | annealing method for QUBO problem |'dwave-sa': use the simulated annealer in ocean toolkit<br> 'dwave-qa': use the quantum annealer|\n",
    "|raw_path| the path for the original molecule file| './molecule-data/117_ideal.mol2' in this example |\n",
    "|data_path| the path for the processed molecule file| './qmu_117_ideal_data_latest.mol2' in this example |\n",
    "|bucket | the s3 bucket to store your results | - |\n",
    "|prefix | the name of the folder in your s3 bucket | - |\n",
    "|task_id | the id for your quantum annealing task| '2b5a3b05-1a0e-443a-852c-4ec422a10e59' in this example |"
   ]
  }
 ],
 "metadata": {
  "kernelspec": {
   "display_name": "qc-hcls",
   "language": "python",
   "name": "qc-hcls"
  },
  "language_info": {
   "codemirror_mode": {
    "name": "ipython",
    "version": 3
   },
   "file_extension": ".py",
   "mimetype": "text/x-python",
   "name": "python",
   "nbconvert_exporter": "python",
   "pygments_lexer": "ipython3",
   "version": "3.8.16"
  },
  "vscode": {
   "interpreter": {
    "hash": "aee8b7b246df8f9039afb4144a1f6fd8d2ca17a180786b69acc140d282b71a49"
   }
  }
 },
 "nbformat": 4,
 "nbformat_minor": 4
}
