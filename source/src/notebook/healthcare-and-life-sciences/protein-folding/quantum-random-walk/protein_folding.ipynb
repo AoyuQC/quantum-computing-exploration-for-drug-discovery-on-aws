{
 "cells": [
  {
   "cell_type": "code",
   "execution_count": 1,
   "metadata": {},
   "outputs": [
    {
     "name": "stderr",
     "output_type": "stream",
     "text": [
      "Using TensorFlow backend.\n",
      "/opt/conda/envs/qfold/lib/python3.6/site-packages/boto3/compat.py:88: PythonDeprecationWarning: Boto3 will no longer support Python 3.6 starting May 30, 2022. To continue receiving service updates, bug fixes, and security updates please upgrade to Python 3.7 or later. More information can be found here: https://aws.amazon.com/blogs/developer/python-support-policy-updates-for-aws-sdks-and-tools/\n",
      "  warnings.warn(warning, PythonDeprecationWarning)\n"
     ]
    }
   ],
   "source": [
    "from utility.ProteinParser import ProteinData\n",
    "from utility.ProteinModel import ProteinModel\n",
    "from utility.ProteinStructurePrediction import ProteinStructurePrediction\n",
    "# from utility.ResultProcess import ResultParser\n",
    "import time\n",
    "\n",
    "timestamp = time.strftime(\"%Y%m%d-%H\")"
   ]
  },
  {
   "cell_type": "markdown",
   "metadata": {},
   "source": [
    "# Step 1: Prepare Data"
   ]
  },
  {
   "cell_type": "markdown",
   "metadata": {},
   "source": [
    "In this part, we load the folder with the raw rna data for experimentation. To evaluate the quantum solution and the actual solution include both fasta and ct files. To only generate a quantum solution, upload a fasta file.\n"
   ]
  },
  {
   "cell_type": "code",
   "execution_count": 2,
   "metadata": {},
   "outputs": [],
   "source": [
    "# input: aminoacids\n",
    "# output: energy files"
   ]
  },
  {
   "cell_type": "code",
   "execution_count": 3,
   "metadata": {},
   "outputs": [],
   "source": [
    "data_path='protein-folding-data'"
   ]
  },
  {
   "cell_type": "markdown",
   "metadata": {},
   "source": [
    "# Step 2: Build Model"
   ]
  },
  {
   "cell_type": "markdown",
   "metadata": {},
   "source": [
    "In this part, we will show how to build model for qfold"
   ]
  },
  {
   "cell_type": "code",
   "execution_count": 4,
   "metadata": {},
   "outputs": [
    {
     "name": "stderr",
     "output_type": "stream",
     "text": [
      "INFO:root:Initial parameters for protein glycylglycine_3_GG using qfold-cc\n",
      "INFO:root:Initial parameters for protein glycylglycine_3_GG using qfold-qc\n",
      "INFO:root:Initial parameters for protein glycylglycine_4_GG using qfold-cc\n",
      "INFO:root:Initial parameters for protein glycylglycine_4_GG using qfold-qc\n"
     ]
    }
   ],
   "source": [
    "# initial the ProteinFold object\n",
    "init_param = {}\n",
    "# method: qfold-cc stands for the classical metropolis method in QFold\n",
    "# method: qfold-qc stands for the quantum metropolis method in QFold\n",
    "method = ['qfold-cc', 'qfold-qc']\n",
    "\n",
    "for mt in method:\n",
    "    if mt == 'qfold-cc':\n",
    "        init_param[mt] = {}\n",
    "        init_param[mt]['params'] = [\"initialization\"]\n",
    "    elif mt == 'qfold-qc':\n",
    "        init_param[mt] = {}\n",
    "        init_param[mt]['params'] = [\"initialization\"]\n",
    "    \n",
    "protein_model = ProteinModel(data_path, method, **init_param)"
   ]
  },
  {
   "cell_type": "code",
   "execution_count": 5,
   "metadata": {},
   "outputs": [
    {
     "name": "stdout",
     "output_type": "stream",
     "text": [
      "deltas_dict length for glycylglycine_3_GG: 256\n",
      "deltas_dict length for glycylglycine_3_GG: 256\n",
      "deltas_dict length for glycylglycine_4_GG: 1024\n",
      "deltas_dict length for glycylglycine_4_GG: 1024\n",
      "deltas_dict length for glycylglycine_3_GG: 256\n",
      "deltas_dict length for glycylglycine_3_GG: 256\n",
      "deltas_dict length for glycylglycine_4_GG: 1024\n",
      "deltas_dict length for glycylglycine_4_GG: 1024\n"
     ]
    },
    {
     "data": {
      "text/plain": [
       "0"
      ]
     },
     "execution_count": 5,
     "metadata": {},
     "output_type": "execute_result"
    }
   ],
   "source": [
    "# set the parameters for model\n",
    "model_param = {}\n",
    "\n",
    "method = 'qfold-cc'\n",
    "model_param[method] = {}\n",
    "\n",
    "# parameters\n",
    "model_param[method]['initialization'] = [\"minifold\", \"random\"]\n",
    "\n",
    "method = 'qfold-qc'\n",
    "model_param[method] = {}\n",
    "\n",
    "# parameters\n",
    "model_param[method]['initialization'] = [\"minifold\", \"random\"]\n",
    "\n",
    "protein_model.build_models(**model_param)\n"
   ]
  },
  {
   "cell_type": "code",
   "execution_count": 6,
   "metadata": {},
   "outputs": [
    {
     "name": "stderr",
     "output_type": "stream",
     "text": [
      "INFO:root:finish save protein_folding_latest.pickle\n"
     ]
    },
    {
     "name": "stdout",
     "output_type": "stream",
     "text": [
      "You have built the protein folding models and saved them as protein_folding_latest.pickle\n"
     ]
    }
   ],
   "source": [
    "# save the model\n",
    "model_path = protein_model.save(\"latest\")\n",
    "\n",
    "print(f\"You have built the protein folding models and saved them as protein_folding_latest.pickle\")"
   ]
  },
  {
   "cell_type": "markdown",
   "metadata": {},
   "source": [
    "# Step 3: Predict Protein Structure"
   ]
  },
  {
   "cell_type": "markdown",
   "metadata": {},
   "source": [
    "In this part, we will show how to run models for predicting protein structure"
   ]
  },
  {
   "cell_type": "code",
   "execution_count": 7,
   "metadata": {},
   "outputs": [],
   "source": [
    "protein_models = ProteinModel.load(model_path)"
   ]
  },
  {
   "cell_type": "code",
   "execution_count": 8,
   "metadata": {},
   "outputs": [
    {
     "name": "stderr",
     "output_type": "stream",
     "text": [
      "INFO:root:debug describe\n",
      "INFO:root:model name: glycylglycine_3_GG, method: qfold-cc\n",
      "INFO:root:param: initialization, value {'minifold', 'random'}\n",
      "INFO:root:model name: glycylglycine_3_GG, method: qfold-qc\n",
      "INFO:root:param: initialization, value {'minifold', 'random'}\n",
      "INFO:root:model name: glycylglycine_4_GG, method: qfold-cc\n",
      "INFO:root:param: initialization, value {'minifold', 'random'}\n",
      "INFO:root:model name: glycylglycine_4_GG, method: qfold-qc\n",
      "INFO:root:param: initialization, value {'minifold', 'random'}\n"
     ]
    }
   ],
   "source": [
    "model_info = protein_models.describe_models()"
   ]
  },
  {
   "cell_type": "code",
   "execution_count": 9,
   "metadata": {},
   "outputs": [],
   "source": [
    "# get the model you want to optimize\n",
    "protein_name = 'glycylglycine_3_GG'\n",
    "initialization = 'random'\n",
    "method = 'qfold-cc'\n",
    "\n",
    "model_name = \"{}+{}\".format(protein_name, initialization)\n",
    "\n",
    "protein_model = protein_models.get_model(protein_name, method, model_name)"
   ]
  },
  {
   "cell_type": "code",
   "execution_count": 10,
   "metadata": {},
   "outputs": [],
   "source": [
    "# protein_model[\"model\"].deltas_dict"
   ]
  },
  {
   "cell_type": "code",
   "execution_count": 11,
   "metadata": {},
   "outputs": [
    {
     "name": "stderr",
     "output_type": "stream",
     "text": [
      "INFO:root:initial protein structure prediction using qfold-cc in QFold\n",
      "INFO:root:CLASSICAL METROPOLIS: Time for 2 steps: 0.30298733711242676 seconds\n",
      "INFO:root:CLASSICAL METROPOLIS: Time for 3 steps: 0.42849063873291016 seconds\n",
      "INFO:root:CLASSICAL METROPOLIS: Time for 4 steps: 0.5459754467010498 seconds\n",
      "INFO:root:CLASSICAL METROPOLIS: Time for 5 steps: 0.661046028137207 seconds\n",
      "INFO:root:CLASSICAL METROPOLIS: Time for 6 steps: 0.7801580429077148 seconds\n",
      "INFO:root:CLASSICAL METROPOLIS: Time for 7 steps: 0.9172167778015137 seconds\n",
      "INFO:root:CLASSICAL METROPOLIS: Time for 8 steps: 1.0284547805786133 seconds\n",
      "INFO:root:CLASSICAL METROPOLIS: Time for 9 steps: 1.1629078388214111 seconds\n",
      "INFO:root:finish save tts_results_glycylglycine_3_GG+random_1000_qfold-cc.json\n"
     ]
    }
   ],
   "source": [
    "data_path = 'data'\n",
    "# psp_param stands for the parameters for predicting protein structure\n",
    "psp_param = {}\n",
    "psp_param[\"data_path\"] = data_path\n",
    "psp_param[\"mode\"] = 'local-simulator'\n",
    "psp_param[\"model_name\"] = model_name\n",
    "psp_param[\"model_path\"] = model_path\n",
    "\n",
    "psp = ProteinStructurePrediction(protein_model, method, **psp_param)\n",
    "\n",
    "psp.run()"
   ]
  },
  {
   "cell_type": "code",
   "execution_count": 12,
   "metadata": {},
   "outputs": [],
   "source": [
    "initialization = 'random'\n",
    "method = 'qfold-qc'\n",
    "\n",
    "model_name = \"{}+{}\".format(protein_name, initialization)\n",
    "\n",
    "protein_model = protein_models.get_model(protein_name, method, model_name)"
   ]
  },
  {
   "cell_type": "code",
   "execution_count": 13,
   "metadata": {},
   "outputs": [
    {
     "name": "stderr",
     "output_type": "stream",
     "text": [
      "INFO:root:initial protein structure prediction using qfold-qc in QFold\n",
      "INFO:qiskit.compiler.assembler:Total Assembly Time - 0.18668 (ms)\n",
      "INFO:qiskit.compiler.assembler:Total Assembly Time - 0.05698 (ms)\n",
      "INFO:qiskit.compiler.assembler:Total Assembly Time - 0.07486 (ms)\n",
      "INFO:qiskit.transpiler.runningpassmanager:Pass: UnitarySynthesis - 0.01144 (ms)\n",
      "INFO:qiskit.transpiler.runningpassmanager:Pass: UnrollCustomDefinitions - 27134.67717 (ms)\n",
      "INFO:qiskit.transpiler.passes.basis.basis_translator:Begin BasisTranslator from source basis {('x', 1), ('mcu1', 9), ('cx', 2), ('cu3', 2), ('snapshot', 16), ('ccx', 3), ('mcx', 5), ('mcx', 4), ('h', 1)} to target basis {'ryy', 'save_density_matrix', 'mcrz', 'ccx', 'save_probs', 'save_amplitudes', 'u2', 'rz', 'tdg', 'z', 'mcp', 'unitary', 'mcry', 'rxx', 'measure', 'rx', 'csx', 'delay', 'snapshot', 'r', 'quantum_channel', 'roerror', 'sdg', 'mcr', 's', 'barrier', 'mcu3', 'diagonal', 'sx', 'qerror_loc', 'ry', 'save_amplitudes_sq', 'h', 'mcswap', 'kraus', 'mcy', 'p', 'cx', 'rzz', 'mcz', 'set_statevector', 'reset', 'cy', 'mcu', 'mcu1', 'cu1', 'mcx', 'save_probs_ket', 'sxdg', 'rzx', 'initialize', 'cu2', 'save_expval', 't', 'save_state', 'u3', 'cu3', 'cp', 'cswap', 'cz', 'multiplexer', 'mcphase', 'u', 'cu', 'id', 'x', 'mcsx', 'pauli', 'mcu2', 'u1', 'swap', 'save_statevector', 'mcrx', 'y'}.\n",
      "INFO:qiskit.transpiler.passes.basis.basis_translator:Basis translation path search completed in 0.000s.\n",
      "INFO:qiskit.transpiler.passes.basis.basis_translator:Basis translation paths composed in 0.108s.\n",
      "INFO:qiskit.transpiler.passes.basis.basis_translator:Basis translation instructions replaced in 0.461s.\n",
      "INFO:qiskit.transpiler.runningpassmanager:Pass: BasisTranslator - 756.49095 (ms)\n",
      "INFO:qiskit.transpiler.runningpassmanager:Pass: RemoveResetInZeroState - 51.90825 (ms)\n",
      "INFO:qiskit.transpiler.runningpassmanager:Pass: Depth - 36.17764 (ms)\n",
      "INFO:qiskit.transpiler.runningpassmanager:Pass: FixedPoint - 0.01955 (ms)\n",
      "INFO:qiskit.transpiler.runningpassmanager:Pass: Optimize1qGatesDecomposition - 38308.49814 (ms)\n",
      "INFO:qiskit.transpiler.runningpassmanager:Pass: CXCancellation - 51.19967 (ms)\n",
      "INFO:qiskit.transpiler.runningpassmanager:Pass: UnitarySynthesis - 0.01168 (ms)\n",
      "INFO:qiskit.transpiler.runningpassmanager:Pass: UnrollCustomDefinitions - 86.13515 (ms)\n",
      "INFO:qiskit.transpiler.passes.basis.basis_translator:Begin BasisTranslator from source basis {('x', 1), ('mcu1', 9), ('cx', 2), ('cu3', 2), ('snapshot', 16), ('ccx', 3), ('mcx', 5), ('u3', 1), ('mcx', 4), ('u2', 1), ('h', 1)} to target basis {'ryy', 'save_density_matrix', 'mcrz', 'ccx', 'save_probs', 'save_amplitudes', 'u2', 'rz', 'tdg', 'z', 'mcp', 'unitary', 'mcry', 'rxx', 'measure', 'rx', 'csx', 'delay', 'snapshot', 'r', 'quantum_channel', 'roerror', 'sdg', 'mcr', 's', 'barrier', 'mcu3', 'diagonal', 'sx', 'qerror_loc', 'ry', 'save_amplitudes_sq', 'h', 'mcswap', 'kraus', 'mcy', 'p', 'cx', 'rzz', 'mcz', 'set_statevector', 'reset', 'cy', 'mcu', 'mcu1', 'cu1', 'mcx', 'save_probs_ket', 'sxdg', 'rzx', 'initialize', 'cu2', 'save_expval', 't', 'save_state', 'u3', 'cu3', 'cp', 'cswap', 'cz', 'multiplexer', 'mcphase', 'u', 'cu', 'id', 'x', 'mcsx', 'pauli', 'mcu2', 'u1', 'swap', 'save_statevector', 'mcrx', 'y'}.\n",
      "INFO:qiskit.transpiler.passes.basis.basis_translator:Basis translation path search completed in 0.000s.\n",
      "INFO:qiskit.transpiler.passes.basis.basis_translator:Basis translation paths composed in 0.049s.\n",
      "INFO:qiskit.transpiler.passes.basis.basis_translator:Basis translation instructions replaced in 0.229s.\n",
      "INFO:qiskit.transpiler.runningpassmanager:Pass: BasisTranslator - 346.34352 (ms)\n",
      "INFO:qiskit.transpiler.runningpassmanager:Pass: Depth - 18.09096 (ms)\n",
      "INFO:qiskit.transpiler.runningpassmanager:Pass: FixedPoint - 0.01240 (ms)\n",
      "INFO:qiskit.transpiler.runningpassmanager:Pass: Optimize1qGatesDecomposition - 8567.54208 (ms)\n",
      "INFO:qiskit.transpiler.runningpassmanager:Pass: CXCancellation - 50.13752 (ms)\n",
      "INFO:qiskit.transpiler.runningpassmanager:Pass: UnitarySynthesis - 0.01144 (ms)\n",
      "INFO:qiskit.transpiler.runningpassmanager:Pass: UnrollCustomDefinitions - 84.29503 (ms)\n",
      "INFO:qiskit.transpiler.passes.basis.basis_translator:Begin BasisTranslator from source basis {('x', 1), ('mcu1', 9), ('cx', 2), ('cu3', 2), ('snapshot', 16), ('ccx', 3), ('mcx', 5), ('u3', 1), ('mcx', 4), ('u2', 1), ('h', 1)} to target basis {'ryy', 'save_density_matrix', 'mcrz', 'ccx', 'save_probs', 'save_amplitudes', 'u2', 'rz', 'tdg', 'z', 'mcp', 'unitary', 'mcry', 'rxx', 'measure', 'rx', 'csx', 'delay', 'snapshot', 'r', 'quantum_channel', 'roerror', 'sdg', 'mcr', 's', 'barrier', 'mcu3', 'diagonal', 'sx', 'qerror_loc', 'ry', 'save_amplitudes_sq', 'h', 'mcswap', 'kraus', 'mcy', 'p', 'cx', 'rzz', 'mcz', 'set_statevector', 'reset', 'cy', 'mcu', 'mcu1', 'cu1', 'mcx', 'save_probs_ket', 'sxdg', 'rzx', 'initialize', 'cu2', 'save_expval', 't', 'save_state', 'u3', 'cu3', 'cp', 'cswap', 'cz', 'multiplexer', 'mcphase', 'u', 'cu', 'id', 'x', 'mcsx', 'pauli', 'mcu2', 'u1', 'swap', 'save_statevector', 'mcrx', 'y'}.\n",
      "INFO:qiskit.transpiler.passes.basis.basis_translator:Basis translation path search completed in 0.000s.\n",
      "INFO:qiskit.transpiler.passes.basis.basis_translator:Basis translation paths composed in 0.048s.\n",
      "INFO:qiskit.transpiler.passes.basis.basis_translator:Basis translation instructions replaced in 0.229s.\n",
      "INFO:qiskit.transpiler.runningpassmanager:Pass: BasisTranslator - 346.23718 (ms)\n",
      "INFO:qiskit.transpiler.runningpassmanager:Pass: Depth - 17.59076 (ms)\n",
      "INFO:qiskit.transpiler.runningpassmanager:Pass: FixedPoint - 0.01264 (ms)\n",
      "INFO:qiskit.transpiler.runningpassmanager:Pass: Optimize1qGatesDecomposition - 8815.15098 (ms)\n",
      "INFO:qiskit.transpiler.runningpassmanager:Pass: CXCancellation - 49.94822 (ms)\n",
      "INFO:qiskit.transpiler.runningpassmanager:Pass: UnitarySynthesis - 0.01097 (ms)\n",
      "INFO:qiskit.transpiler.runningpassmanager:Pass: UnrollCustomDefinitions - 83.98676 (ms)\n",
      "INFO:qiskit.transpiler.passes.basis.basis_translator:Begin BasisTranslator from source basis {('x', 1), ('mcu1', 9), ('cx', 2), ('cu3', 2), ('snapshot', 16), ('ccx', 3), ('mcx', 5), ('u3', 1), ('mcx', 4), ('u2', 1), ('h', 1)} to target basis {'ryy', 'save_density_matrix', 'mcrz', 'ccx', 'save_probs', 'save_amplitudes', 'u2', 'rz', 'tdg', 'z', 'mcp', 'unitary', 'mcry', 'rxx', 'measure', 'rx', 'csx', 'delay', 'snapshot', 'r', 'quantum_channel', 'roerror', 'sdg', 'mcr', 's', 'barrier', 'mcu3', 'diagonal', 'sx', 'qerror_loc', 'ry', 'save_amplitudes_sq', 'h', 'mcswap', 'kraus', 'mcy', 'p', 'cx', 'rzz', 'mcz', 'set_statevector', 'reset', 'cy', 'mcu', 'mcu1', 'cu1', 'mcx', 'save_probs_ket', 'sxdg', 'rzx', 'initialize', 'cu2', 'save_expval', 't', 'save_state', 'u3', 'cu3', 'cp', 'cswap', 'cz', 'multiplexer', 'mcphase', 'u', 'cu', 'id', 'x', 'mcsx', 'pauli', 'mcu2', 'u1', 'swap', 'save_statevector', 'mcrx', 'y'}.\n",
      "INFO:qiskit.transpiler.passes.basis.basis_translator:Basis translation path search completed in 0.000s.\n",
      "INFO:qiskit.transpiler.passes.basis.basis_translator:Basis translation paths composed in 0.048s.\n",
      "INFO:qiskit.transpiler.passes.basis.basis_translator:Basis translation instructions replaced in 0.227s.\n",
      "INFO:qiskit.transpiler.runningpassmanager:Pass: BasisTranslator - 346.78864 (ms)\n",
      "INFO:qiskit.transpiler.runningpassmanager:Pass: ContainsInstruction - 0.00930 (ms)\n",
      "INFO:qiskit.compiler.transpiler:Total Transpile Time - 88376.88422 (ms)\n",
      "INFO:qiskit.compiler.assembler:Total Assembly Time - 0.12922 (ms)\n",
      "INFO:qiskit.execute_function:Total Job Submission Time - 398.94629 (ms)\n",
      "INFO:root:QUANTUM METROPOLIS: Time for final steps 94.48740196228027 seconds (90.47180700302124 seconds statevector)\n",
      "INFO:root:finish save tts_results_glycylglycine_3_GG+random_1000_qfold-qc.json\n"
     ]
    }
   ],
   "source": [
    "psp = ProteinStructurePrediction(protein_model, method, **psp_param)\n",
    "\n",
    "psp.run()"
   ]
  },
  {
   "cell_type": "markdown",
   "metadata": {},
   "source": [
    "# Step 4: Post Process"
   ]
  },
  {
   "cell_type": "markdown",
   "metadata": {},
   "source": [
    "In this part, we will show how to visualize the results"
   ]
  },
  {
   "cell_type": "code",
   "execution_count": null,
   "metadata": {},
   "outputs": [],
   "source": []
  }
 ],
 "metadata": {
  "kernelspec": {
   "display_name": "Python 3",
   "language": "python",
   "name": "python3"
  },
  "language_info": {
   "codemirror_mode": {
    "name": "ipython",
    "version": 3
   },
   "file_extension": ".py",
   "mimetype": "text/x-python",
   "name": "python",
   "nbconvert_exporter": "python",
   "pygments_lexer": "ipython3",
   "version": "3.6.15"
  },
  "vscode": {
   "interpreter": {
    "hash": "aee8b7b246df8f9039afb4144a1f6fd8d2ca17a180786b69acc140d282b71a49"
   }
  }
 },
 "nbformat": 4,
 "nbformat_minor": 4
}
