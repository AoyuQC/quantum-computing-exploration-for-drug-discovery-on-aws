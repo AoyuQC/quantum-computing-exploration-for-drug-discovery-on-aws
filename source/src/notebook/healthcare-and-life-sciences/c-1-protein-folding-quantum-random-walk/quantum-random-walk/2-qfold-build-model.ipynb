{
 "cells": [
  {
   "cell_type": "markdown",
   "metadata": {},
   "source": [
    "# Step 2: Build Model"
   ]
  },
  {
   "cell_type": "markdown",
   "metadata": {},
   "source": [
    "In this part, we will show how to build model for qfold"
   ]
  },
  {
   "cell_type": "code",
   "execution_count": 1,
   "metadata": {},
   "outputs": [
    {
     "name": "stderr",
     "output_type": "stream",
     "text": [
      "2023-09-26 16:51:04.938764: I tensorflow/tsl/cuda/cudart_stub.cc:28] Could not find cuda drivers on your machine, GPU will not be used.\n",
      "2023-09-26 16:51:04.961027: I tensorflow/tsl/cuda/cudart_stub.cc:28] Could not find cuda drivers on your machine, GPU will not be used.\n",
      "2023-09-26 16:51:04.961444: I tensorflow/core/platform/cpu_feature_guard.cc:182] This TensorFlow binary is optimized to use available CPU instructions in performance-critical operations.\n",
      "To enable the following instructions: AVX2 FMA, in other operations, rebuild TensorFlow with the appropriate compiler flags.\n",
      "2023-09-26 16:51:05.399661: W tensorflow/compiler/tf2tensorrt/utils/py_utils.cc:38] TF-TRT Warning: Could not find TensorRT\n"
     ]
    }
   ],
   "source": [
    "from molecular_model import energy_calculator\n",
    "from molecular_model import structure_calculator"
   ]
  },
  {
   "cell_type": "code",
   "execution_count": 2,
   "metadata": {},
   "outputs": [],
   "source": [
    "protein_name = 'glycylglycine'\n",
    "aminoacids = 'GG'\n",
    "number_bits_to_discretize_angles_range = 4\n",
    "protein_id = 0\n",
    "\n",
    "input_filename = 'inputRotations'\n",
    "output_filename = 'outputRotations'\n",
    "precalculated_energies_path = '../protein-folding-data/precalculated_energies/'\n",
    "\n",
    "basis = '6-31g'\n",
    "energy_method = 'mp2'\n",
    "method_rotations_generation = 'minifold'\n",
    "\n",
    "model_path = \"./models/\"\n",
    "window_size = 5\n",
    "max_aa_length = 200\n",
    "path_input_file = \"../protein-folding-data/training_data/training_70.txt\"\n",
    "epochs_train_classical_folding_model = 100\n",
    "batch_size_classical_folding_model = 32\n",
    "\n",
    "ener_calculator = energy_calculator.Energy_Calculator(input_filename, output_filename, precalculated_energies_path, basis, energy_method)\n",
    "struct_calculator = structure_calculator.Structure_Calculator(model_path, window_size, max_aa_length, path_input_file, epochs_train_classical_folding_model, batch_size_classical_folding_model)"
   ]
  },
  {
   "cell_type": "code",
   "execution_count": 3,
   "metadata": {},
   "outputs": [
    {
     "name": "stdout",
     "output_type": "stream",
     "text": [
      "\n",
      "## MINIFOLD initialization for protein structure ##\n",
      "\n",
      "    ⬤ Loading knowledge model\n"
     ]
    },
    {
     "name": "stderr",
     "output_type": "stream",
     "text": [
      "2023-09-26 16:51:07.624777: I tensorflow/compiler/xla/stream_executor/cuda/cuda_gpu_executor.cc:995] successful NUMA node read from SysFS had negative value (-1), but there must be at least one NUMA node, so returning NUMA node zero. See more at https://github.com/torvalds/linux/blob/v6.0/Documentation/ABI/testing/sysfs-bus-pci#L344-L355\n",
      "2023-09-26 16:51:07.625139: W tensorflow/core/common_runtime/gpu/gpu_device.cc:1960] Cannot dlopen some GPU libraries. Please make sure the missing libraries mentioned above are installed properly if you would like to use GPU. Follow the guide at https://www.tensorflow.org/install/gpu for how to download and setup the required libraries for your platform.\n",
      "Skipping registering GPU devices...\n"
     ]
    },
    {
     "name": "stdout",
     "output_type": "stream",
     "text": [
      "    ⬤ Generating input values\n",
      "    ⬤ Generating input for minifold prediction\n",
      "1/1 [==============================] - 0s 271ms/step\n",
      "\n",
      "PHI precision:  8.752681663463036 % phi mean real value:  1.5708134759948975 phi mean calculated value: -1.2958056\n",
      "PSI precision:  19.711415098740225 % psi mean real value:  -2.6404247826789864 psi mean calculated value: -0.1180845 \n",
      "\n",
      "[-1.2958056] [-0.1180845]\n",
      "    ⬤ Calculating energies for all posible rotations\n"
     ]
    },
    {
     "name": "stderr",
     "output_type": "stream",
     "text": [
      "Calculating energy of each position: 100%|██████████| 256/256 [06:53<00:00,  1.61s/it]"
     ]
    },
    {
     "name": "stdout",
     "output_type": "stream",
     "text": [
      "    ⬤ Calculating deltas for all possible combinations of rotations\n"
     ]
    },
    {
     "name": "stderr",
     "output_type": "stream",
     "text": [
      "\n"
     ]
    }
   ],
   "source": [
    "# Load variables from notebook 1-qfold-prepare-data.ipynb. PLEASE execute this notebook before\n",
    "%store -r atoms\n",
    "%store -r backbone\n",
    "\n",
    "min_energy_psi4 = ener_calculator.calculate_energy_of_rotations(atoms)\n",
    "\n",
    "#Get initial structure of the protein to rotate from it\n",
    "[atoms, initialization_stats] = struct_calculator.calculate_initial_structure(atoms, aminoacids, method_rotations_generation, backbone)\n",
    "\n",
    "#Calculate all posible energies for the phi and psi angles\n",
    "deltasJson = ener_calculator.calculate_all_deltas_of_rotations(atoms, aminoacids, min_energy_psi4, protein_name, number_bits_to_discretize_angles_range, method_rotations_generation, backbone)\n",
    "\n",
    "# Add the stadistics about the precision of the initializator\n",
    "deltasJson['initialization_stats'] = initialization_stats\n",
    "ener_calculator.write_json(deltasJson, 'delta_energies', protein_name, number_bits_to_discretize_angles_range, method_rotations_generation)"
   ]
  }
 ],
 "metadata": {
  "kernelspec": {
   "display_name": "Python 3",
   "language": "python",
   "name": "python3"
  },
  "language_info": {
   "codemirror_mode": {
    "name": "ipython",
    "version": 3
   },
   "file_extension": ".py",
   "mimetype": "text/x-python",
   "name": "python",
   "nbconvert_exporter": "python",
   "pygments_lexer": "ipython3",
   "version": "3.10.12"
  },
  "vscode": {
   "interpreter": {
    "hash": "916dbcbb3f70747c44a77c7bcd40155683ae19c65e1c03b4aa3499c5328201f1"
   }
  }
 },
 "nbformat": 4,
 "nbformat_minor": 4
}
