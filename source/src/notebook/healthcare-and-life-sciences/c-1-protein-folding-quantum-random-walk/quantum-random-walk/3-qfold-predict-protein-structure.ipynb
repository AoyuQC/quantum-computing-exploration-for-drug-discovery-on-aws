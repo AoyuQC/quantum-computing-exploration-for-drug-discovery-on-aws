{
 "cells": [
  {
   "cell_type": "markdown",
   "metadata": {},
   "source": [
    "# Step 3: Run Model"
   ]
  },
  {
   "cell_type": "markdown",
   "metadata": {},
   "source": [
    "In this part, we will show how to run qfold using Amazon Braket"
   ]
  },
  {
   "cell_type": "code",
   "execution_count": 1,
   "metadata": {},
   "outputs": [],
   "source": [
    "from molecular_model import energy_calculator\n",
    "from folding_predictor import classical_folding_predictor, quantum_folding_predictor"
   ]
  },
  {
   "cell_type": "code",
   "execution_count": 2,
   "metadata": {},
   "outputs": [],
   "source": [
    "basis = '6-31g'\n",
    "energy_method = 'mp2'\n",
    "input_filename = 'inputRotations'\n",
    "output_filename = 'outputRotations'\n",
    "precalculated_energies_path = '../protein-folding-data/precalculated_energies/'\n",
    "\n",
    "protein_name = 'glycylglycine'\n",
    "aminoacids = 'GG'\n",
    "number_bits_to_discretize_angles_range = 4\n",
    "method_rotations_generation = 'minifold'\n",
    "\n",
    "nW = 10\n",
    "\n",
    "bits_rotation = 4\n",
    "beta_value = 10\n",
    "beta_type = 'fixed'\n",
    "kappa = 1\n",
    "alpha = 0.9\n",
    "annealing_schedule = 'geometric'\n",
    "number_angles = (len(aminoacids) -1)*2\n",
    "number_iterations = 500\n",
    "\n",
    "ancilla_qubits = 4\n",
    "\n",
    "ener_calculator = energy_calculator.Energy_Calculator(input_filename, output_filename, precalculated_energies_path, basis, energy_method)"
   ]
  },
  {
   "cell_type": "code",
   "execution_count": 3,
   "metadata": {},
   "outputs": [
    {
     "name": "stdout",
     "output_type": "stream",
     "text": [
      "<i> Quantum Metropolis => 10 steps calculated in 0:06:48.740009 (hh:mm:ss)\n",
      "<i> Classical Metropolis => 10 steps calculated in 0:00:51.968366 (hh:mm:ss)\n"
     ]
    }
   ],
   "source": [
    "[deltas_dict, psi4_min_energy, initial_min_energy, index_min_energy, initialization_stats] = ener_calculator.read_energy_json(protein_name, number_bits_to_discretize_angles_range, method_rotations_generation)\n",
    "\n",
    "classical_metropolis = classical_folding_predictor.Classical_Folding_Predictor(bits_rotation, beta_value, beta_type, kappa, alpha, annealing_schedule, deltas_dict, number_angles, number_iterations)\n",
    "quantum_metropolis = quantum_folding_predictor.Quantum_Folding_Predictor(number_angles, bits_rotation, ancilla_qubits, deltas_dict, beta_value, beta_type)\n",
    "\n",
    "quantum_probabilities = quantum_metropolis.quantum_calculate_3D_structure(nW)\n",
    "classical_probabilities = classical_metropolis.classical_calculate_3D_structure(nW)"
   ]
  },
  {
   "cell_type": "code",
   "execution_count": 4,
   "metadata": {},
   "outputs": [
    {
     "name": "stdout",
     "output_type": "stream",
     "text": [
      "Stored 'quantum_probabilities' (dict)\n",
      "Stored 'classical_probabilities' (dict)\n",
      "Stored 'index_min_energy' (str)\n",
      "Stored 'nW' (int)\n"
     ]
    }
   ],
   "source": [
    "# store variable for next notebook\n",
    "%store quantum_probabilities\n",
    "%store classical_probabilities\n",
    "%store index_min_energy\n",
    "%store nW"
   ]
  },
  {
   "cell_type": "code",
   "execution_count": null,
   "metadata": {},
   "outputs": [],
   "source": []
  }
 ],
 "metadata": {
  "kernelspec": {
   "display_name": "Python 3",
   "language": "python",
   "name": "python3"
  },
  "language_info": {
   "codemirror_mode": {
    "name": "ipython",
    "version": 3
   },
   "file_extension": ".py",
   "mimetype": "text/x-python",
   "name": "python",
   "nbconvert_exporter": "python",
   "pygments_lexer": "ipython3",
   "version": "3.10.12"
  },
  "vscode": {
   "interpreter": {
    "hash": "916dbcbb3f70747c44a77c7bcd40155683ae19c65e1c03b4aa3499c5328201f1"
   }
  }
 },
 "nbformat": 4,
 "nbformat_minor": 4
}
