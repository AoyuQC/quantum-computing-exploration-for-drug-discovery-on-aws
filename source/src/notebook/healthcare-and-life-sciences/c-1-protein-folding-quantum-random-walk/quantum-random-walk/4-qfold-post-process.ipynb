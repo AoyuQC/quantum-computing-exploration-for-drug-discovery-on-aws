{
 "cells": [
  {
   "cell_type": "markdown",
   "metadata": {},
   "source": [
    "# Step 4: Post Process"
   ]
  },
  {
   "cell_type": "markdown",
   "metadata": {},
   "source": [
    "In this part, we will show how to post process the results of qfold"
   ]
  },
  {
   "cell_type": "code",
   "execution_count": 1,
   "metadata": {},
   "outputs": [],
   "source": [
    "from results_processor import tts_calculator"
   ]
  },
  {
   "cell_type": "code",
   "execution_count": 2,
   "metadata": {},
   "outputs": [],
   "source": [
    "default_value_tts = 99999999\n",
    "precision_solution = 0.9\n",
    "\n",
    "%store -r classical_probabilities\n",
    "%store -r quantum_probabilities\n",
    "%store -r index_min_energy\n",
    "%store -r nW\n",
    "\n",
    "tts_calc = tts_calculator.TTS_calculator(default_value_tts, index_min_energy, nW, precision_solution)"
   ]
  },
  {
   "cell_type": "code",
   "execution_count": 7,
   "metadata": {},
   "outputs": [],
   "source": [
    "cmin = tts_calc.calculate_tts_from_probability_matrix(classical_probabilities)\n",
    "qmin = tts_calc.calculate_tts_from_probability_matrix(quantum_probabilities[nW])"
   ]
  },
  {
   "cell_type": "code",
   "execution_count": 8,
   "metadata": {},
   "outputs": [
    {
     "name": "stdout",
     "output_type": "stream",
     "text": [
      "<🖥️> Classical advantage! TTS of classical algorithm (759.1686569995649) is lower than quantum TTS(909.5140222307261)\n"
     ]
    }
   ],
   "source": [
    "if qmin < cmin:\n",
    "    print(\"<🎉> Quantum advantage! TTS of quantum algorithm (\"+str(qmin)+\") is lower than classical TTS(\"+str(cmin)+\")\")\n",
    "else:\n",
    "    print(\"<🖥️> Classical advantage! TTS of classical algorithm (\"+str(cmin)+\") is lower than quantum TTS(\"+str(qmin)+\")\")\n"
   ]
  }
 ],
 "metadata": {
  "kernelspec": {
   "display_name": "Python 3",
   "language": "python",
   "name": "python3"
  },
  "language_info": {
   "codemirror_mode": {
    "name": "ipython",
    "version": 3
   },
   "file_extension": ".py",
   "mimetype": "text/x-python",
   "name": "python",
   "nbconvert_exporter": "python",
   "pygments_lexer": "ipython3",
   "version": "3.10.12"
  },
  "vscode": {
   "interpreter": {
    "hash": "916dbcbb3f70747c44a77c7bcd40155683ae19c65e1c03b4aa3499c5328201f1"
   }
  }
 },
 "nbformat": 4,
 "nbformat_minor": 4
}
