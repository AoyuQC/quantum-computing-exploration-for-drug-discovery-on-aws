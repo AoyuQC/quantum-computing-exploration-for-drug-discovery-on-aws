{
 "cells": [
  {
   "cell_type": "markdown",
   "metadata": {},
   "source": [
    "# Step 1: Prepare Data"
   ]
  },
  {
   "cell_type": "markdown",
   "metadata": {},
   "source": [
    "In this part, we will show how to prepare data for protein folding\n"
   ]
  },
  {
   "cell_type": "code",
   "execution_count": 1,
   "metadata": {},
   "outputs": [],
   "source": [
    "from molecular_model import molecule_analyzer"
   ]
  },
  {
   "cell_type": "code",
   "execution_count": 2,
   "metadata": {},
   "outputs": [],
   "source": [
    "protein_name = 'glycylglycine'\n",
    "aminoacids = 'GG'\n",
    "number_bits_to_discretize_protein_angles = 4\n",
    "\n",
    "input_filename = \"inputRotations\"\n",
    "output_filename = \"outputRotations\"\n",
    "basis = \"6-31g\"\n",
    "energy_method = \"mp2\"\n",
    "\n",
    "mol_analyzer = molecule_analyzer.Molecule_Analizer(protein_name, aminoacids, input_filename, output_filename, basis, energy_method)"
   ]
  },
  {
   "cell_type": "code",
   "execution_count": 3,
   "metadata": {},
   "outputs": [
    {
     "name": "stdout",
     "output_type": "stream",
     "text": [
      "    ⬤ Extracting atoms from proteins\n",
      "    ⬤ Calculating connections between atoms\n"
     ]
    }
   ],
   "source": [
    "#Get all atoms from the protein with x/y/z positions and connections\n",
    "atoms, backbone = mol_analyzer.extract_atoms()"
   ]
  },
  {
   "cell_type": "code",
   "execution_count": 4,
   "metadata": {},
   "outputs": [
    {
     "name": "stdout",
     "output_type": "stream",
     "text": [
      "Stored 'atoms' (list)\n",
      "Stored 'backbone' (list)\n"
     ]
    }
   ],
   "source": [
    "# print atoms to set the input of the notebook 2\n",
    "%store atoms\n",
    "%store backbone"
   ]
  }
 ],
 "metadata": {
  "kernelspec": {
   "display_name": "Python 3",
   "language": "python",
   "name": "python3"
  },
  "language_info": {
   "codemirror_mode": {
    "name": "ipython",
    "version": 3
   },
   "file_extension": ".py",
   "mimetype": "text/x-python",
   "name": "python",
   "nbconvert_exporter": "python",
   "pygments_lexer": "ipython3",
   "version": "3.10.12"
  },
  "vscode": {
   "interpreter": {
    "hash": "31f2aee4e71d21fbe5cf8b01ff0e069b9275f58929596ceb00d14d90e3e16cd6"
   }
  }
 },
 "nbformat": 4,
 "nbformat_minor": 4
}
