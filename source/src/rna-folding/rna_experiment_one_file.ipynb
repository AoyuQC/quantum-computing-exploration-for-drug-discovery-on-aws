{
 "cells": [
  {
   "cell_type": "code",
   "execution_count": 1,
   "metadata": {},
   "outputs": [],
   "source": [
    "from utility.RNAParser import RNAData\n",
    "from utility.RNAQUBO import RNAQUBO\n",
    "# from utility.AnnealerOptimizer import Annealer\n",
    "# from utility.ResultProcess import ResultParser\n",
    "import time\n",
    "\n",
    "timestamp = time.strftime(\"%Y%m%d-%H\")\n",
    "\n",
    "# import packages, including those to connect with AWS BraKet\n",
    "\n",
    "import numpy as np\n",
    "import pandas as pd\n",
    "import math\n",
    "import os\n",
    "import glob\n",
    "import re\n",
    "\n",
    "from braket.aws import AwsDevice\n",
    "from braket.ocean_plugin import BraketSampler, BraketDWaveSampler"
   ]
  },
  {
   "cell_type": "markdown",
   "metadata": {},
   "source": [
    "# Step 1: Prepare Data"
   ]
  },
  {
   "cell_type": "markdown",
   "metadata": {},
   "source": [
    "In this part, we load...."
   ]
  },
  {
   "cell_type": "code",
   "execution_count": 2,
   "metadata": {},
   "outputs": [],
   "source": [
    "# initial parameters for experiment data\n",
    "s3_bucket = f\"xxxx\" # change to the name of bucket created in your deployment\n",
    "prefix = \"xxxx\" # the name of the folder in the bucket\n",
    "\n",
    "rna_name = 'bpRNA_CRW_32863' #ct and/or fasta file of the rna structure\n",
    "\n",
    "# TODO generate these two files from the name\n",
    "# enter folder path, for instance './rna-data'\n",
    "raw_path_folder = './rna-data'\n",
    "# raw_path_ct = './rna-data/bpRNA_CRW_32863.ct.txt' # the true rna structure ct file\n",
    "# raw_path_fasta = './rna-data/bpRNA_CRW_32863.fasta.txt' # the fasta file for this experiment"
   ]
  },
  {
   "cell_type": "code",
   "execution_count": 3,
   "metadata": {},
   "outputs": [
    {
     "name": "stderr",
     "output_type": "stream",
     "text": [
      "INFO:root:finish save rna-folding_data_latest.pickle\n"
     ]
    }
   ],
   "source": [
    "rna_data = RNAData(raw_path_folder)\n",
    "\n",
    "data_path = rna_data.save(\"latest\")\n",
    "\n",
    "# num_rna_length = rna_data.length\n",
    "# print(f\"You have loaded the raw rna data and saved as {data_path}. \\n\\\n",
    "# This rna is {num_rna_length} bases long\")\n",
    "# #TODO inform them if it will compare or just calculate\n",
    "# print()"
   ]
  },
  {
   "cell_type": "markdown",
   "metadata": {},
   "source": [
    "After running this block, the processed data \n",
    "will be saved as **rna-folding_bpRNA_CRW_32863_data_latest.pickle**\n",
    "and **data_path** will be updated. We can see that this \n",
    "molecule has 23 bases."
   ]
  },
  {
   "cell_type": "markdown",
   "metadata": {},
   "source": [
    "# Step 2: Build Model"
   ]
  },
  {
   "cell_type": "markdown",
   "metadata": {},
   "source": [
    "In this part, we build the Quadratic Unconstrained \n",
    "Binary Optimization (QUBO) model for rna folding.\n",
    "\n",
    "First, we set the following parameters and \n",
    "initialize the RNAQUBO object. \n",
    "\n",
    "<center>\n",
    "\n",
    "| Parameter | Description | Value |\n",
    "|--- |--- |--- |\n",
    "| PKP | pseudoknot penalty | -1.0, -0.5, 0.0, 0.5, 1.0 |\n",
    "| S | penalty for short stems | 1 |\n",
    "| O | penalty for overlaps | 1e6 |\n",
    "| method | the method of building model | 'qc' |\n",
    "| data_path | pickle file directory of rna data |  |\n",
    "\n",
    " </center>"
   ]
  },
  {
   "cell_type": "code",
   "execution_count": null,
   "metadata": {},
   "outputs": [],
   "source": [
    "# initial the RNAQUBO object\n",
    "init_param = {}\n",
    "method = ['qc-']\n",
    "\n",
    "for mt in method:\n",
    "    if mt == 'qc-':\n",
    "        init_param[mt] = {}\n",
    "        init_param[mt]['params'] = [\"PKP\", \"S\", \"O\", \"data_path\"]\n",
    "    \n",
    "rna_qubo = RNAQUBO(rna_data, method, **init_param)"
   ]
  },
  {
   "cell_type": "code",
   "execution_count": null,
   "metadata": {},
   "outputs": [
    {
     "data": {
      "text/plain": [
       "0"
      ]
     },
     "execution_count": 17,
     "metadata": {},
     "output_type": "execute_result"
    }
   ],
   "source": [
    "# set the parameters for model\n",
    "model_param = {}\n",
    "\n",
    "method = 'qc-'\n",
    "model_param[method] = {}\n",
    "\n",
    "# parameters\n",
    "model_param[method]['PKP'] = [-1.0, -0.5, 0.0, 0.5, 1.0]\n",
    "model_param[method]['S'] = []\n",
    "model_param[method]['O'] = [1e6]\n",
    "model_param[method]['data_path'] = data_path\n",
    "\n",
    "rna_qubo.build_model(**model_param)"
   ]
  },
  {
   "cell_type": "code",
   "execution_count": null,
   "metadata": {},
   "outputs": [
    {
     "name": "stderr",
     "output_type": "stream",
     "text": [
      "INFO:root:method: qc-\n"
     ]
    }
   ],
   "source": [
    "# describe the model parameters\n",
    "model_info = rna_qubo.describe_model()"
   ]
  },
  {
   "cell_type": "code",
   "execution_count": null,
   "metadata": {},
   "outputs": [
    {
     "name": "stderr",
     "output_type": "stream",
     "text": [
      "INFO:root:finish save rna-folding_bpRNA_CRW_32863_model_latest.pickle\n"
     ]
    },
    {
     "name": "stdout",
     "output_type": "stream",
     "text": [
      "You have built the QUBO model and saved it as ./rna-folding_bpRNA_CRW_32863_model_latest.pickle\n"
     ]
    }
   ],
   "source": [
    "# save the model\n",
    "model_path = rna_qubo.save(\"latest\")\n",
    "\n",
    "print(f\"You have built the QUBO model and saved it as {model_path}\")"
   ]
  },
  {
   "cell_type": "code",
   "execution_count": null,
   "metadata": {},
   "outputs": [],
   "source": []
  }
 ],
 "metadata": {
  "kernelspec": {
   "display_name": "Python 3.8.2 64-bit",
   "language": "python",
   "name": "python3"
  },
  "language_info": {
   "codemirror_mode": {
    "name": "ipython",
    "version": 3
   },
   "file_extension": ".py",
   "mimetype": "text/x-python",
   "name": "python",
   "nbconvert_exporter": "python",
   "pygments_lexer": "ipython3",
   "version": "3.8.2"
  },
  "orig_nbformat": 4,
  "vscode": {
   "interpreter": {
    "hash": "31f2aee4e71d21fbe5cf8b01ff0e069b9275f58929596ceb00d14d90e3e16cd6"
   }
  }
 },
 "nbformat": 4,
 "nbformat_minor": 2
}
