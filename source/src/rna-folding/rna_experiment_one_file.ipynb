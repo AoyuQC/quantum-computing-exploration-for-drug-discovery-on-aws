{
 "cells": [
  {
   "cell_type": "code",
   "execution_count": 1,
   "metadata": {},
   "outputs": [
    {
     "name": "stderr",
     "output_type": "stream",
     "text": [
      "2022-08-29 09:57:25,894 dwave.cloud INFO MainThread Log level for 'dwave.cloud' namespace set to 0\n"
     ]
    }
   ],
   "source": [
    "from utility.RNAParser import RNAData\n",
    "from utility.RNAQUBO import RNAQUBO\n",
    "from utility.AnnealerOptimizer import Annealer\n",
    "# from utility.ResultProcess import ResultParser\n",
    "import time\n",
    "\n",
    "timestamp = time.strftime(\"%Y%m%d-%H\")\n",
    "\n",
    "# import packages, including those to connect with AWS BraKet\n",
    "\n",
    "import numpy as np\n",
    "import pandas as pd\n",
    "import math\n",
    "import os\n",
    "import glob\n",
    "import re\n",
    "\n",
    "from braket.aws import AwsDevice\n",
    "from braket.ocean_plugin import BraketSampler, BraketDWaveSampler"
   ]
  },
  {
   "cell_type": "markdown",
   "metadata": {},
   "source": [
    "# Step 1: Prepare Data"
   ]
  },
  {
   "cell_type": "markdown",
   "metadata": {},
   "source": [
    "In this part, we load the folder with the raw rna data for experimentation. To evaluate the quantum solution and the actual solution include both fasta and ct files. To only generate a quantum solution, upload a fasta file.\n"
   ]
  },
  {
   "cell_type": "code",
   "execution_count": 2,
   "metadata": {},
   "outputs": [],
   "source": [
    "# initial parameters for experiment data\n",
    "s3_bucket = f\"xxxx\" # change to the name of bucket created in your deployment\n",
    "prefix = \"xxxx\" # the name of the folder in the bucket\n",
    "\n",
    "# enter folder path, for instance './rna-data'\n",
    "raw_path_folder = './rna-data'\n"
   ]
  },
  {
   "cell_type": "code",
   "execution_count": 3,
   "metadata": {},
   "outputs": [
    {
     "name": "stderr",
     "output_type": "stream",
     "text": [
      "INFO:root:finish save rna-folding_data_latest.pickle\n"
     ]
    }
   ],
   "source": [
    "rna_data = RNAData(raw_path_folder)\n",
    "\n",
    "data_path = rna_data.save(\"latest\")\n",
    "\n",
    "# print(f\"You have loaded the raw rna data and saved as {data_path}. \\n\\\n",
    "# This rna is {num_rna_length} bases long\")\n",
    "# #TODO inform them if it will compare or just calculate\n",
    "# print()"
   ]
  },
  {
   "cell_type": "markdown",
   "metadata": {},
   "source": [
    "After running this block, the processed data \n",
    "will be saved as **rna-folding_bpRNA_CRW_32863_data_latest.pickle**\n",
    "and **data_path** will be updated. We can see that this \n",
    "molecule has 23 bases."
   ]
  },
  {
   "cell_type": "markdown",
   "metadata": {},
   "source": [
    "# Step 2: Build Model"
   ]
  },
  {
   "cell_type": "markdown",
   "metadata": {},
   "source": [
    "In this part, we build the Quadratic Unconstrained \n",
    "Binary Optimization (QUBO) model for rna folding.\n",
    "\n",
    "First, we set the following parameters and \n",
    "initialize the RNAQUBO object. \n",
    "\n",
    "<center>\n",
    "\n",
    "| Parameter | Description | Value |\n",
    "|--- |--- |--- |\n",
    "| PKP | pseudoknot penalty | -1.0, -0.5, 0.0, 0.5, 1.0 |\n",
    "| S | penalty for short stems | 1 |\n",
    "| O | penalty for overlaps | 1e6 |\n",
    "| method | the method of building model | 'qc' |\n",
    "| data_path | pickle file directory of rna data |  |\n",
    "\n",
    " </center>"
   ]
  },
  {
   "cell_type": "code",
   "execution_count": 4,
   "metadata": {},
   "outputs": [
    {
     "name": "stderr",
     "output_type": "stream",
     "text": [
      "INFO:root:initial qc for constructing rna QUBO\n",
      "INFO:root:initial qc for constructing rna QUBO\n"
     ]
    }
   ],
   "source": [
    "# initial the RNAQUBO object\n",
    "init_param = {}\n",
    "method = ['qc']\n",
    "\n",
    "for mt in method:\n",
    "    if mt == 'qc':\n",
    "        init_param[mt] = {}\n",
    "        init_param[mt]['params'] = [\"PKP\", \"S\", \"O\"]\n",
    "    \n",
    "rna_qubo = RNAQUBO( data_path, method, **init_param)"
   ]
  },
  {
   "cell_type": "code",
   "execution_count": 5,
   "metadata": {},
   "outputs": [
    {
     "data": {
      "text/plain": [
       "0"
      ]
     },
     "execution_count": 5,
     "metadata": {},
     "output_type": "execute_result"
    }
   ],
   "source": [
    "# set the parameters for model\n",
    "model_param = {}\n",
    "\n",
    "method = 'qc'\n",
    "model_param[method] = {}\n",
    "\n",
    "# parameters\n",
    "model_param[method]['PKP'] = [-1.0, -0.5, 0.0, 0.5, 1.0]\n",
    "model_param[method]['S'] = [1]\n",
    "model_param[method]['O'] = [1e6]\n",
    "\n",
    "rna_qubo.build_models(**model_param)"
   ]
  },
  {
   "cell_type": "code",
   "execution_count": 6,
   "metadata": {},
   "outputs": [
    {
     "name": "stderr",
     "output_type": "stream",
     "text": [
      "INFO:root:method: qc\n",
      "INFO:root:The model_name should be bpRNA_CRW_32863_{PKP}_{O}_{S}\n",
      "INFO:root:param: PKP, value {-0.5, 0.0, 1.0, 0.5, -1.0}\n",
      "INFO:root:param: S, value {1}\n",
      "INFO:root:param: O, value {1000000.0}\n",
      "INFO:root:method: qc\n",
      "INFO:root:The model_name should be bpRNA_CRW_8500_{PKP}_{O}_{S}\n",
      "INFO:root:param: PKP, value {-0.5, 0.0, 1.0, 0.5, -1.0}\n",
      "INFO:root:param: S, value {1}\n",
      "INFO:root:param: O, value {1000000.0}\n"
     ]
    },
    {
     "name": "stdout",
     "output_type": "stream",
     "text": [
      "\n",
      "\n"
     ]
    }
   ],
   "source": [
    "# describe the model parameters\n",
    "model_info = rna_qubo.describe_models()"
   ]
  },
  {
   "cell_type": "code",
   "execution_count": 7,
   "metadata": {},
   "outputs": [
    {
     "name": "stderr",
     "output_type": "stream",
     "text": [
      "INFO:root:finish save rna_folding_latest.pickle\n"
     ]
    },
    {
     "name": "stdout",
     "output_type": "stream",
     "text": [
      "You have built the QUBO models and saved them as rna_latest.pickle\n"
     ]
    }
   ],
   "source": [
    "# save the model\n",
    "model_path = rna_qubo.save(\"latest\")\n",
    "\n",
    "print(f\"You have built the QUBO models and saved them as rna_latest.pickle\")"
   ]
  },
  {
   "cell_type": "markdown",
   "metadata": {},
   "source": [
    "# Step 3: Optimize Configuration"
   ]
  },
  {
   "cell_type": "markdown",
   "metadata": {},
   "source": [
    "In this part, we use SA and QA to find the optimized configuration of rna folding.\n",
    "At first, we load the model file using **RNAQUBO** object"
   ]
  },
  {
   "cell_type": "code",
   "execution_count": 8,
   "metadata": {},
   "outputs": [],
   "source": [
    "rna_qubo_optimize = RNAQUBO.load(model_path)"
   ]
  },
  {
   "cell_type": "code",
   "execution_count": 9,
   "metadata": {},
   "outputs": [
    {
     "name": "stderr",
     "output_type": "stream",
     "text": [
      "INFO:root:method: qc\n",
      "INFO:root:The model_name should be bpRNA_CRW_32863_{PKP}_{O}_{S}\n",
      "INFO:root:param: PKP, value {-0.5, 0.0, 1.0, 0.5, -1.0}\n",
      "INFO:root:param: S, value {1}\n",
      "INFO:root:param: O, value {1000000.0}\n",
      "INFO:root:method: qc\n",
      "INFO:root:The model_name should be bpRNA_CRW_8500_{PKP}_{O}_{S}\n",
      "INFO:root:param: PKP, value {-0.5, 0.0, 1.0, 0.5, -1.0}\n",
      "INFO:root:param: S, value {1}\n",
      "INFO:root:param: O, value {1000000.0}\n"
     ]
    },
    {
     "name": "stdout",
     "output_type": "stream",
     "text": [
      "\n",
      "\n"
     ]
    }
   ],
   "source": [
    "model_info = rna_qubo_optimize.describe_models()"
   ]
  },
  {
   "cell_type": "code",
   "execution_count": 10,
   "metadata": {},
   "outputs": [],
   "source": [
    "# get the model you want to optimize\n",
    "rna_name = 'bpRNA_CRW_32863'\n",
    "PKP = 0.5\n",
    "O = 1e6\n",
    "S = 1\n",
    "method = 'qc'\n",
    "\n",
    "model_name = \"{}_{}_{}_{}\".format(rna_name, PKP, O, S)\n",
    "\n",
    "qubo_model = rna_qubo_optimize.get_model(rna_name, method, model_name)"
   ]
  },
  {
   "cell_type": "markdown",
   "metadata": {},
   "source": [
    "After we get the qubo model, we need to set the parameters for optimization: \n",
    "| Parameter | Description | Value |\n",
    "|--- |--- |--- |\n",
    "|method | annealing method for QUBO problem |'dwave-sa': use the simulated annealer in ocean toolkit<br> 'dwave-qa': use the quantum annealer|\n",
    "|shots| number of reads, refer to [dwave-sa](https://docs.ocean.dwavesys.com/projects/neal/en/latest/reference/generated/neal.sampler.SimulatedAnnealingSampler.sample.html#neal.sampler.SimulatedAnnealingSampler.sample) and [dwave-qa](https://amazon-braket-ocean-plugin-python.readthedocs.io/en/latest/_apidoc/braket.ocean_plugin.braket_sampler.html) for details |1 to 10,000|\n",
    "|bucket | the s3 bucket to store your results | - |\n",
    "|prefix | the name of the folder in your s3 bucket | - |\n",
    "|device | the arn name to run your quantum annealing| 'arn:aws:braket:::device/qpu/d-wave/Advantage_system4' <br> 'arn:aws:braket:::device/qpu/d-wave/DW_2000Q_6'|\n",
    "\n",
    "Then, we can run the SA for this problem:"
   ]
  },
  {
   "cell_type": "code",
   "execution_count": 11,
   "metadata": {},
   "outputs": [
    {
     "name": "stderr",
     "output_type": "stream",
     "text": [
      "INFO:root:use neal simulated annealer (c++) from dimod\n"
     ]
    }
   ],
   "source": [
    "method = 'neal-sa'\n",
    "\n",
    "optimizer_param = {}\n",
    "optimizer_param['shots'] = 1000\n",
    "\n",
    "sa_optimizer = Annealer(qubo_model, method, **optimizer_param)"
   ]
  },
  {
   "cell_type": "code",
   "execution_count": 12,
   "metadata": {},
   "outputs": [
    {
     "name": "stderr",
     "output_type": "stream",
     "text": [
      "INFO:root:fit() ...\n",
      "INFO:root:neal-sa save to local\n",
      "INFO:root:finish save neal-sa_result.pickle\n"
     ]
    }
   ],
   "source": [
    "sa_optimize_result = sa_optimizer.fit()"
   ]
  },
  {
   "cell_type": "code",
   "execution_count": null,
   "metadata": {},
   "outputs": [],
   "source": []
  }
 ],
 "metadata": {
  "kernelspec": {
   "display_name": "Python 3.8.2 64-bit",
   "language": "python",
   "name": "python3"
  },
  "language_info": {
   "codemirror_mode": {
    "name": "ipython",
    "version": 3
   },
   "file_extension": ".py",
   "mimetype": "text/x-python",
   "name": "python",
   "nbconvert_exporter": "python",
   "pygments_lexer": "ipython3",
   "version": "3.8.2"
  },
  "orig_nbformat": 4,
  "vscode": {
   "interpreter": {
    "hash": "aee8b7b246df8f9039afb4144a1f6fd8d2ca17a180786b69acc140d282b71a49"
   }
  }
 },
 "nbformat": 4,
 "nbformat_minor": 2
}
