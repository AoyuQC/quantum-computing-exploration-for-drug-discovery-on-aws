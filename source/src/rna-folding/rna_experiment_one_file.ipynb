{
 "cells": [
  {
   "cell_type": "code",
   "execution_count": 1,
   "metadata": {},
   "outputs": [
    {
     "name": "stderr",
     "output_type": "stream",
     "text": [
      "2022-09-20 09:33:58,863 dwave.cloud INFO MainThread Log level for 'dwave.cloud' namespace set to 0\n"
     ]
    }
   ],
   "source": [
    "from utility.RNAParser import RNAData\n",
    "from utility.RNAQUBO import RNAQUBO\n",
    "from utility.AnnealerOptimizer import Annealer\n",
    "# from utility.ResultProcess import ResultParser\n",
    "import time\n",
    "\n",
    "timestamp = time.strftime(\"%Y%m%d-%H\")\n",
    "\n",
    "import numpy as np\n",
    "import pandas as pd\n",
    "import math\n",
    "import os\n",
    "import glob\n",
    "import re"
   ]
  },
  {
   "cell_type": "markdown",
   "metadata": {},
   "source": [
    "# Step 1: Prepare Data"
   ]
  },
  {
   "cell_type": "markdown",
   "metadata": {},
   "source": [
    "In this part, we load the folder with the raw rna data for experimentation. To evaluate the quantum solution and the actual solution include both fasta and ct files. To only generate a quantum solution, upload a fasta file.\n"
   ]
  },
  {
   "cell_type": "code",
   "execution_count": 2,
   "metadata": {},
   "outputs": [],
   "source": [
    "# initial parameters for experiment data\n",
    "s3_bucket = f\"xxxx\" # change to the name of bucket created in your deployment\n",
    "prefix = \"xxxx\" # the name of the folder in the bucket\n",
    "\n",
    "# enter folder path, for instance './rna-data'\n",
    "raw_path_folder = './rna-data-test'\n"
   ]
  },
  {
   "cell_type": "code",
   "execution_count": 3,
   "metadata": {},
   "outputs": [
    {
     "name": "stderr",
     "output_type": "stream",
     "text": [
      "INFO:root:finish save rna-folding_data_latest.pickle\n"
     ]
    }
   ],
   "source": [
    "rna_data = RNAData(raw_path_folder)\n",
    "\n",
    "data_path = rna_data.save(\"latest\")\n",
    "\n",
    "# print(f\"You have loaded the raw rna data and saved as {data_path}. \\n\\\n",
    "# This rna is {num_rna_length} bases long\")\n",
    "# #TODO inform them if it will compare or just calculate\n",
    "# print()"
   ]
  },
  {
   "cell_type": "code",
   "execution_count": 4,
   "metadata": {},
   "outputs": [
    {
     "data": {
      "text/plain": [
       "{}"
      ]
     },
     "execution_count": 4,
     "metadata": {},
     "output_type": "execute_result"
    }
   ],
   "source": [
    "rna_data.rna_files"
   ]
  },
  {
   "cell_type": "markdown",
   "metadata": {},
   "source": [
    "After running this block, the processed data \n",
    "will be saved as **rna-folding_bpRNA_CRW_32863_data_latest.pickle**\n",
    "and **data_path** will be updated. We can see that this \n",
    "molecule has 23 bases."
   ]
  },
  {
   "cell_type": "markdown",
   "metadata": {},
   "source": [
    "# Step 2: Build Model"
   ]
  },
  {
   "cell_type": "markdown",
   "metadata": {},
   "source": [
    "In this part, we build the Quadratic Unconstrained \n",
    "Binary Optimization (QUBO) model for rna folding.\n",
    "\n",
    "First, we set the following parameters and \n",
    "initialize the RNAQUBO object. \n",
    "\n",
    "<center>\n",
    "\n",
    "| Parameter | Description | Value |\n",
    "|--- |--- |--- |\n",
    "| PKP | pseudoknot penalty | -1.0, -0.5, 0.0, 0.5, 1.0 |\n",
    "| S | penalty for short stems | 1 |\n",
    "| O | penalty for overlaps | 1e6 |\n",
    "| method | the method of building model | 'qc' |\n",
    "| data_path | pickle file directory of rna data |  |\n",
    "\n",
    " </center>"
   ]
  },
  {
   "cell_type": "code",
   "execution_count": 7,
   "metadata": {},
   "outputs": [
    {
     "name": "stderr",
     "output_type": "stream",
     "text": [
      "INFO:root:initial qc for constructing rna QUBO\n",
      "INFO:root:initial qc for constructing rna QUBO\n"
     ]
    }
   ],
   "source": [
    "# initial the RNAQUBO object\n",
    "init_param = {}\n",
    "method = ['qc']\n",
    "\n",
    "for mt in method:\n",
    "    if mt == 'qc':\n",
    "        init_param[mt] = {}\n",
    "        init_param[mt]['params'] = [\"PKP\", \"S\", \"O\"]\n",
    "    \n",
    "rna_qubo = RNAQUBO( data_path, method, **init_param)"
   ]
  },
  {
   "cell_type": "code",
   "execution_count": 8,
   "metadata": {},
   "outputs": [
    {
     "data": {
      "text/plain": [
       "0"
      ]
     },
     "execution_count": 8,
     "metadata": {},
     "output_type": "execute_result"
    }
   ],
   "source": [
    "# set the parameters for model\n",
    "model_param = {}\n",
    "\n",
    "method = 'qc'\n",
    "model_param[method] = {}\n",
    "\n",
    "# parameters\n",
    "model_param[method]['PKP'] = [-1.0, -0.5, 0.0, 0.5, 1.0]\n",
    "model_param[method]['S'] = [1]\n",
    "model_param[method]['O'] = [1e6]\n",
    "\n",
    "rna_qubo.build_models(**model_param)"
   ]
  },
  {
   "cell_type": "code",
   "execution_count": 9,
   "metadata": {},
   "outputs": [
    {
     "name": "stderr",
     "output_type": "stream",
     "text": [
      "INFO:root:method: qc\n",
      "INFO:root:The model_name should be bpRNA_CRW_32863_{PKP}_{O}_{S}\n",
      "INFO:root:param: PKP, value {-0.5, 0.0, 1.0, 0.5, -1.0}\n",
      "INFO:root:param: S, value {1}\n",
      "INFO:root:param: O, value {1000000.0}\n",
      "INFO:root:method: qc\n",
      "INFO:root:The model_name should be bpRNA_CRW_8500_{PKP}_{O}_{S}\n",
      "INFO:root:param: PKP, value {-0.5, 0.0, 1.0, 0.5, -1.0}\n",
      "INFO:root:param: S, value {1}\n",
      "INFO:root:param: O, value {1000000.0}\n"
     ]
    },
    {
     "name": "stdout",
     "output_type": "stream",
     "text": [
      "\n",
      "\n"
     ]
    }
   ],
   "source": [
    "# describe the model parameters\n",
    "model_info = rna_qubo.describe_models()"
   ]
  },
  {
   "cell_type": "code",
   "execution_count": 11,
   "metadata": {},
   "outputs": [
    {
     "name": "stderr",
     "output_type": "stream",
     "text": [
      "INFO:root:finish save rna_folding_latest.pickle\n"
     ]
    },
    {
     "name": "stdout",
     "output_type": "stream",
     "text": [
      "You have built the QUBO models and saved them as rna_folding_latest.pickle\n"
     ]
    }
   ],
   "source": [
    "# save the model\n",
    "model_path = rna_qubo.save(\"latest\")\n",
    "\n",
    "print(f\"You have built the QUBO models and saved them as rna_folding_latest.pickle\")"
   ]
  },
  {
   "cell_type": "code",
   "execution_count": 12,
   "metadata": {},
   "outputs": [],
   "source": [
    "!mv rna_folding_latest.pickle rna-data/"
   ]
  },
  {
   "cell_type": "markdown",
   "metadata": {},
   "source": [
    "# Step 3: Optimize Configuration"
   ]
  },
  {
   "cell_type": "markdown",
   "metadata": {},
   "source": [
    "In this part, we use SA and QA to find the optimized configuration of rna folding.\n",
    "At first, we load the model file using **RNAQUBO** object"
   ]
  },
  {
   "cell_type": "code",
   "execution_count": 13,
   "metadata": {},
   "outputs": [
    {
     "ename": "FileNotFoundError",
     "evalue": "[Errno 2] No such file or directory: './rna_folding_latest.pickle'",
     "output_type": "error",
     "traceback": [
      "\u001b[0;31m---------------------------------------------------------------------------\u001b[0m",
      "\u001b[0;31mFileNotFoundError\u001b[0m                         Traceback (most recent call last)",
      "Input \u001b[0;32mIn [13]\u001b[0m, in \u001b[0;36m<cell line: 1>\u001b[0;34m()\u001b[0m\n\u001b[0;32m----> 1\u001b[0m rna_qubo_optimize \u001b[38;5;241m=\u001b[39m \u001b[43mRNAQUBO\u001b[49m\u001b[38;5;241;43m.\u001b[39;49m\u001b[43mload\u001b[49m\u001b[43m(\u001b[49m\u001b[43mmodel_path\u001b[49m\u001b[43m)\u001b[49m\n",
      "File \u001b[0;32m~/workplace/aoyu/quantum-computing-exploration-for-drug-discovery-on-aws/source/src/rna-folding/utility/RNAQUBO.py:144\u001b[0m, in \u001b[0;36mRNAQUBO.load\u001b[0;34m(cls, filename)\u001b[0m\n\u001b[1;32m    142\u001b[0m \u001b[38;5;129m@classmethod\u001b[39m\n\u001b[1;32m    143\u001b[0m \u001b[38;5;28;01mdef\u001b[39;00m \u001b[38;5;21mload\u001b[39m(\u001b[38;5;28mcls\u001b[39m, filename):\n\u001b[0;32m--> 144\u001b[0m     \u001b[38;5;28;01mwith\u001b[39;00m \u001b[38;5;28;43mopen\u001b[39;49m\u001b[43m(\u001b[49m\u001b[43mfilename\u001b[49m\u001b[43m,\u001b[49m\u001b[43m \u001b[49m\u001b[38;5;124;43m\"\u001b[39;49m\u001b[38;5;124;43mrb\u001b[39;49m\u001b[38;5;124;43m\"\u001b[39;49m\u001b[43m)\u001b[49m \u001b[38;5;28;01mas\u001b[39;00m f:\n\u001b[1;32m    145\u001b[0m         \u001b[38;5;28;01mreturn\u001b[39;00m pickle\u001b[38;5;241m.\u001b[39mload(f)\n",
      "\u001b[0;31mFileNotFoundError\u001b[0m: [Errno 2] No such file or directory: './rna_folding_latest.pickle'"
     ]
    }
   ],
   "source": [
    "rna_qubo_optimize = RNAQUBO.load(model_path)"
   ]
  },
  {
   "cell_type": "code",
   "execution_count": 9,
   "metadata": {},
   "outputs": [
    {
     "name": "stderr",
     "output_type": "stream",
     "text": [
      "INFO:root:method: qc\n",
      "INFO:root:The model_name should be bpRNA_CRW_32863_{PKP}_{O}_{S}\n",
      "INFO:root:param: PKP, value {-0.5, 0.0, 1.0, 0.5, -1.0}\n",
      "INFO:root:param: S, value {1}\n",
      "INFO:root:param: O, value {1000000.0}\n",
      "INFO:root:method: qc\n",
      "INFO:root:The model_name should be bpRNA_CRW_8500_{PKP}_{O}_{S}\n",
      "INFO:root:param: PKP, value {-0.5, 0.0, 1.0, 0.5, -1.0}\n",
      "INFO:root:param: S, value {1}\n",
      "INFO:root:param: O, value {1000000.0}\n"
     ]
    },
    {
     "name": "stdout",
     "output_type": "stream",
     "text": [
      "\n",
      "\n"
     ]
    }
   ],
   "source": [
    "model_info = rna_qubo_optimize.describe_models()"
   ]
  },
  {
   "cell_type": "code",
   "execution_count": 10,
   "metadata": {},
   "outputs": [],
   "source": [
    "# get the model you want to optimize\n",
    "rna_name = 'bpRNA_CRW_32863'\n",
    "PKP = 0.5\n",
    "O = 1e6\n",
    "S = 1\n",
    "method = 'qc'\n",
    "\n",
    "model_name = \"{}_{}_{}_{}\".format(rna_name, PKP, O, S)\n",
    "\n",
    "qubo_model = rna_qubo_optimize.get_model(rna_name, method, model_name)"
   ]
  },
  {
   "cell_type": "markdown",
   "metadata": {},
   "source": [
    "After we get the qubo model, we need to set the parameters for optimization: \n",
    "| Parameter | Description | Value |\n",
    "|--- |--- |--- |\n",
    "|method | annealing method for QUBO problem |'dwave-sa': use the simulated annealer in ocean toolkit<br> 'dwave-qa': use the quantum annealer|\n",
    "|shots| number of reads, refer to [dwave-sa](https://docs.ocean.dwavesys.com/projects/neal/en/latest/reference/generated/neal.sampler.SimulatedAnnealingSampler.sample.html#neal.sampler.SimulatedAnnealingSampler.sample) and [dwave-qa](https://amazon-braket-ocean-plugin-python.readthedocs.io/en/latest/_apidoc/braket.ocean_plugin.braket_sampler.html) for details |1 to 10,000|\n",
    "|bucket | the s3 bucket to store your results | - |\n",
    "|prefix | the name of the folder in your s3 bucket | - |\n",
    "|device | the arn name to run your quantum annealing| 'arn:aws:braket:::device/qpu/d-wave/Advantage_system4' <br> 'arn:aws:braket:::device/qpu/d-wave/DW_2000Q_6'|\n",
    "\n",
    "Then, we can run the SA for this problem:"
   ]
  },
  {
   "cell_type": "code",
   "execution_count": 11,
   "metadata": {},
   "outputs": [
    {
     "name": "stderr",
     "output_type": "stream",
     "text": [
      "INFO:root:use neal simulated annealer (c++) from dimod\n"
     ]
    }
   ],
   "source": [
    "method = 'neal-sa'\n",
    "\n",
    "optimizer_param = {}\n",
    "optimizer_param['shots'] = 1000\n",
    "\n",
    "sa_optimizer = Annealer(qubo_model, method, **optimizer_param)"
   ]
  },
  {
   "cell_type": "code",
   "execution_count": 12,
   "metadata": {},
   "outputs": [
    {
     "name": "stderr",
     "output_type": "stream",
     "text": [
      "INFO:root:fit() ...\n"
     ]
    },
    {
     "ename": "ValueError",
     "evalue": "diag requires an array of at least two dimensions",
     "output_type": "error",
     "traceback": [
      "\u001b[0;31m---------------------------------------------------------------------------\u001b[0m",
      "\u001b[0;31mValueError\u001b[0m                                Traceback (most recent call last)",
      "\u001b[1;32m/Users/audrey/Documents/GitHub/quantum-computing-exploration-for-drug-discovery-on-aws/source/src/rna-folding/rna_experiment_one_file.ipynb Cell 20\u001b[0m in \u001b[0;36m<cell line: 1>\u001b[0;34m()\u001b[0m\n\u001b[0;32m----> <a href='vscode-notebook-cell:/Users/audrey/Documents/GitHub/quantum-computing-exploration-for-drug-discovery-on-aws/source/src/rna-folding/rna_experiment_one_file.ipynb#X26sZmlsZQ%3D%3D?line=0'>1</a>\u001b[0m sa_optimize_result \u001b[39m=\u001b[39m sa_optimizer\u001b[39m.\u001b[39;49mfit()\n",
      "File \u001b[0;32m~/Documents/GitHub/quantum-computing-exploration-for-drug-discovery-on-aws/source/src/rna-folding/utility/AnnealerOptimizer.py:80\u001b[0m, in \u001b[0;36mAnnealer.fit\u001b[0;34m(self)\u001b[0m\n\u001b[1;32m     76\u001b[0m start \u001b[39m=\u001b[39m time\u001b[39m.\u001b[39mtime()\n\u001b[1;32m     77\u001b[0m \u001b[39mif\u001b[39;00m \u001b[39mself\u001b[39m\u001b[39m.\u001b[39mmethod \u001b[39m==\u001b[39m \u001b[39m\"\u001b[39m\u001b[39mdwave-sa\u001b[39m\u001b[39m\"\u001b[39m \u001b[39mor\u001b[39;00m \u001b[39mself\u001b[39m\u001b[39m.\u001b[39mmethod \u001b[39m==\u001b[39m \u001b[39m\"\u001b[39m\u001b[39mneal-sa\u001b[39m\u001b[39m\"\u001b[39m:\n\u001b[1;32m     78\u001b[0m     \u001b[39m# response = self.sampler.sample(\u001b[39;00m\n\u001b[1;32m     79\u001b[0m     \u001b[39m#     self.qubo, num_reads=self.param[\"shots\"]).aggregate()\u001b[39;00m\n\u001b[0;32m---> 80\u001b[0m     \u001b[39mself\u001b[39m\u001b[39m.\u001b[39mresponse \u001b[39m=\u001b[39m \u001b[39mself\u001b[39;49m\u001b[39m.\u001b[39;49msampler\u001b[39m.\u001b[39;49msample_qubo(\n\u001b[1;32m     81\u001b[0m         \u001b[39mself\u001b[39;49m\u001b[39m.\u001b[39;49mqubo, num_reads\u001b[39m=\u001b[39;49m\u001b[39mself\u001b[39;49m\u001b[39m.\u001b[39;49mparam[\u001b[39m\"\u001b[39;49m\u001b[39mshots\u001b[39;49m\u001b[39m\"\u001b[39;49m])\n\u001b[1;32m     82\u001b[0m \u001b[39melif\u001b[39;00m \u001b[39mself\u001b[39m\u001b[39m.\u001b[39mmethod \u001b[39m==\u001b[39m \u001b[39m\"\u001b[39m\u001b[39mdwave-qa\u001b[39m\u001b[39m\"\u001b[39m:\n\u001b[1;32m     83\u001b[0m     \u001b[39m# response = self.sampler.sample(\u001b[39;00m\n\u001b[1;32m     84\u001b[0m     \u001b[39m#     self.qubo, num_reads=self.param[\"shots\"]).aggregate()\u001b[39;00m\n\u001b[1;32m     85\u001b[0m     \u001b[39m# actually it's quantum task\u001b[39;00m\n\u001b[1;32m     86\u001b[0m     \u001b[39mself\u001b[39m\u001b[39m.\u001b[39mresponse \u001b[39m=\u001b[39m \u001b[39mself\u001b[39m\u001b[39m.\u001b[39msampler\u001b[39m.\u001b[39msample_qubo(\n\u001b[1;32m     87\u001b[0m         \u001b[39mself\u001b[39m\u001b[39m.\u001b[39mqubo, shots\u001b[39m=\u001b[39m\u001b[39mself\u001b[39m\u001b[39m.\u001b[39mparam[\u001b[39m\"\u001b[39m\u001b[39mshots\u001b[39m\u001b[39m\"\u001b[39m])\n",
      "File \u001b[0;32m/Library/Frameworks/Python.framework/Versions/3.8/lib/python3.8/site-packages/dimod/core/sampler.py:290\u001b[0m, in \u001b[0;36mSampler.sample_qubo\u001b[0;34m(self, Q, **parameters)\u001b[0m\n\u001b[1;32m    268\u001b[0m \u001b[39m@samplemixinmethod\u001b[39m\n\u001b[1;32m    269\u001b[0m \u001b[39mdef\u001b[39;00m \u001b[39msample_qubo\u001b[39m(\u001b[39mself\u001b[39m, Q: typing\u001b[39m.\u001b[39mMapping[typing\u001b[39m.\u001b[39mTuple[Variable, Variable], Bias],\n\u001b[1;32m    270\u001b[0m                 \u001b[39m*\u001b[39m\u001b[39m*\u001b[39mparameters)  \u001b[39m-\u001b[39m\u001b[39m>\u001b[39m SampleSet:\n\u001b[1;32m    271\u001b[0m     \u001b[39m\"\"\"Sample from a QUBO using the implemented sample method.\u001b[39;00m\n\u001b[1;32m    272\u001b[0m \n\u001b[1;32m    273\u001b[0m \u001b[39m    This method is inherited from the :class:`.Sampler` base class.\u001b[39;00m\n\u001b[0;32m   (...)\u001b[0m\n\u001b[1;32m    288\u001b[0m \n\u001b[1;32m    289\u001b[0m \u001b[39m    \"\"\"\u001b[39;00m\n\u001b[0;32m--> 290\u001b[0m     bqm \u001b[39m=\u001b[39m BinaryQuadraticModel\u001b[39m.\u001b[39;49mfrom_qubo(Q)\n\u001b[1;32m    291\u001b[0m     \u001b[39mreturn\u001b[39;00m \u001b[39mself\u001b[39m\u001b[39m.\u001b[39msample(bqm, \u001b[39m*\u001b[39m\u001b[39m*\u001b[39mparameters)\n",
      "File \u001b[0;32m/Library/Frameworks/Python.framework/Versions/3.8/lib/python3.8/site-packages/dimod/binary/binary_quadratic_model.py:1450\u001b[0m, in \u001b[0;36mBinaryQuadraticModel.from_qubo\u001b[0;34m(cls, Q, offset)\u001b[0m\n\u001b[1;32m   1433\u001b[0m \u001b[39m@classmethod\u001b[39m\n\u001b[1;32m   1434\u001b[0m \u001b[39mdef\u001b[39;00m \u001b[39mfrom_qubo\u001b[39m(\u001b[39mcls\u001b[39m, Q: Mapping, offset: \u001b[39mfloat\u001b[39m \u001b[39m=\u001b[39m \u001b[39m0\u001b[39m):\n\u001b[1;32m   1435\u001b[0m     \u001b[39m\"\"\"Create a binary quadratic model from a QUBO problem.\u001b[39;00m\n\u001b[1;32m   1436\u001b[0m \n\u001b[1;32m   1437\u001b[0m \u001b[39m    Args:\u001b[39;00m\n\u001b[0;32m   (...)\u001b[0m\n\u001b[1;32m   1448\u001b[0m \n\u001b[1;32m   1449\u001b[0m \u001b[39m    \"\"\"\u001b[39;00m\n\u001b[0;32m-> 1450\u001b[0m     \u001b[39mreturn\u001b[39;00m \u001b[39mcls\u001b[39;49m({}, Q, offset, Vartype\u001b[39m.\u001b[39;49mBINARY)\n",
      "File \u001b[0;32m/Library/Frameworks/Python.framework/Versions/3.8/lib/python3.8/site-packages/dimod/binary/binary_quadratic_model.py:203\u001b[0m, in \u001b[0;36mBinaryQuadraticModel.__init__\u001b[0;34m(self, offset, vartype, dtype, *args)\u001b[0m\n\u001b[1;32m    197\u001b[0m     \u001b[39mif\u001b[39;00m offset \u001b[39mis\u001b[39;00m \u001b[39mnot\u001b[39;00m \u001b[39mNone\u001b[39;00m:\n\u001b[1;32m    198\u001b[0m         \u001b[39m# we don't strictly need to fail in this case, we could instead\u001b[39;00m\n\u001b[1;32m    199\u001b[0m         \u001b[39m# add it, but I think this is closer to the normal python behavior\u001b[39;00m\n\u001b[1;32m    200\u001b[0m         \u001b[39m# of failing if an argument is provided twice\u001b[39;00m\n\u001b[1;32m    201\u001b[0m         \u001b[39mraise\u001b[39;00m \u001b[39mTypeError\u001b[39;00m(\u001b[39m\"\u001b[39m\u001b[39mBinaryQuadraticModel() got multiple values for \u001b[39m\u001b[39m'\u001b[39m\u001b[39moffset\u001b[39m\u001b[39m'\u001b[39m\u001b[39m\"\u001b[39m)\n\u001b[0;32m--> 203\u001b[0m     \u001b[39mself\u001b[39;49m\u001b[39m.\u001b[39;49m_init_components(\u001b[39m*\u001b[39;49margs, dtype\u001b[39m=\u001b[39;49mdtype)\n\u001b[1;32m    204\u001b[0m \u001b[39melse\u001b[39;00m:\n\u001b[1;32m    205\u001b[0m     msg \u001b[39m=\u001b[39m \u001b[39m\"\u001b[39m\u001b[39m__init__() takes 4 positional arguments but \u001b[39m\u001b[39m{}\u001b[39;00m\u001b[39m were given.\u001b[39m\u001b[39m\"\u001b[39m\n",
      "File \u001b[0;32m/Library/Frameworks/Python.framework/Versions/3.8/lib/python3.8/site-packages/dimod/binary/binary_quadratic_model.py:249\u001b[0m, in \u001b[0;36mBinaryQuadraticModel._init_components\u001b[0;34m(self, linear, quadratic, offset, vartype, dtype)\u001b[0m\n\u001b[1;32m    246\u001b[0m     dt \u001b[39m=\u001b[39m \u001b[39mNone\u001b[39;00m\n\u001b[1;32m    248\u001b[0m quadratic \u001b[39m=\u001b[39m np\u001b[39m.\u001b[39masarray(quadratic, order\u001b[39m=\u001b[39m\u001b[39m'\u001b[39m\u001b[39mC\u001b[39m\u001b[39m'\u001b[39m, dtype\u001b[39m=\u001b[39mdt)\n\u001b[0;32m--> 249\u001b[0m diag \u001b[39m=\u001b[39m np\u001b[39m.\u001b[39;49mdiagonal(quadratic)\n\u001b[1;32m    250\u001b[0m \u001b[39mif\u001b[39;00m diag\u001b[39m.\u001b[39many():\n\u001b[1;32m    251\u001b[0m     \u001b[39mif\u001b[39;00m vartype \u001b[39mis\u001b[39;00m Vartype\u001b[39m.\u001b[39mSPIN:\n",
      "File \u001b[0;32m<__array_function__ internals>:180\u001b[0m, in \u001b[0;36mdiagonal\u001b[0;34m(*args, **kwargs)\u001b[0m\n",
      "File \u001b[0;32m/Library/Frameworks/Python.framework/Versions/3.8/lib/python3.8/site-packages/numpy/core/fromnumeric.py:1679\u001b[0m, in \u001b[0;36mdiagonal\u001b[0;34m(a, offset, axis1, axis2)\u001b[0m\n\u001b[1;32m   1677\u001b[0m     \u001b[39mreturn\u001b[39;00m asarray(a)\u001b[39m.\u001b[39mdiagonal(offset\u001b[39m=\u001b[39moffset, axis1\u001b[39m=\u001b[39maxis1, axis2\u001b[39m=\u001b[39maxis2)\n\u001b[1;32m   1678\u001b[0m \u001b[39melse\u001b[39;00m:\n\u001b[0;32m-> 1679\u001b[0m     \u001b[39mreturn\u001b[39;00m asanyarray(a)\u001b[39m.\u001b[39;49mdiagonal(offset\u001b[39m=\u001b[39;49moffset, axis1\u001b[39m=\u001b[39;49maxis1, axis2\u001b[39m=\u001b[39;49maxis2)\n",
      "\u001b[0;31mValueError\u001b[0m: diag requires an array of at least two dimensions"
     ]
    }
   ],
   "source": [
    "sa_optimize_result = sa_optimizer.fit()"
   ]
  },
  {
   "cell_type": "code",
   "execution_count": 2,
   "metadata": {},
   "outputs": [],
   "source": [
    "import matplotlib.pyplot as plt\n",
    "import forgi.visual.mplotlib as fvm\n",
    "import forgi.graph.bulge_graph as fgb\n",
    "import forgi "
   ]
  },
  {
   "cell_type": "code",
   "execution_count": 11,
   "metadata": {},
   "outputs": [],
   "source": [
    "def parse_pseudoknot(ctList):\n",
    "    \"\"\"\n",
    "    ctList              -- paired-bases: [(3, 8), (4, 7)]\n",
    "    \n",
    "    Parse pseusoknots from clList\n",
    "    Return:\n",
    "        [ [(3, 8), (4, 7)], [(3, 8), (4, 7)], ... ]\n",
    "    \"\"\"\n",
    "    ctList.sort(key=lambda x:x[0])\n",
    "    ctList = [ it for it in ctList if it[0]<it[1] ]\n",
    "    paired_bases = set()\n",
    "    for lb,rb in ctList:\n",
    "        paired_bases.add(lb)\n",
    "        paired_bases.add(rb)\n",
    "    \n",
    "    # Collect duplex\n",
    "    duplex = []\n",
    "    cur_duplex = [ ctList[0] ]\n",
    "    for i in range(1, len(ctList)):\n",
    "        bulge_paired = False\n",
    "        for li in range(ctList[i-1][0]+1, ctList[i][0]):\n",
    "            if li in paired_bases:\n",
    "                bulge_paired = True\n",
    "                break\n",
    "        if ctList[i][1]+1>ctList[i-1][1]:\n",
    "            bulge_paired = True\n",
    "        else:\n",
    "            for ri in range(ctList[i][1]+1, ctList[i-1][1]):\n",
    "                if ri in paired_bases:\n",
    "                    bulge_paired = True\n",
    "                    break\n",
    "        if bulge_paired:\n",
    "            duplex.append(cur_duplex)\n",
    "            cur_duplex = [ ctList[i] ]\n",
    "        else:\n",
    "            cur_duplex.append(ctList[i])\n",
    "    if cur_duplex:\n",
    "        duplex.append(cur_duplex)\n",
    "    \n",
    "    # Discriminate duplex are pseudoknot\n",
    "    Len = len(duplex)\n",
    "    incompatible_duplex = []\n",
    "    for i in range(Len):\n",
    "        for j in range(i+1, Len):\n",
    "            bp1 = duplex[i][0]\n",
    "            bp2 = duplex[j][0]\n",
    "            if bp1[0]<bp2[0]<bp1[1]<bp2[1] or bp2[0]<bp1[0]<bp2[1]<bp1[1]:\n",
    "                incompatible_duplex.append((i, j))\n",
    "    \n",
    "    pseudo_found = []\n",
    "    while incompatible_duplex:\n",
    "        # count pseudo\n",
    "        count = {}\n",
    "        for l,r in incompatible_duplex:\n",
    "            count[l] = count.get(l,0)+1\n",
    "            count[r] = count.get(r,0)+1\n",
    "        \n",
    "        # find most possible pseudo\n",
    "        count = list(count.items())\n",
    "        count.sort( key=lambda x: (x[1],-len(duplex[x[0]])) )\n",
    "        possible_pseudo = count[-1][0]\n",
    "        pseudo_found.append(possible_pseudo)\n",
    "        i = 0\n",
    "        while i<len(incompatible_duplex):\n",
    "            l,r = incompatible_duplex[i]\n",
    "            if possible_pseudo in (l,r):\n",
    "                del incompatible_duplex[i]\n",
    "            else:\n",
    "                i += 1\n",
    "    \n",
    "    pseudo_duplex = []\n",
    "    for i in pseudo_found:\n",
    "        pseudo_duplex.append(duplex[i])\n",
    "    \n",
    "    return pseudo_duplex"
   ]
  },
  {
   "cell_type": "code",
   "execution_count": 10,
   "metadata": {},
   "outputs": [],
   "source": [
    "def ct2dot(ctList, length):\n",
    "    \"\"\"\n",
    "    ctList              -- paired-bases: [(3, 8), (4, 7)]\n",
    "    length              -- Length of structure\n",
    "    \n",
    "    Convert ctlist structure to dot-bracket\n",
    "    [(3, 8), (4, 7)]  => ..((..))..\n",
    "    \"\"\"\n",
    "    dot = ['.']*length\n",
    "    if len(ctList) == 0:\n",
    "        return \"\".join(dot)\n",
    "    ctList = sorted(ctList, key=lambda x:x[0])\n",
    "    ctList = [ it for it in ctList if it[0]<it[1] ]\n",
    "    pseudo_duplex = parse_pseudoknot(ctList)\n",
    "    for l,r in ctList:\n",
    "        dot[l-1] = '('\n",
    "        dot[r-1] = ')'\n",
    "    dottypes = [ '<>', r'{}', '[]' ]\n",
    "    if len(pseudo_duplex)>len(dottypes):\n",
    "        print(\"Warning: too many psudoknot type: %s>%s\" % (len(pseudo_duplex),len(dottypes)))\n",
    "    for i,duplex in enumerate(pseudo_duplex):\n",
    "        for l,r in duplex:\n",
    "            dot[l-1] = dottypes[i%3][0]\n",
    "            dot[r-1] = dottypes[i%3][1]\n",
    "    return \"\".join(dot)"
   ]
  },
  {
   "cell_type": "code",
   "execution_count": 9,
   "metadata": {},
   "outputs": [
    {
     "data": {
      "text/plain": [
       "'..((..))..'"
      ]
     },
     "execution_count": 9,
     "metadata": {},
     "output_type": "execute_result"
    }
   ],
   "source": [
    "ct2dot([(3,8),(4,7)],10)"
   ]
  },
  {
   "cell_type": "code",
   "execution_count": 1,
   "metadata": {},
   "outputs": [
    {
     "name": "stdout",
     "output_type": "stream",
     "text": [
      "['1', 'G', '0', '2', '0', '1']\n",
      "['2', 'C', '1', '3', '0', '2']\n",
      "['3', 'G', '2', '4', '0', '3']\n",
      "['4', 'G', '3', '5', '0', '4']\n",
      "['5', 'G', '4', '6', '0', '5']\n",
      "['6', 'U', '5', '7', '0', '6']\n",
      "['7', 'A', '6', '8', '0', '7']\n",
      "['8', 'U', '7', '9', '0', '8']\n",
      "['9', 'A', '8', '10', '0', '9']\n",
      "['10', 'G', '9', '11', '0', '10']\n",
      "['11', 'U', '10', '12', '23', '11']\n",
      "temp is [11, 23]\n",
      "['12', 'U', '11', '13', '22', '12']\n",
      "['13', 'U', '12', '14', '21', '13']\n",
      "['14', 'A', '13', '15', '0', '14']\n",
      "['15', 'G', '14', '16', '0', '15']\n",
      "['16', 'U', '15', '17', '0', '16']\n",
      "['17', 'G', '16', '18', '0', '17']\n",
      "['18', 'G', '17', '19', '0', '18']\n",
      "['19', 'U', '18', '20', '0', '19']\n",
      "['20', 'A', '19', '21', '0', '20']\n",
      "['21', 'A', '20', '22', '13', '21']\n",
      "temp is [21, 13]\n",
      "['22', 'A', '21', '23', '12', '22']\n",
      "['23', 'A', '22', '24', '11', '23']\n"
     ]
    }
   ],
   "source": [
    "with open('./rna-data/bpRNA_CRW_32863.ct.txt') as file:\n",
    "    lines = file.readlines()\n",
    "    \n",
    "with open('./rna-data/bpRNA_CRW_32863.fasta.txt') as file:\n",
    "    fasta_lines = file.readlines()\n",
    "    \n",
    "    \n",
    "rna = fasta_lines[1]\n",
    "    \n",
    "stems_actual = []\n",
    "\n",
    "sip = False                       # stem in progress?\n",
    "sl = 0                            # stem length\n",
    "last_line = [0, 0, 0, 0, 0, 0]    # initiate last line\n",
    "\n",
    "for i in range(0, len(lines)):\n",
    "    line = lines[i].strip().split()\n",
    "    print(line)\n",
    "    \n",
    "    if (int(line[4]) != 0 and sip == False):\n",
    "        sip = True\n",
    "        temp = [int(line[0]), int(line[4])]\n",
    "        print(f\"temp is {temp}\")\n",
    "        if (rna[i] == ('G' or 'g') and rna[int(line[4])-1] == ('C' or 'c')) or (rna[i] == ('C' or 'c') and rna[int(line[4])-1] == ('G' or 'g')):\n",
    "            sl += 3\n",
    "        if (rna[i] == ('G' or 'g') and rna[int(line[4])-1] == ('U' or 'u')) or (rna[i] == ('U' or 'u') and rna[int(line[4])-1] == ('G' or 'g')) or (rna[i] == ('A' or 'a') and rna[int(line[4])-1] == ('U' or 'u')) or (rna[i] == ('U' or 'u') and rna[int(line[4])-1] == ('A' or 'a')):\n",
    "            sl += 2\n",
    "    if (int(line[4]) != 0 and sip == True and (int(last_line[4])-int(line[4]) == 1)):\n",
    "        if (rna[i] == ('G' or 'g') and rna[int(line[4])-1] == ('C' or 'c')) or (rna[i] == ('C' or 'c') and rna[int(line[4])-1] == ('G' or 'g')):\n",
    "            sl += 3\n",
    "        if (rna[i] == ('G' or 'g') and rna[int(line[4])-1] == ('U' or 'u')) or (rna[i] == ('U' or 'u') and rna[int(line[4])-1] == ('G' or 'g')) or (rna[i] == ('A' or 'a') and rna[int(line[4])-1] == ('U' or 'u')) or (rna[i] == ('U' or 'u') and rna[int(line[4])-1] == ('A' or 'a')):\n",
    "            sl += 2\n",
    "    if (int(line[4]) == 0 and sip == True):\n",
    "        sip = False\n",
    "        temp.append(sl)\n",
    "        if temp[1] > temp[0]:\n",
    "            stems_actual.append(temp)\n",
    "        sl = 0\n",
    "    if ((int(last_line[4])-int(line[4]) != 1) and int(last_line[4]) != 0  and sip == True):\n",
    "        temp.append(sl)\n",
    "        if temp[1] > temp[0]:\n",
    "            stems_actual.append(temp)\n",
    "        temp = [int(line[0]), int(line[4])]\n",
    "        sl = 0\n",
    "        if (rna[i] == ('G' or 'g') and rna[int(line[4])-1] == ('C' or 'c')) or (rna[i] == ('C' or 'c') and rna[int(line[4])-1] == ('G' or 'g')):\n",
    "            sl = 3\n",
    "        if (rna[i] == ('G' or 'g') and rna[int(line[4])-1] == ('U' or 'u')) or (rna[i] == ('U' or 'u') and rna[int(line[4])-1] == ('G' or 'g')) or (rna[i] == ('A' or 'a') and rna[int(line[4])-1] == ('U' or 'u')) or (rna[i] == ('U' or 'u') and rna[int(line[4])-1] == ('A' or 'a')):\n",
    "            sl = 2\n",
    "\n",
    "    last_line = line"
   ]
  },
  {
   "cell_type": "code",
   "execution_count": 2,
   "metadata": {},
   "outputs": [
    {
     "data": {
      "text/plain": [
       "[[11, 23, 6]]"
      ]
     },
     "execution_count": 2,
     "metadata": {},
     "output_type": "execute_result"
    }
   ],
   "source": [
    "stems_actual"
   ]
  },
  {
   "cell_type": "code",
   "execution_count": 13,
   "metadata": {},
   "outputs": [
    {
     "data": {
      "text/plain": [
       "'GCGGGUAUAGUUUAGUGGUAAAA'"
      ]
     },
     "execution_count": 13,
     "metadata": {},
     "output_type": "execute_result"
    }
   ],
   "source": [
    "rna"
   ]
  },
  {
   "cell_type": "code",
   "execution_count": 4,
   "metadata": {},
   "outputs": [],
   "source": [
    "rna_len = len(lines)"
   ]
  },
  {
   "cell_type": "code",
   "execution_count": 12,
   "metadata": {},
   "outputs": [
    {
     "data": {
      "text/plain": [
       "'..........(...........)'"
      ]
     },
     "execution_count": 12,
     "metadata": {},
     "output_type": "execute_result"
    }
   ],
   "source": [
    "pair_list = []\n",
    "for stem in stems_actual:\n",
    "    pair_list.append(tuple(stem[0:2]))\n",
    "\n",
    "ct2dot(pair_list, rna_len)"
   ]
  },
  {
   "cell_type": "code",
   "execution_count": 17,
   "metadata": {},
   "outputs": [],
   "source": [
    "import matplotlib.pyplot as plt\n",
    "import forgi.visual.mplotlib as fvm\n",
    "import forgi.graph.bulge_graph as fgb\n",
    "import forgi"
   ]
  },
  {
   "cell_type": "code",
   "execution_count": 18,
   "metadata": {},
   "outputs": [],
   "source": [
    "bg = fgb.BulgeGraph.from_fasta_text(\"\"\">blah\n",
    "... AAAACCGGGCCUUUUACCCCAAAUUGGAA\n",
    "... ((((..(((..)))..))))...((..))\n",
    "... \"\"\")"
   ]
  },
  {
   "cell_type": "code",
   "execution_count": 19,
   "metadata": {},
   "outputs": [
    {
     "ename": "ModuleNotFoundError",
     "evalue": "No module named 'RNA'",
     "output_type": "error",
     "traceback": [
      "\u001b[0;31m---------------------------------------------------------------------------\u001b[0m",
      "\u001b[0;31mModuleNotFoundError\u001b[0m                       Traceback (most recent call last)",
      "Input \u001b[0;32mIn [19]\u001b[0m, in \u001b[0;36m<cell line: 3>\u001b[0;34m()\u001b[0m\n\u001b[1;32m      1\u001b[0m \u001b[38;5;66;03m# cg = forgi.load_rna(\"examples/input/1y26.fx\", allow_many=False)\u001b[39;00m\n\u001b[0;32m----> 3\u001b[0m \u001b[43mfvm\u001b[49m\u001b[38;5;241;43m.\u001b[39;49m\u001b[43mplot_rna\u001b[49m\u001b[43m(\u001b[49m\u001b[43mbg\u001b[49m\u001b[43m,\u001b[49m\u001b[43m \u001b[49m\u001b[43mtext_kwargs\u001b[49m\u001b[38;5;241;43m=\u001b[39;49m\u001b[43m{\u001b[49m\u001b[38;5;124;43m\"\u001b[39;49m\u001b[38;5;124;43mfontweight\u001b[39;49m\u001b[38;5;124;43m\"\u001b[39;49m\u001b[43m:\u001b[49m\u001b[38;5;124;43m\"\u001b[39;49m\u001b[38;5;124;43mblack\u001b[39;49m\u001b[38;5;124;43m\"\u001b[39;49m\u001b[43m}\u001b[49m\u001b[43m,\u001b[49m\u001b[43m \u001b[49m\u001b[43mlighten\u001b[49m\u001b[38;5;241;43m=\u001b[39;49m\u001b[38;5;241;43m0.7\u001b[39;49m\u001b[43m,\u001b[49m\n\u001b[1;32m      4\u001b[0m \u001b[43m             \u001b[49m\u001b[43mbackbone_kwargs\u001b[49m\u001b[38;5;241;43m=\u001b[39;49m\u001b[43m{\u001b[49m\u001b[38;5;124;43m\"\u001b[39;49m\u001b[38;5;124;43mlinewidth\u001b[39;49m\u001b[38;5;124;43m\"\u001b[39;49m\u001b[43m:\u001b[49m\u001b[38;5;241;43m3\u001b[39;49m\u001b[43m}\u001b[49m\u001b[43m)\u001b[49m\n\u001b[1;32m      5\u001b[0m plt\u001b[38;5;241m.\u001b[39mshow()\n",
      "File \u001b[0;32m~/.local/lib/python3.9/site-packages/forgi/visual/mplotlib.py:243\u001b[0m, in \u001b[0;36mplot_rna\u001b[0;34m(cg, ax, offset, text_kwargs, backbone_kwargs, basepair_kwargs, color, lighten, annotations)\u001b[0m\n\u001b[1;32m    209\u001b[0m \u001b[38;5;124;03m'''\u001b[39;00m\n\u001b[1;32m    210\u001b[0m \u001b[38;5;124;03mPlot an RNA structure given a set of nucleotide coordinates\u001b[39;00m\n\u001b[1;32m    211\u001b[0m \n\u001b[0;32m   (...)\u001b[0m\n\u001b[1;32m    240\u001b[0m \u001b[38;5;124;03m:return: (ax, coords) The axes and the coordinates for each nucleotide\u001b[39;00m\n\u001b[1;32m    241\u001b[0m \u001b[38;5;124;03m'''\u001b[39;00m\n\u001b[1;32m    242\u001b[0m log\u001b[38;5;241m.\u001b[39minfo(\u001b[38;5;124m\"\u001b[39m\u001b[38;5;124mStarting to plot RNA...\u001b[39m\u001b[38;5;124m\"\u001b[39m)\n\u001b[0;32m--> 243\u001b[0m \u001b[38;5;28;01mimport\u001b[39;00m \u001b[38;5;21;01mRNA\u001b[39;00m\n\u001b[1;32m    244\u001b[0m \u001b[38;5;28;01mimport\u001b[39;00m \u001b[38;5;21;01mmatplotlib\u001b[39;00m\u001b[38;5;21;01m.\u001b[39;00m\u001b[38;5;21;01mcolors\u001b[39;00m \u001b[38;5;28;01mas\u001b[39;00m \u001b[38;5;21;01mmc\u001b[39;00m\n\u001b[1;32m    245\u001b[0m RNA\u001b[38;5;241m.\u001b[39mcvar\u001b[38;5;241m.\u001b[39mrna_plot_type \u001b[38;5;241m=\u001b[39m \u001b[38;5;241m1\u001b[39m\n",
      "\u001b[0;31mModuleNotFoundError\u001b[0m: No module named 'RNA'"
     ]
    }
   ],
   "source": [
    "# cg = forgi.load_rna(\"examples/input/1y26.fx\", allow_many=False)\n",
    "\n",
    "fvm.plot_rna(bg, text_kwargs={\"fontweight\":\"black\"}, lighten=0.7,\n",
    "             backbone_kwargs={\"linewidth\":3})\n",
    "plt.show()"
   ]
  }
 ],
 "metadata": {
  "kernelspec": {
   "display_name": "Python 3 (ipykernel)",
   "language": "python",
   "name": "python3"
  },
  "language_info": {
   "codemirror_mode": {
    "name": "ipython",
    "version": 3
   },
   "file_extension": ".py",
   "mimetype": "text/x-python",
   "name": "python",
   "nbconvert_exporter": "python",
   "pygments_lexer": "ipython3",
   "version": "3.9.13"
  },
  "vscode": {
   "interpreter": {
    "hash": "aee8b7b246df8f9039afb4144a1f6fd8d2ca17a180786b69acc140d282b71a49"
   }
  }
 },
 "nbformat": 4,
 "nbformat_minor": 4
}
