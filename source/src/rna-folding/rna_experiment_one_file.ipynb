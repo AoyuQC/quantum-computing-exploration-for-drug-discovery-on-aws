{
 "cells": [
  {
   "cell_type": "code",
   "execution_count": 1,
   "metadata": {},
   "outputs": [
    {
     "ename": "ModuleNotFoundError",
     "evalue": "No module named 'utility.RNAGeoCalc'",
     "output_type": "error",
     "traceback": [
      "\u001b[0;31m---------------------------------------------------------------------------\u001b[0m",
      "\u001b[0;31mModuleNotFoundError\u001b[0m                       Traceback (most recent call last)",
      "Cell \u001b[0;32mIn [1], line 2\u001b[0m\n\u001b[1;32m      1\u001b[0m \u001b[38;5;28;01mfrom\u001b[39;00m \u001b[38;5;21;01mutility\u001b[39;00m\u001b[38;5;21;01m.\u001b[39;00m\u001b[38;5;21;01mRNAParser\u001b[39;00m \u001b[38;5;28;01mimport\u001b[39;00m RNAData\n\u001b[0;32m----> 2\u001b[0m \u001b[38;5;28;01mfrom\u001b[39;00m \u001b[38;5;21;01mutility\u001b[39;00m\u001b[38;5;21;01m.\u001b[39;00m\u001b[38;5;21;01mRNAQUBO\u001b[39;00m \u001b[38;5;28;01mimport\u001b[39;00m RNAQUBO\n\u001b[1;32m      3\u001b[0m \u001b[38;5;28;01mfrom\u001b[39;00m \u001b[38;5;21;01mutility\u001b[39;00m\u001b[38;5;21;01m.\u001b[39;00m\u001b[38;5;21;01mAnnealerOptimizer\u001b[39;00m \u001b[38;5;28;01mimport\u001b[39;00m Annealer\n\u001b[1;32m      4\u001b[0m \u001b[38;5;66;03m# from utility.ResultProcess import ResultParser\u001b[39;00m\n",
      "File \u001b[0;32m~/workplace/quantum-computing-exploration-for-drug-discovery-on-aws/source/src/rna-folding/utility/RNAQUBO.py:17\u001b[0m\n\u001b[1;32m     14\u001b[0m \u001b[38;5;28;01mimport\u001b[39;00m \u001b[38;5;21;01mos\u001b[39;00m\n\u001b[1;32m     16\u001b[0m \u001b[38;5;28;01mfrom\u001b[39;00m \u001b[38;5;21;01m.\u001b[39;00m\u001b[38;5;21;01mRNAParser\u001b[39;00m \u001b[38;5;28;01mimport\u001b[39;00m RNAData\n\u001b[0;32m---> 17\u001b[0m \u001b[38;5;28;01mfrom\u001b[39;00m \u001b[38;5;21;01m.\u001b[39;00m\u001b[38;5;21;01mRNAGeoCalc\u001b[39;00m \u001b[38;5;28;01mimport\u001b[39;00m \u001b[38;5;241m*\u001b[39m\n\u001b[1;32m     19\u001b[0m log \u001b[38;5;241m=\u001b[39m logging\u001b[38;5;241m.\u001b[39mgetLogger()\n\u001b[1;32m     20\u001b[0m log\u001b[38;5;241m.\u001b[39msetLevel(\u001b[38;5;124m'\u001b[39m\u001b[38;5;124mINFO\u001b[39m\u001b[38;5;124m'\u001b[39m)\n",
      "\u001b[0;31mModuleNotFoundError\u001b[0m: No module named 'utility.RNAGeoCalc'"
     ]
    }
   ],
   "source": [
    "from utility.RNAParser import RNAData\n",
    "from utility.RNAQUBO import RNAQUBO\n",
    "from utility.AnnealerOptimizer import Annealer\n",
    "# from utility.ResultProcess import ResultParser\n",
    "import time\n",
    "\n",
    "timestamp = time.strftime(\"%Y%m%d-%H\")\n",
    "\n",
    "import numpy as np\n",
    "import pandas as pd\n",
    "import math\n",
    "import os\n",
    "import glob\n",
    "import re"
   ]
  },
  {
   "cell_type": "markdown",
   "metadata": {},
   "source": [
    "# Step 1: Prepare Data"
   ]
  },
  {
   "cell_type": "markdown",
   "metadata": {},
   "source": [
    "In this part, we load the folder with the raw rna data for experimentation. To evaluate the quantum solution and the actual solution include both fasta and ct files. To only generate a quantum solution, upload a fasta file.\n"
   ]
  },
  {
   "cell_type": "code",
   "execution_count": null,
   "metadata": {},
   "outputs": [],
   "source": [
    "# initial parameters for experiment data\n",
    "s3_bucket = f\"amazon-braket-us-east-1-002224604296\" # change to the name of bucket created in your deployment\n",
    "prefix = \"test\" # the name of the folder in the bucket\n",
    "\n",
    "# enter folder path, for instance './rna-data'\n",
    "raw_path = './rna-data'\n"
   ]
  },
  {
   "cell_type": "code",
   "execution_count": null,
   "metadata": {},
   "outputs": [],
   "source": [
    "rna_data = RNAData(raw_path)\n",
    "\n",
    "data_path = rna_data.save(\"latest\")\n",
    "\n",
    "# print(f\"You have loaded the raw rna data and saved as {data_path}. \\n\\\n",
    "# This rna is {num_rna_length} bases long\")\n",
    "# #TODO inform them if it will compare or just calculate\n",
    "# print()"
   ]
  },
  {
   "cell_type": "code",
   "execution_count": null,
   "metadata": {},
   "outputs": [],
   "source": [
    "rna_data.rna_files"
   ]
  },
  {
   "cell_type": "markdown",
   "metadata": {},
   "source": [
    "After running this block, the processed data \n",
    "will be saved as **rna-folding_bpRNA_CRW_32863_data_latest.pickle**\n",
    "and **data_path** will be updated. We can see that this \n",
    "molecule has 23 bases."
   ]
  },
  {
   "cell_type": "markdown",
   "metadata": {},
   "source": [
    "# Step 2: Build Model"
   ]
  },
  {
   "cell_type": "markdown",
   "metadata": {},
   "source": [
    "In this part, we build the Quadratic Unconstrained \n",
    "Binary Optimization (QUBO) model for rna folding.\n",
    "\n",
    "First, we set the following parameters and \n",
    "initialize the RNAQUBO object. \n",
    "\n",
    "<center>\n",
    "\n",
    "| Parameter | Description | Value |\n",
    "|--- |--- |--- |\n",
    "| PKP | pseudoknot penalty | -1.0, -0.5, 0.0, 0.5, 1.0 |\n",
    "| S | penalty for short stems | 1 |\n",
    "| O | penalty for overlaps | 1e6 |\n",
    "| method | the method of building model | 'qc' |\n",
    "| data_path | pickle file directory of rna data |  |\n",
    "\n",
    " </center>"
   ]
  },
  {
   "cell_type": "code",
   "execution_count": null,
   "metadata": {},
   "outputs": [],
   "source": [
    "# initial the RNAQUBO object\n",
    "init_param = {}\n",
    "method = ['qc']\n",
    "\n",
    "for mt in method:\n",
    "    if mt == 'qc':\n",
    "        init_param[mt] = {}\n",
    "        init_param[mt]['params'] = [\"PKP\", \"S\", \"O\"]\n",
    "    \n",
    "rna_qubo = RNAQUBO( data_path, method, **init_param)"
   ]
  },
  {
   "cell_type": "code",
   "execution_count": null,
   "metadata": {},
   "outputs": [],
   "source": [
    "# set the parameters for model\n",
    "model_param = {}\n",
    "\n",
    "method = 'qc'\n",
    "model_param[method] = {}\n",
    "\n",
    "# parameters\n",
    "model_param[method]['PKP'] = [-1.0, -0.5, 0.0, 0.5, 1.0]\n",
    "model_param[method]['S'] = [1]\n",
    "model_param[method]['O'] = [1e6]\n",
    "\n",
    "rna_qubo.build_models(**model_param)"
   ]
  },
  {
   "cell_type": "code",
   "execution_count": null,
   "metadata": {},
   "outputs": [],
   "source": [
    "# describe the model parameters\n",
    "model_info = rna_qubo.describe_models()"
   ]
  },
  {
   "cell_type": "code",
   "execution_count": null,
   "metadata": {},
   "outputs": [],
   "source": [
    "# save the model\n",
    "model_path = rna_qubo.save(\"latest\")\n",
    "\n",
    "print(f\"You have built the QUBO models and saved them as rna_folding_latest.pickle\")"
   ]
  },
  {
   "cell_type": "code",
   "execution_count": null,
   "metadata": {},
   "outputs": [],
   "source": [
    "# !mv rna_folding_latest.pickle rna-data/"
   ]
  },
  {
   "cell_type": "markdown",
   "metadata": {},
   "source": [
    "# Step 3: Optimize Configuration"
   ]
  },
  {
   "cell_type": "markdown",
   "metadata": {},
   "source": [
    "In this part, we use SA and QA to find the optimized configuration of rna folding.\n",
    "At first, we load the model file using **RNAQUBO** object"
   ]
  },
  {
   "cell_type": "code",
   "execution_count": null,
   "metadata": {},
   "outputs": [],
   "source": [
    "rna_qubo_optimize = RNAQUBO.load(model_path)"
   ]
  },
  {
   "cell_type": "code",
   "execution_count": null,
   "metadata": {},
   "outputs": [],
   "source": [
    "model_info = rna_qubo_optimize.describe_models()"
   ]
  },
  {
   "cell_type": "code",
   "execution_count": null,
   "metadata": {},
   "outputs": [],
   "source": [
    "# get the model you want to optimize\n",
    "rna_name = 'bpRNA_CRW_32863'\n",
    "PKP = 0.5\n",
    "O = 1e6\n",
    "S = 1\n",
    "method = 'qc'\n",
    "\n",
    "model_name = \"{}+{}+{}+{}+\".format(rna_name, PKP, O, S)\n",
    "\n",
    "qubo_model = rna_qubo_optimize.get_model(rna_name, method, model_name)"
   ]
  },
  {
   "cell_type": "markdown",
   "metadata": {},
   "source": [
    "After we get the qubo model, we need to set the parameters for optimization: \n",
    "| Parameter | Description | Value |\n",
    "|--- |--- |--- |\n",
    "|method | annealing method for QUBO problem |'dwave-sa': use the simulated annealer in ocean toolkit<br> 'dwave-qa': use the quantum annealer|\n",
    "|shots| number of reads, refer to [dwave-sa](https://docs.ocean.dwavesys.com/projects/neal/en/latest/reference/generated/neal.sampler.SimulatedAnnealingSampler.sample.html#neal.sampler.SimulatedAnnealingSampler.sample) and [dwave-qa](https://amazon-braket-ocean-plugin-python.readthedocs.io/en/latest/_apidoc/braket.ocean_plugin.braket_sampler.html) for details |1 to 10,000|\n",
    "|bucket | the s3 bucket to store your results | - |\n",
    "|prefix | the name of the folder in your s3 bucket | - |\n",
    "|device | the arn name to run your quantum annealing| 'arn:aws:braket:::device/qpu/d-wave/Advantage_system4' <br> 'arn:aws:braket:::device/qpu/d-wave/DW_2000Q_6'|\n",
    "\n",
    "Then, we can run the SA for this problem:"
   ]
  },
  {
   "cell_type": "code",
   "execution_count": null,
   "metadata": {},
   "outputs": [],
   "source": [
    "method = 'neal-sa'\n",
    "\n",
    "optimizer_param = {}\n",
    "optimizer_param['shots'] = 1000\n",
    "\n",
    "sa_optimizer = Annealer(qubo_model, method, **optimizer_param)"
   ]
  },
  {
   "cell_type": "code",
   "execution_count": null,
   "metadata": {},
   "outputs": [],
   "source": [
    "sa_optimize_result = sa_optimizer.fit()"
   ]
  },
  {
   "cell_type": "code",
   "execution_count": null,
   "metadata": {},
   "outputs": [],
   "source": [
    "method = 'dwave-qa'\n",
    "\n",
    "optimizer_param = {}\n",
    "optimizer_param['shots'] = 1000\n",
    "optimizer_param['bucket'] = s3_bucket # the name of the bucket\n",
    "optimizer_param['prefix'] = prefix # the name of the folder in the bucket\n",
    "optimizer_param['device'] = \"arn:aws:braket:::device/qpu/d-wave/Advantage_system4\"\n",
    "optimizer_param[\"embed_method\"] = \"default\"\n",
    "\n",
    "qa_optimizer = Annealer(qubo_model, method, **optimizer_param)"
   ]
  },
  {
   "cell_type": "code",
   "execution_count": null,
   "metadata": {},
   "outputs": [],
   "source": [
    "# not create annealing task, only embedding logic\n",
    "qa_optimizer.embed()\n",
    "# create annealing task\n",
    "qa_optimize_result = qa_optimizer.fit()"
   ]
  },
  {
   "cell_type": "code",
   "execution_count": null,
   "metadata": {},
   "outputs": [],
   "source": [
    "qa_task_id = qa_optimizer.get_task_id()\n",
    "print(f\"task id is {qa_task_id}\")"
   ]
  },
  {
   "cell_type": "code",
   "execution_count": null,
   "metadata": {},
   "outputs": [],
   "source": [
    "print(f\"dwave-sa run time {sa_optimize_result['time']}\")\n",
    "print(f\"dwave-qa run time {qa_optimize_result['time']}\")"
   ]
  },
  {
   "cell_type": "markdown",
   "metadata": {},
   "source": [
    "# Step 4: Optimize Configuration"
   ]
  },
  {
   "cell_type": "markdown",
   "metadata": {},
   "source": [
    "In this part, we post process the optimizing results for evaluation and visualization.\n",
    "At first, we prepare the following parameters:\n",
    "\n",
    "| Parameter | Description | Value |\n",
    "|--- |--- |--- |\n",
    "|method | annealing method for QUBO problem |'dwave-sa': use the simulated annealer in ocean toolkit<br> 'dwave-qa': use the quantum annealer|\n",
    "|raw_path| the path for the original molecule file| './molecule-data/117_ideal.mol2' in this example |\n",
    "|data_path| the path for the processed molecule file| './qmu_117_ideal_data_latest.mol2' in this example |\n",
    "|bucket | the s3 bucket to store your results | - |\n",
    "|prefix | the name of the folder in your s3 bucket | - |\n",
    "|task_id | the id for your quantum annealing task| '2b5a3b05-1a0e-443a-852c-4ec422a10e59' in this example |"
   ]
  },
  {
   "cell_type": "code",
   "execution_count": null,
   "metadata": {},
   "outputs": [],
   "source": [
    "from utility.RNAParser import RNAData\n",
    "from utility.RNAQUBO import RNAQUBO\n",
    "from utility.AnnealerOptimizer import Annealer\n",
    "from utility.ResultProcess import ResultParser\n",
    "import time\n",
    "\n",
    "timestamp = time.strftime(\"%Y%m%d-%H\")\n",
    "\n",
    "import numpy as np\n",
    "import pandas as pd\n",
    "import math\n",
    "import os\n",
    "import glob\n",
    "import re\n",
    "\n",
    "# initial parameters for experiment data\n",
    "s3_bucket = f\"amazon-braket-us-east-1-002224604296\" # change to the name of bucket created in your deployment\n",
    "prefix = \"test\" # the name of the folder in the bucket"
   ]
  },
  {
   "cell_type": "code",
   "execution_count": null,
   "metadata": {},
   "outputs": [],
   "source": [
    "data_path = './rna-folding_data_latest.pickle'\n",
    "raw_path = './rna-data'\n",
    "rna_name = 'bpRNA_CRW_32863'"
   ]
  },
  {
   "cell_type": "code",
   "execution_count": null,
   "metadata": {},
   "outputs": [],
   "source": [
    "method = \"neal-sa\"\n",
    "sa_param = {}\n",
    "sa_param[\"raw_path\"] = raw_path\n",
    "sa_param[\"data_path\"] = data_path\n",
    "\n",
    "sa_process_result = ResultParser(method, **sa_param)\n",
    "# print(f\"{method} result is {sa_process_result.get_all_result()}\")\n",
    "\n",
    "local_time, _ , _, _= sa_process_result.get_time()\n",
    "\n",
    "print(f\"time for {method}: \\n \\\n",
    "    local time is {local_time}\")"
   ]
  },
  {
   "cell_type": "code",
   "execution_count": null,
   "metadata": {},
   "outputs": [],
   "source": [
    "sa_process_result.rna_data"
   ]
  },
  {
   "cell_type": "code",
   "execution_count": null,
   "metadata": {},
   "outputs": [],
   "source": [
    "sa_atom_pos_data = sa_process_result.generate_optimize_pts()\n",
    "# save unfold file for visualization and parameters for experiment: 1. volume value 2. relative improvement\n",
    "sa_result_filepath, sa_result_json = sa_process_result.save_mol_file(f\"{timestamp}\")\n",
    "\n",
    "print(f\"result path is {sa_result_filepath}, and result optimization file path is {sa_result_json}\")"
   ]
  },
  {
   "cell_type": "code",
   "execution_count": null,
   "metadata": {},
   "outputs": [],
   "source": [
    "sa_process_result.parameters"
   ]
  },
  {
   "cell_type": "code",
   "execution_count": null,
   "metadata": {},
   "outputs": [],
   "source": [
    "method = \"dwave-qa\"\n",
    "qa_param = {}\n",
    "qa_param[\"bucket\"] = s3_bucket\n",
    "qa_param[\"prefix\"] = prefix\n",
    "qa_param[\"task_id\"] = qa_task_id\n",
    "qa_param[\"raw_path\"] = raw_path\n",
    "qa_param[\"data_path\"] = data_path\n",
    "\n",
    "qa_process_result = ResultParser(method, **qa_param)\n",
    "# print(f\"{method} result is {qa_process_result.get_all_result()}\")\n",
    "\n",
    "local_time, task_time, total_time, access_time = qa_process_result.get_time()\n",
    "\n",
    "print(f\"time for {method}: \\n \\\n",
    "    local time is {local_time},\\n \\\n",
    "    task time is {task_time}, \\n \\\n",
    "    qpu total time is {total_time}, \\n \\\n",
    "    qpu access time is {access_time}\")"
   ]
  },
  {
   "cell_type": "code",
   "execution_count": null,
   "metadata": {},
   "outputs": [],
   "source": [
    "# this shows the original molecule\n",
    "sa_process_result.InteractView(raw_path, size=800)"
   ]
  },
  {
   "cell_type": "code",
   "execution_count": null,
   "metadata": {},
   "outputs": [],
   "source": [
    "import matplotlib.pyplot as plt\n",
    "import forgi.visual.mplotlib as fvm\n",
    "import forgi.graph.bulge_graph as fgb\n",
    "import forgi "
   ]
  },
  {
   "cell_type": "code",
   "execution_count": null,
   "metadata": {},
   "outputs": [],
   "source": [
    "def parse_pseudoknot(ctList):\n",
    "    \"\"\"\n",
    "    ctList              -- paired-bases: [(3, 8), (4, 7)]\n",
    "    \n",
    "    Parse pseusoknots from clList\n",
    "    Return:\n",
    "        [ [(3, 8), (4, 7)], [(3, 8), (4, 7)], ... ]\n",
    "    \"\"\"\n",
    "    ctList.sort(key=lambda x:x[0])\n",
    "    ctList = [ it for it in ctList if it[0]<it[1] ]\n",
    "    paired_bases = set()\n",
    "    for lb,rb in ctList:\n",
    "        paired_bases.add(lb)\n",
    "        paired_bases.add(rb)\n",
    "    \n",
    "    # Collect duplex\n",
    "    duplex = []\n",
    "    cur_duplex = [ ctList[0] ]\n",
    "    for i in range(1, len(ctList)):\n",
    "        bulge_paired = False\n",
    "        for li in range(ctList[i-1][0]+1, ctList[i][0]):\n",
    "            if li in paired_bases:\n",
    "                bulge_paired = True\n",
    "                break\n",
    "        if ctList[i][1]+1>ctList[i-1][1]:\n",
    "            bulge_paired = True\n",
    "        else:\n",
    "            for ri in range(ctList[i][1]+1, ctList[i-1][1]):\n",
    "                if ri in paired_bases:\n",
    "                    bulge_paired = True\n",
    "                    break\n",
    "        if bulge_paired:\n",
    "            duplex.append(cur_duplex)\n",
    "            cur_duplex = [ ctList[i] ]\n",
    "        else:\n",
    "            cur_duplex.append(ctList[i])\n",
    "    if cur_duplex:\n",
    "        duplex.append(cur_duplex)\n",
    "    \n",
    "    # Discriminate duplex are pseudoknot\n",
    "    Len = len(duplex)\n",
    "    incompatible_duplex = []\n",
    "    for i in range(Len):\n",
    "        for j in range(i+1, Len):\n",
    "            bp1 = duplex[i][0]\n",
    "            bp2 = duplex[j][0]\n",
    "            if bp1[0]<bp2[0]<bp1[1]<bp2[1] or bp2[0]<bp1[0]<bp2[1]<bp1[1]:\n",
    "                incompatible_duplex.append((i, j))\n",
    "    \n",
    "    pseudo_found = []\n",
    "    while incompatible_duplex:\n",
    "        # count pseudo\n",
    "        count = {}\n",
    "        for l,r in incompatible_duplex:\n",
    "            count[l] = count.get(l,0)+1\n",
    "            count[r] = count.get(r,0)+1\n",
    "        \n",
    "        # find most possible pseudo\n",
    "        count = list(count.items())\n",
    "        count.sort( key=lambda x: (x[1],-len(duplex[x[0]])) )\n",
    "        possible_pseudo = count[-1][0]\n",
    "        pseudo_found.append(possible_pseudo)\n",
    "        i = 0\n",
    "        while i<len(incompatible_duplex):\n",
    "            l,r = incompatible_duplex[i]\n",
    "            if possible_pseudo in (l,r):\n",
    "                del incompatible_duplex[i]\n",
    "            else:\n",
    "                i += 1\n",
    "    \n",
    "    pseudo_duplex = []\n",
    "    for i in pseudo_found:\n",
    "        pseudo_duplex.append(duplex[i])\n",
    "    \n",
    "    return pseudo_duplex"
   ]
  },
  {
   "cell_type": "code",
   "execution_count": null,
   "metadata": {},
   "outputs": [],
   "source": [
    "def ct2dot(ctList, length):\n",
    "    \"\"\"\n",
    "    ctList              -- paired-bases: [(3, 8), (4, 7)]\n",
    "    length              -- Length of structure\n",
    "    \n",
    "    Convert ctlist structure to dot-bracket\n",
    "    [(3, 8), (4, 7)]  => ..((..))..\n",
    "    \"\"\"\n",
    "    dot = ['.']*length\n",
    "    if len(ctList) == 0:\n",
    "        return \"\".join(dot)\n",
    "    ctList = sorted(ctList, key=lambda x:x[0])\n",
    "    ctList = [ it for it in ctList if it[0]<it[1] ]\n",
    "    pseudo_duplex = parse_pseudoknot(ctList)\n",
    "    for l,r in ctList:\n",
    "        dot[l-1] = '('\n",
    "        dot[r-1] = ')'\n",
    "    dottypes = [ '<>', r'{}', '[]' ]\n",
    "    if len(pseudo_duplex)>len(dottypes):\n",
    "        print(\"Warning: too many psudoknot type: %s>%s\" % (len(pseudo_duplex),len(dottypes)))\n",
    "    for i,duplex in enumerate(pseudo_duplex):\n",
    "        for l,r in duplex:\n",
    "            dot[l-1] = dottypes[i%3][0]\n",
    "            dot[r-1] = dottypes[i%3][1]\n",
    "    return \"\".join(dot)"
   ]
  },
  {
   "cell_type": "code",
   "execution_count": null,
   "metadata": {},
   "outputs": [],
   "source": [
    "ct2dot([(3,8),(4,7)],10)"
   ]
  },
  {
   "cell_type": "code",
   "execution_count": null,
   "metadata": {},
   "outputs": [],
   "source": [
    "# with open('./rna-data/bpRNA_RNP_17.ct.txt') as file:\n",
    "#     lines = file.readlines()\n",
    "    \n",
    "# with open('./rna-data/bpRNA_RNP_17.fasta.txt') as file:\n",
    "#     fasta_lines = file.readlines()\n",
    "    \n",
    "with open('./rna-data/bpRNA_CRW_32863.ct.txt') as file:\n",
    "    lines = file.readlines()\n",
    "    \n",
    "with open('./rna-data/bpRNA_CRW_32863.fasta.txt') as file:\n",
    "    fasta_lines = file.readlines()\n",
    "    \n",
    "rna = fasta_lines[1]\n",
    "    \n",
    "stems_actual = []\n",
    "\n",
    "sip = False                       # stem in progress?\n",
    "sl = 0                            # stem length\n",
    "last_line = [0, 0, 0, 0, 0, 0]    # initiate last line\n",
    "\n",
    "base_pair = []\n",
    "\n",
    "for i in range(0, len(lines)):\n",
    "    line = lines[i].strip().split()\n",
    "    # print(line)\n",
    "    \n",
    "    if (int(line[4]) != 0 and sip == False):\n",
    "        sip = True\n",
    "        temp = [int(line[0]), int(line[4])]\n",
    "        temp_base = [(int(line[0]), int(line[4]))]\n",
    "        # print(f\"temp is {temp}\")\n",
    "        if (rna[i] == ('G' or 'g') and rna[int(line[4])-1] == ('C' or 'c')) or (rna[i] == ('C' or 'c') and rna[int(line[4])-1] == ('G' or 'g')):\n",
    "            sl += 3\n",
    "        if (rna[i] == ('G' or 'g') and rna[int(line[4])-1] == ('U' or 'u')) or (rna[i] == ('U' or 'u') and rna[int(line[4])-1] == ('G' or 'g')) or (rna[i] == ('A' or 'a') and rna[int(line[4])-1] == ('U' or 'u')) or (rna[i] == ('U' or 'u') and rna[int(line[4])-1] == ('A' or 'a')):\n",
    "            sl += 2\n",
    "    if (int(line[4]) != 0 and sip == True and (int(last_line[4])-int(line[4]) == 1)):\n",
    "        temp_base.append((int(line[0]), int(line[4])))\n",
    "        if (rna[i] == ('G' or 'g') and rna[int(line[4])-1] == ('C' or 'c')) or (rna[i] == ('C' or 'c') and rna[int(line[4])-1] == ('G' or 'g')):\n",
    "            sl += 3\n",
    "        if (rna[i] == ('G' or 'g') and rna[int(line[4])-1] == ('U' or 'u')) or (rna[i] == ('U' or 'u') and rna[int(line[4])-1] == ('G' or 'g')) or (rna[i] == ('A' or 'a') and rna[int(line[4])-1] == ('U' or 'u')) or (rna[i] == ('U' or 'u') and rna[int(line[4])-1] == ('A' or 'a')):\n",
    "            sl += 2\n",
    "    if (int(line[4]) == 0 and sip == True):\n",
    "        sip = False\n",
    "        temp.append(sl)\n",
    "        if temp[1] > temp[0]:\n",
    "            stems_actual.append(temp)\n",
    "            base_pair = base_pair + temp_base\n",
    "        sl = 0\n",
    "    if ((int(last_line[4])-int(line[4]) != 1) and int(last_line[4]) != 0  and sip == True):\n",
    "        temp.append(sl)\n",
    "        if temp[1] > temp[0]:\n",
    "            stems_actual.append(temp)\n",
    "            base_pair = base_pair + temp_base\n",
    "        temp = [int(line[0]), int(line[4])]\n",
    "        temp_base = [(int(line[0]), int(line[4]))]\n",
    "        sl = 0\n",
    "        if (rna[i] == ('G' or 'g') and rna[int(line[4])-1] == ('C' or 'c')) or (rna[i] == ('C' or 'c') and rna[int(line[4])-1] == ('G' or 'g')):\n",
    "            sl = 3\n",
    "        if (rna[i] == ('G' or 'g') and rna[int(line[4])-1] == ('U' or 'u')) or (rna[i] == ('U' or 'u') and rna[int(line[4])-1] == ('G' or 'g')) or (rna[i] == ('A' or 'a') and rna[int(line[4])-1] == ('U' or 'u')) or (rna[i] == ('U' or 'u') and rna[int(line[4])-1] == ('A' or 'a')):\n",
    "            sl = 2\n",
    "\n",
    "    last_line = line"
   ]
  },
  {
   "cell_type": "code",
   "execution_count": null,
   "metadata": {},
   "outputs": [],
   "source": [
    "rna"
   ]
  },
  {
   "cell_type": "code",
   "execution_count": null,
   "metadata": {},
   "outputs": [],
   "source": [
    "base_pair"
   ]
  },
  {
   "cell_type": "code",
   "execution_count": null,
   "metadata": {},
   "outputs": [],
   "source": [
    "rna_len = len(lines)"
   ]
  },
  {
   "cell_type": "code",
   "execution_count": null,
   "metadata": {},
   "outputs": [],
   "source": [
    "dc = ct2dot(base_pair, rna_len)"
   ]
  },
  {
   "cell_type": "code",
   "execution_count": null,
   "metadata": {},
   "outputs": [],
   "source": [
    "import matplotlib.pyplot as plt\n",
    "import forgi.visual.mplotlib as fvm\n",
    "import forgi.graph.bulge_graph as fgb\n",
    "import forgi"
   ]
  },
  {
   "cell_type": "code",
   "execution_count": null,
   "metadata": {},
   "outputs": [],
   "source": [
    "file_name = \"rna-data/test.fx\"\n",
    "file_lines = []\n",
    "file_lines.append('>test')\n",
    "file_lines.append(rna)\n",
    "file_lines.append(dc)\n",
    "\n",
    "f = open(file_name, \"w\")\n",
    "\n",
    "for line in file_lines:\n",
    "    f.write(line + '\\n')\n",
    "    \n",
    "f.close()"
   ]
  },
  {
   "cell_type": "code",
   "execution_count": null,
   "metadata": {},
   "outputs": [],
   "source": [
    "!cat rna-data/test.fx"
   ]
  },
  {
   "cell_type": "code",
   "execution_count": null,
   "metadata": {},
   "outputs": [],
   "source": [
    "!cat rna-data/1y26.fx"
   ]
  },
  {
   "cell_type": "code",
   "execution_count": null,
   "metadata": {},
   "outputs": [],
   "source": [
    "from matplotlib.pyplot import figure\n",
    "\n",
    "figure(figsize=(18, 14), dpi=160)\n",
    "\n",
    "bg = forgi.load_rna(\"rna-data/test.fx\", allow_many=False)\n",
    "# bg = forgi.load_rna(\"rna-data/test.fx\")\n",
    "\n",
    "ax,_ = fvm.plot_rna(bg, text_kwargs={\"fontweight\":\"black\"}, lighten=0.7,\n",
    "             backbone_kwargs={\"linewidth\":3})\n",
    "plt.show()"
   ]
  }
 ],
 "metadata": {
  "kernelspec": {
   "display_name": "Python 3 (ipykernel)",
   "language": "python",
   "name": "python3"
  },
  "language_info": {
   "codemirror_mode": {
    "name": "ipython",
    "version": 3
   },
   "file_extension": ".py",
   "mimetype": "text/x-python",
   "name": "python",
   "nbconvert_exporter": "python",
   "pygments_lexer": "ipython3",
   "version": "3.9.13"
  },
  "vscode": {
   "interpreter": {
    "hash": "aee8b7b246df8f9039afb4144a1f6fd8d2ca17a180786b69acc140d282b71a49"
   }
  }
 },
 "nbformat": 4,
 "nbformat_minor": 4
}
