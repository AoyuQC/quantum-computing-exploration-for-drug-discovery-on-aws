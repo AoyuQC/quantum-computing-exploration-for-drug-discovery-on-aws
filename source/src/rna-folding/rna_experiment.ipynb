{
 "cells": [
  {
   "cell_type": "code",
   "execution_count": 7,
   "id": "ec2fe146",
   "metadata": {},
   "outputs": [],
   "source": [
    "# from utility.MoleculeParser import MoleculeData\n",
    "# from utility.QMUQUBO import QMUQUBO\n",
    "# from utility.AnnealerOptimizer import Annealer\n",
    "# from utility.ResultProcess import ResultParser\n",
    "# import time\n",
    "\n",
    "# timestamp = time.strftime(\"%Y%m%d-%H\")\n",
    "\n",
    "# import packages, including those to connect with AWS BraKet\n",
    "\n",
    "import numpy as np\n",
    "import pandas as pd\n",
    "import math\n",
    "import os\n",
    "import glob\n",
    "\n",
    "from braket.aws import AwsDevice\n",
    "from braket.ocean_plugin import BraketSampler, BraketDWaveSampler"
   ]
  },
  {
   "cell_type": "code",
   "execution_count": 8,
   "id": "16b0e5e4",
   "metadata": {},
   "outputs": [],
   "source": [
    "# function to read in .ct file and give a list of known structure stems:\n",
    "\n",
    "def actual_stems(seq_ss, seq_ps):\n",
    "    \n",
    "    with open(subdirectory+\"/\"+seq_ss) as file:\n",
    "        lines = file.readlines()\n",
    "    \n",
    "    with open(subdirectory+\"/\"+seq_ps) as file:\n",
    "        fasta_lines = file.readlines()\n",
    "    \n",
    "    rna = fasta_lines[1]\n",
    "    \n",
    "    stems_actual = []\n",
    "\n",
    "    sip = False                       # stem in progress?\n",
    "    sl = 0                            # stem length\n",
    "    last_line = [0, 0, 0, 0, 0, 0]    # initiate last line\n",
    "\n",
    "    for i in range(0, len(lines)):\n",
    "        line = lines[i].strip().split()\n",
    "        if (int(line[4]) != 0 and sip == False):\n",
    "            sip = True\n",
    "            temp = [int(line[0]), int(line[4])]\n",
    "            if (rna[i] == ('G' or 'g') and rna[int(line[4])-1] == ('C' or 'c')) or (rna[i] == ('C' or 'c') and rna[int(line[4])-1] == ('G' or 'g')):\n",
    "                sl += 3\n",
    "            if (rna[i] == ('G' or 'g') and rna[int(line[4])-1] == ('U' or 'u')) or (rna[i] == ('U' or 'u') and rna[int(line[4])-1] == ('G' or 'g')) or (rna[i] == ('A' or 'a') and rna[int(line[4])-1] == ('U' or 'u')) or (rna[i] == ('U' or 'u') and rna[int(line[4])-1] == ('A' or 'a')):\n",
    "                sl += 2\n",
    "        if (int(line[4]) != 0 and sip == True and (int(last_line[4])-int(line[4]) == 1)):\n",
    "            if (rna[i] == ('G' or 'g') and rna[int(line[4])-1] == ('C' or 'c')) or (rna[i] == ('C' or 'c') and rna[int(line[4])-1] == ('G' or 'g')):\n",
    "                sl += 3\n",
    "            if (rna[i] == ('G' or 'g') and rna[int(line[4])-1] == ('U' or 'u')) or (rna[i] == ('U' or 'u') and rna[int(line[4])-1] == ('G' or 'g')) or (rna[i] == ('A' or 'a') and rna[int(line[4])-1] == ('U' or 'u')) or (rna[i] == ('U' or 'u') and rna[int(line[4])-1] == ('A' or 'a')):\n",
    "                sl += 2\n",
    "        if (int(line[4]) == 0 and sip == True):\n",
    "            sip = False\n",
    "            temp.append(sl)\n",
    "            if temp[1] > temp[0]:\n",
    "                stems_actual.append(temp)\n",
    "            sl = 0\n",
    "        if ((int(last_line[4])-int(line[4]) != 1) and int(last_line[4]) != 0  and sip == True):\n",
    "            temp.append(sl)\n",
    "            if temp[1] > temp[0]:\n",
    "                stems_actual.append(temp)\n",
    "            temp = [int(line[0]), int(line[4])]\n",
    "            sl = 0\n",
    "            if (rna[i] == ('G' or 'g') and rna[int(line[4])-1] == ('C' or 'c')) or (rna[i] == ('C' or 'c') and rna[int(line[4])-1] == ('G' or 'g')):\n",
    "                sl = 3\n",
    "            if (rna[i] == ('G' or 'g') and rna[int(line[4])-1] == ('U' or 'u')) or (rna[i] == ('U' or 'u') and rna[int(line[4])-1] == ('G' or 'g')) or (rna[i] == ('A' or 'a') and rna[int(line[4])-1] == ('U' or 'u')) or (rna[i] == ('U' or 'u') and rna[int(line[4])-1] == ('A' or 'a')):\n",
    "                sl = 2\n",
    "        \n",
    "        last_line = line\n",
    "        \n",
    "    return stems_actual"
   ]
  },
  {
   "cell_type": "code",
   "execution_count": 9,
   "id": "3470bfdb",
   "metadata": {},
   "outputs": [],
   "source": [
    "# function to evaluate the energy of the known structure under the model Hamiltonian:\n",
    "\n",
    "def energy(stems_actual, pkp):\n",
    "    \n",
    "    cl = 1\n",
    "    cb = 1\n",
    "    k = 0\n",
    "    \n",
    "    pseudoknots_actual = potential_pseudoknots(stems_actual, pkp)\n",
    "    cost = 0\n",
    "    mu = max(list(map(list, zip(*stems_actual)))[2])\n",
    "    \n",
    "    for i in range(0, len(stems_actual)):\n",
    "        cost += cl*((stems_actual[i][2]**2)-2*mu*stems_actual[i][2]+mu**2)-cb*(stems_actual[i][2]**2)\n",
    "        for j in range(i+1, len(stems_actual)):\n",
    "            cost -= 2*cb*stems_actual[i][2]*stems_actual[j][2]*pseudoknots_actual[k][2]\n",
    "            k += 1\n",
    "    \n",
    "    return cost"
   ]
  },
  {
   "cell_type": "code",
   "execution_count": 10,
   "id": "4ca7ebe2",
   "metadata": {},
   "outputs": [],
   "source": [
    "# function to generate list of potential stem pairs that form pseudoknots:\n",
    "\n",
    "def potential_pseudoknots(stems_potential, pkp):\n",
    "\n",
    "    pseudoknots_potential = []\n",
    "    pseudoknot_penalty = pkp\n",
    "\n",
    "    for i in range(len(stems_potential)):\n",
    "        for j in range(i + 1, len(stems_potential)):\n",
    "            \n",
    "            stem1 = stems_potential[i]\n",
    "            stem2 = stems_potential[j]\n",
    "    \n",
    "            i_a = stem1[0]\n",
    "            j_a = stem1[1]\n",
    "            i_b = stem2[0]\n",
    "            j_b = stem2[1]\n",
    "    \n",
    "            pseudoknot = [i,j,1]\n",
    "    \n",
    "            if (i_a < i_b and i_b < j_a and j_a < j_b) or (i_b < i_a and i_a < j_b and j_b < j_a):\n",
    "        \n",
    "                pseudoknot[2] = pseudoknot_penalty\n",
    "    \n",
    "            pseudoknots_potential.append(pseudoknot)\n",
    "            \n",
    "    return pseudoknots_potential"
   ]
  },
  {
   "cell_type": "code",
   "execution_count": 11,
   "id": "e39a0897",
   "metadata": {},
   "outputs": [],
   "source": [
    "# function to generate list of stem pairs that overlap:\n",
    "\n",
    "def potential_overlaps(stems_potential):\n",
    "    \n",
    "    overlaps_potential = []\n",
    "    overlap_penalty = 1e6\n",
    "\n",
    "    for i in range(len(stems_potential)):\n",
    "        for j in range(i+1, len(stems_potential)):\n",
    "    \n",
    "            stem1 = stems_potential[i]\n",
    "            stem2 = stems_potential[j]\n",
    "    \n",
    "            overlap = [i, j, 0]\n",
    "    \n",
    "            stem1_cspan1 = set(range(stem1[1]-int(stem1[2])+1, stem1[1]+1))\n",
    "            stem2_cspan1 = set(range(stem2[1]-int(stem2[2])+1, stem2[1]+1))\n",
    "            \n",
    "            stem1_cspan2 = set(range(stem1[0], stem1[0]+int(stem1[2])))\n",
    "            stem2_cspan2 = set(range(stem2[0], stem2[0]+int(stem2[2])))\n",
    "    \n",
    "            if (len(stem1_cspan1 & stem2_cspan1) != 0) or (len(stem1_cspan2 & stem2_cspan2) != 0)  or (len(stem1_cspan1 & stem2_cspan2) != 0) or (len(stem1_cspan2 & stem2_cspan1) != 0):\n",
    "        \n",
    "                overlap[2] = overlap_penalty\n",
    "        \n",
    "            overlaps_potential.append(overlap)\n",
    "            \n",
    "    return overlaps_potential"
   ]
  },
  {
   "cell_type": "code",
   "execution_count": 12,
   "id": "81361879",
   "metadata": {},
   "outputs": [],
   "source": [
    "# function to read in .fasta file and generate list of potential stems at least 3 base-pairs long:\n",
    "\n",
    "def potential_stems(seq_ps):\n",
    "    \n",
    "    with open(subdirectory+\"/\"+seq_ps) as file:\n",
    "        lines = file.readlines()\n",
    "    \n",
    "    rna = lines[1]\n",
    "    \n",
    "    matrix = np.zeros((len(rna),len(rna)))\n",
    "    for diag in range(0, len(matrix)):\n",
    "        for row in range(0, len(matrix)-diag):\n",
    "            col = row + diag\n",
    "            base1 = rna[row]\n",
    "            base2 = rna[col]\n",
    "            if row != col:\n",
    "                if ((base1 == (\"A\" or \"a\")) and (base2 == (\"U\" or \"u\"))) or ((base1 == (\"U\" or \"u\")) and (base2 == (\"A\" or \"a\"))) or ((base1 == (\"G\" or \"g\")) and (base2 == (\"U\" or \"u\"))) or ((base1 == (\"U\" or \"u\")) and (base2 == (\"G\" or \"g\"))):\n",
    "                    matrix[row][col] = 2\n",
    "                if ((base1 == (\"G\" or \"g\")) and (base2 == (\"C\" or \"c\"))) or ((base1 == (\"C\" or \"c\")) and (base2 == (\"G\" or \"g\"))):\n",
    "                    matrix[row][col] = 3\n",
    "    \n",
    "    stems_potential = []\n",
    "    mu = 0\n",
    "\n",
    "    for row in range(0, len(matrix)):\n",
    "        for col in range (row, len(matrix)):\n",
    "            if row != col:\n",
    "                if matrix[row][col] != 0:\n",
    "                    temp_row = row\n",
    "                    temp_col = col\n",
    "                    stem = [row+1,col+1,0]\n",
    "                    length_N = 0\n",
    "                    length_H = 0\n",
    "                    while (matrix[temp_row][temp_col] != 0) and (temp_row != temp_col):\n",
    "                        length_N+=1\n",
    "                        length_H+=matrix[temp_row][temp_col]\n",
    "                        temp_row+=1\n",
    "                        temp_col-=1\n",
    "                        if length_N >= 3:\n",
    "                            stem[2] = int(length_H)\n",
    "                            stems_potential.append(stem.copy())\n",
    "                    if length_H > mu:\n",
    "                        mu = length_H\n",
    "    \n",
    "    return [stems_potential, mu, rna, len(rna)]"
   ]
  },
  {
   "cell_type": "code",
   "execution_count": null,
   "id": "462430bc",
   "metadata": {},
   "outputs": [],
   "source": [
    "# function to generate the Hamiltonian of a given RNA structure from potential stems, overlaps, and pseudoknots:\n",
    "\n",
    "def model(stems_potential, pseudoknots_potential, overlaps_potential, mu):\n",
    "    \n",
    "    L = {}\n",
    "    Q = {}\n",
    "    cl = 1\n",
    "    cb = 1\n",
    "    k = 0\n",
    "\n",
    "    for i in range(0, len(stems_potential)):\n",
    "        L[str(i)] = cl*((stems_potential[i][2]**2)-2*mu*stems_potential[i][2]+mu**2)-cb*(stems_potential[i][2]**2)\n",
    "        for j in range(i+1, len(stems_potential)):\n",
    "            Q[(str(i), str(j))] = -2*cb*stems_potential[i][2]*stems_potential[j][2]*pseudoknots_potential[k][2]+overlaps_potential[k][2]\n",
    "            k += 1\n",
    "    \n",
    "    return L, Q"
   ]
  },
  {
   "cell_type": "code",
   "execution_count": 13,
   "id": "c83dd9a0",
   "metadata": {},
   "outputs": [
    {
     "ename": "NameError",
     "evalue": "name 'model' is not defined",
     "output_type": "error",
     "traceback": [
      "\u001b[0;31m---------------------------------------------------------------------------\u001b[0m",
      "\u001b[0;31mNameError\u001b[0m                                 Traceback (most recent call last)",
      "\u001b[1;32m/Users/audrey/Documents/GitHub/quantum-computing-exploration-for-drug-discovery-on-aws/source/src/rna-folding/rna_experiment.ipynb Cell 7\u001b[0m in \u001b[0;36m<cell line: 10>\u001b[0;34m()\u001b[0m\n\u001b[1;32m     <a href='vscode-notebook-cell:/Users/audrey/Documents/GitHub/quantum-computing-exploration-for-drug-discovery-on-aws/source/src/rna-folding/rna_experiment.ipynb#ch0000001?line=45'>46</a>\u001b[0m     pks_p\u001b[39m.\u001b[39mappend(potential_pseudoknots(stems_p[index][\u001b[39m0\u001b[39m], p[c]))\n\u001b[1;32m     <a href='vscode-notebook-cell:/Users/audrey/Documents/GitHub/quantum-computing-exploration-for-drug-discovery-on-aws/source/src/rna-folding/rna_experiment.ipynb#ch0000001?line=46'>47</a>\u001b[0m     ols_p\u001b[39m.\u001b[39mappend(potential_overlaps(stems_p[index][\u001b[39m0\u001b[39m]))\n\u001b[0;32m---> <a href='vscode-notebook-cell:/Users/audrey/Documents/GitHub/quantum-computing-exploration-for-drug-discovery-on-aws/source/src/rna-folding/rna_experiment.ipynb#ch0000001?line=47'>48</a>\u001b[0m     models\u001b[39m.\u001b[39mappend(model(stems_p[index][\u001b[39m0\u001b[39m], pks_p[index], ols_p[index], stems_p[index][\u001b[39m1\u001b[39m]))\n\u001b[1;32m     <a href='vscode-notebook-cell:/Users/audrey/Documents/GitHub/quantum-computing-exploration-for-drug-discovery-on-aws/source/src/rna-folding/rna_experiment.ipynb#ch0000001?line=49'>50</a>\u001b[0m \u001b[39mprint\u001b[39m(models)\n\u001b[1;32m     <a href='vscode-notebook-cell:/Users/audrey/Documents/GitHub/quantum-computing-exploration-for-drug-discovery-on-aws/source/src/rna-folding/rna_experiment.ipynb#ch0000001?line=50'>51</a>\u001b[0m problem \u001b[39m=\u001b[39m []\n",
      "\u001b[0;31mNameError\u001b[0m: name 'model' is not defined"
     ]
    }
   ],
   "source": [
    "\n",
    "# pk = [\"wPKs\", \"woutPKs\"]\n",
    "pk = [\"wPKs\"]\n",
    "# s  = [\"s\", \"m\", \"l\"]\n",
    "s  = [\"s\"]\n",
    "p  = [-1.0, -0.5, 0.0, 0.5, 1.0]\n",
    "pl = [\"n1\", \"np5\", \"0\", \"pp5\", \"p1\"]\n",
    "\n",
    "data = []\n",
    "\n",
    "for a in range(0, len(pk)):\n",
    "    for b in range(0, len(s)):\n",
    "        for c in range(0, len(pl)):\n",
    "            \n",
    "            subdirectory = './known_structures/'+pk[a]+'/'+s[b]\n",
    "\n",
    "            ct = [f for f in os.listdir(subdirectory) if f.endswith('.ct.txt')]\n",
    "            fasta = [f for f in os.listdir(subdirectory) if f.endswith('.fasta.txt')]\n",
    "\n",
    "            bprna_id = []\n",
    "            size = []\n",
    "            pks = []\n",
    "            pk_penalty = []\n",
    "\n",
    "            penalty = pl[c]\n",
    "\n",
    "            for i in range(0, len(ct)):\n",
    "                bprna_id.append(ct[i].split('.')[0])\n",
    "                size.append(subdirectory.split(\"/\")[3])\n",
    "                if subdirectory.split(\"/\")[2] == \"wPKs\":\n",
    "                    pks.append(\"T\")\n",
    "                else:\n",
    "                    pks.append(\"F\")\n",
    "                pk_penalty.append(penalty)\n",
    "            \n",
    "            stems_a    = []\n",
    "            energies_a = []\n",
    "            stems_p    = []\n",
    "            pks_p      = []\n",
    "            ols_p      = []\n",
    "            models     = []\n",
    "\n",
    "            for index in range(0, len(ct)):\n",
    "                stems_a.append(actual_stems(ct[index], fasta[index]))\n",
    "                energies_a.append(energy(stems_a[index], p[c]))\n",
    "                stems_p.append(potential_stems(fasta[index]))\n",
    "                pks_p.append(potential_pseudoknots(stems_p[index][0], p[c]))\n",
    "                ols_p.append(potential_overlaps(stems_p[index][0]))\n",
    "                models.append(model(stems_p[index][0], pks_p[index], ols_p[index], stems_p[index][1]))\n",
    "                                \n",
    "            print(models)\n",
    "            problem = []\n",
    "            # print(pk_penalty)"
   ]
  },
  {
   "cell_type": "code",
   "execution_count": null,
   "id": "6ea5ac0b",
   "metadata": {},
   "outputs": [],
   "source": [
    "# loop over all structures, submitting to D-Wave, recording predicted stems and energies, recording comparisons between known and precicted structures:\n",
    "\n",
    "pk = [\"wPKs\", \"woutPKs\"]\n",
    "s  = [\"s\", \"m\", \"l\"]\n",
    "p  = [-1.0, -0.5, 0.0, 0.5, 1.0]\n",
    "pl = [\"n1\", \"np5\", \"0\", \"pp5\", \"p1\"]\n",
    "\n",
    "data = []\n",
    "\n",
    "for a in range(0, len(pk)):\n",
    "    for b in range(0, len(s)):\n",
    "        for c in range(0, len(pl)):\n",
    "            \n",
    "            subdirectory = './known_structures/'+pk[a]+'/'+s[b]\n",
    "\n",
    "            ct = [f for f in os.listdir(subdirectory) if f.endswith('.ct.txt')]\n",
    "            fasta = [f for f in os.listdir(subdirectory) if f.endswith('.fasta.txt')]\n",
    "\n",
    "            bprna_id = []\n",
    "            size = []\n",
    "            pks = []\n",
    "            pk_penalty = []\n",
    "\n",
    "            penalty = pl[c]\n",
    "\n",
    "            for i in range(0, len(ct)):\n",
    "                bprna_id.append(ct[i].split('.')[0])\n",
    "                size.append(subdirectory.split(\"/\")[3])\n",
    "                if subdirectory.split(\"/\")[2] == \"wPKs\":\n",
    "                    pks.append(\"T\")\n",
    "                else:\n",
    "                    pks.append(\"F\")\n",
    "                pk_penalty.append(penalty)\n",
    "            \n",
    "            stems_a    = []\n",
    "            energies_a = []\n",
    "            stems_p    = []\n",
    "            pks_p      = []\n",
    "            ols_p      = []\n",
    "            models     = []\n",
    "\n",
    "            for index in range(0, len(ct)):\n",
    "                stems_a.append(actual_stems(ct[index], fasta[index]))\n",
    "                energies_a.append(energy(stems_a[index], p[c]))\n",
    "                stems_p.append(potential_stems(fasta[index]))\n",
    "                pks_p.append(potential_pseudoknots(stems_p[index][0], p[c]))\n",
    "                ols_p.append(potential_overlaps(stems_p[index][0]))\n",
    "                models.append(model(stems_p[index][0], pks_p[index], ols_p[index], stems_p[index][1]))\n",
    "                                \n",
    "            problem = []\n",
    "\n",
    "            for i in range(0, len(ct)):\n",
    "                problem.append(dimod.BinaryQuadraticModel(models[i][0], models[i][1], vartype = 'BINARY', offset = 0.0))    \n",
    "            \n",
    "            stems_f = []\n",
    "            min_time = []\n",
    "\n",
    "            for i in range(0, len(ct)):\n",
    "                try:\n",
    "                    sampleset = sampler.sample(problem[i], num_reads=1)\n",
    "                    min_time.append(\"placeholder\")\n",
    "                \n",
    "                    for datum in sampleset.data(['sample', 'energy', 'num_occurrences']):\n",
    "                        results = datum.sample\n",
    "                        predicted_energy = datum.energy\n",
    "    \n",
    "                    f_stems = []\n",
    "\n",
    "                    for j in range(0, len(results)):\n",
    "                        if results[str(j)] == 1:\n",
    "                            f_stems.append(stems_p[i][0][j])\n",
    "            \n",
    "                    stems_f.append([f_stems, predicted_energy])\n",
    "                except:\n",
    "                    print(\"no embedding found, skipping...\")\n",
    "            \n",
    "            metrics_1 = []\n",
    "            metrics_2 = []\n",
    "\n",
    "            for index in range(0, len(ct)):\n",
    "                try:\n",
    "                    metrics_1.append(evaluation_1(stems_a[index], stems_f[index][0]))\n",
    "                    metrics_2.append(evaluation_2(stems_a[index], stems_f[index][0]))\n",
    "                except:\n",
    "                    print(\"no structure found, skipping...\")\n",
    "            \n",
    "            headers = [\"bprna_id\", \"sequence\", \"length\", \"size\", \"pks\", \"pk_penalty\", \"stems_actual\", \"energy_actual\", \"stems_predicted\", \"energy_predicted\", \"time_to_solution\", \"sensitivity_bp\", \"specificity_bp\", \"sensitivity_b\", \"specificity_b\"]\n",
    "            data.append(pd.DataFrame(list(zip(bprna_id, list(map(list, zip(*stems_p)))[2], list(map(list, zip(*stems_p)))[3], size, pks, pk_penalty, stems_a, energies_a, list(map(list, zip(*stems_f)))[0], list(map(list, zip(*stems_f)))[1], min_time, list(map(list, zip(*metrics_1)))[0], list(map(list, zip(*metrics_1)))[1], list(map(list, zip(*metrics_2)))[0], list(map(list, zip(*metrics_2)))[1])), columns = headers))"
   ]
  },
  {
   "cell_type": "markdown",
   "id": "68c6b938",
   "metadata": {},
   "source": [
    "# Step 1: Prepare Data"
   ]
  },
  {
   "cell_type": "markdown",
   "id": "977b418f",
   "metadata": {},
   "source": [
    "In this part, we load the raw molecule data for experiment.\n",
    "The [117 ligand](http://www.rcsb.org/ligand/117) was \n",
    "put in the repository. We assign the relative \n",
    "path to **raw_path**.\n",
    "The **s3_bucket** and **prefix** are used to store the \n",
    "optimization results. We can use the one created with the \n",
    "cloudformation for convenience."
   ]
  },
  {
   "cell_type": "code",
   "execution_count": null,
   "id": "ea880ba2",
   "metadata": {},
   "outputs": [],
   "source": [
    "# initial parameters for experiment data\n",
    "s3_bucket = f\"xxxx\" # change to the name of bucket created in your deployment\n",
    "prefix = \"xxxx\" # the name of the folder in the bucket\n",
    "\n",
    "raw_path = './molecule-data/117_ideal.mol2' # the mol2 file for this experiment"
   ]
  },
  {
   "cell_type": "code",
   "execution_count": null,
   "id": "e823bd32",
   "metadata": {},
   "outputs": [],
   "source": [
    "mol_data = MoleculeData(raw_path, 'qmu')\n",
    "\n",
    "data_path = mol_data.save(\"latest\")\n",
    "\n",
    "num_rotation_bond = mol_data.bond_graph.rb_num\n",
    "print(f\"You have loaded the raw molecule data and saved as {data_path}. \\n\\\n",
    "This molecule has {num_rotation_bond} rotable bond\")"
   ]
  },
  {
   "cell_type": "markdown",
   "id": "654360b3",
   "metadata": {},
   "source": [
    "After running this block, the processed data \n",
    "will be saved as **qmu_117_ideal_data_latest.pickle**\n",
    "and **data_path** will be updated. We can see that this \n",
    "molecule has 23 rotatable bonds."
   ]
  },
  {
   "cell_type": "markdown",
   "id": "8431116a",
   "metadata": {},
   "source": [
    "# Step 2: Build Model"
   ]
  },
  {
   "cell_type": "markdown",
   "id": "761f8310",
   "metadata": {},
   "source": [
    "In this part, we build the Quadratic Unconstrained \n",
    "Binary Optimization (QUBO) model for molecular unfolding.\n",
    "\n",
    "First, we set the following parameters and \n",
    "initialize the QMUQUBO object. \n",
    "\n",
    "<center>\n",
    "\n",
    "| Parameter | Description | Value |\n",
    "|--- |--- |--- |\n",
    "|A | penalty scalar |300|\n",
    "|hubo_qubo_val | energy penalty of make_quadratic() |200|\n",
    "|M | number of torsions for molecular unfolding| [1, max number of rotatable bonds] |\n",
    "|D| angle precision of rotation| 8|\n",
    "|method| the method of building model| 'pre-calc': calculate the score in advance|\n",
    "\n",
    " </center>"
   ]
  },
  {
   "cell_type": "markdown",
   "id": "b45b1b23",
   "metadata": {},
   "source": [
    "We use the 'pre-calc' method \n",
    "to build the model. This molecule has 23 rotatable bonds and \n",
    "we only test 2 of them, so we set the **M** to 2. And we want \n",
    "the angle to become $45^o$, so we set the **D** to 8 \n",
    "(i.e., $8=360^o/45^o$). The **A** and **hubo_qubo_val** are \n",
    "test from experiments. "
   ]
  },
  {
   "cell_type": "code",
   "execution_count": null,
   "id": "89c4c746",
   "metadata": {},
   "outputs": [],
   "source": [
    "# initial the QMUQUBO object\n",
    "init_param = {}\n",
    "method = ['pre-calc']\n",
    "\n",
    "for mt in method:\n",
    "    if mt == 'pre-calc':\n",
    "        init_param[mt] = {}\n",
    "        init_param[mt]['param'] = ['M', 'D', 'A', 'hubo_qubo_val']\n",
    "    \n",
    "qmu_qubo = QMUQUBO(mol_data, method, **init_param)"
   ]
  },
  {
   "cell_type": "code",
   "execution_count": null,
   "id": "69ffcbfd",
   "metadata": {},
   "outputs": [],
   "source": [
    "# set the parameters for model\n",
    "model_param = {}\n",
    "# parameters\n",
    "num_rotation_bond = mol_data.bond_graph.rb_num\n",
    "\n",
    "method = 'pre-calc'\n",
    "model_param[method] = {}\n",
    "# model_param[method]['M'] = range(1, num_rotation_bond+1)\n",
    "model_param[method]['M'] = [1,2,3]\n",
    "model_param[method]['D'] = [8]\n",
    "model_param[method]['A'] = [300]\n",
    "model_param[method]['hubo_qubo_val'] = [200]\n",
    "\n",
    "qmu_qubo.build_model(**model_param)"
   ]
  },
  {
   "cell_type": "markdown",
   "id": "a9624b3f",
   "metadata": {},
   "source": [
    "We can use the following method to check the properties of \n",
    "model. This way, we can build many models conveniently. \n",
    "After that, we save the model and update the value of \n",
    "**model_path**."
   ]
  },
  {
   "cell_type": "code",
   "execution_count": null,
   "id": "431a9c5a",
   "metadata": {},
   "outputs": [],
   "source": [
    "# describe the model parameters\n",
    "model_info = qmu_qubo.describe_model()"
   ]
  },
  {
   "cell_type": "code",
   "execution_count": null,
   "id": "8cfdc3cb",
   "metadata": {},
   "outputs": [],
   "source": [
    "# save the model\n",
    "model_path = qmu_qubo.save(\"latest\")\n",
    "\n",
    "print(f\"You have built the QUBO model and saved it as {model_path}\")"
   ]
  },
  {
   "cell_type": "markdown",
   "id": "fb42eb0f",
   "metadata": {},
   "source": [
    "# Step 3: Optimize Configuration"
   ]
  },
  {
   "cell_type": "markdown",
   "id": "2b3febaf",
   "metadata": {},
   "source": [
    "In this part, we use SA and QA to find the optimized configuration of molecular unfolding.\n",
    "At first, we load the model file using **QMUQUBO** object"
   ]
  },
  {
   "cell_type": "code",
   "execution_count": null,
   "id": "d4e2a058",
   "metadata": {},
   "outputs": [],
   "source": [
    "qmu_qubo_optimize = QMUQUBO.load(model_path)"
   ]
  },
  {
   "cell_type": "code",
   "execution_count": null,
   "id": "40f19710",
   "metadata": {},
   "outputs": [],
   "source": [
    "model_info = qmu_qubo_optimize.describe_model()"
   ]
  },
  {
   "cell_type": "markdown",
   "id": "b363515e",
   "metadata": {},
   "source": [
    "We can see the parameters of this model, with M equaling 1,2 or 3, D equaling 8, \n",
    "A equaling 300 and hubo_qubo_val equaling 200. \n",
    "Actually, we can contain multiple models in this file just \n",
    "by giving multiple values for one parameter when creating models.\n",
    "\n",
    "Actually, we can contain multiple models in this file just \n",
    "by giving multiple values for one parameter when creating models.\n",
    "Then, we need use **model_name** to get the model for experiments."
   ]
  },
  {
   "cell_type": "code",
   "execution_count": null,
   "id": "c89eb573",
   "metadata": {},
   "outputs": [],
   "source": [
    "# get the model you want to optimize\n",
    "M = 2\n",
    "D = 8\n",
    "A = 300\n",
    "hubo_qubo_val = 200\n",
    "model_name = \"{}_{}_{}_{}\".format(M, D, A, hubo_qubo_val)\n",
    "method = \"pre-calc\"\n",
    "\n",
    "qubo_model = qmu_qubo_optimize.get_model(method, model_name)"
   ]
  },
  {
   "cell_type": "markdown",
   "id": "7fe4c79b",
   "metadata": {},
   "source": [
    "We can see that we want to carry out experiment with the QUBO model with M equaling 2.\n",
    " After that, we set the parameters for optimization.\n",
    "\n",
    "| Parameter | Description | Value |\n",
    "|--- |--- |--- |\n",
    "|method | annealing method for QUBO problem |'dwave-sa': use the simulated annealer in ocean toolkit<br> 'dwave-qa': use the quantum annealer|\n",
    "|shots| number of reads, refer to [dwave-sa](https://docs.ocean.dwavesys.com/projects/neal/en/latest/reference/generated/neal.sampler.SimulatedAnnealingSampler.sample.html#neal.sampler.SimulatedAnnealingSampler.sample) and [dwave-qa](https://amazon-braket-ocean-plugin-python.readthedocs.io/en/latest/_apidoc/braket.ocean_plugin.braket_sampler.html) for details |1 to 10,000|\n",
    "|bucket | the s3 bucket to store your results | - |\n",
    "|prefix | the name of the folder in your s3 bucket | - |\n",
    "|device | the arn name to run your quantum annealing| 'arn:aws:braket:::device/qpu/d-wave/Advantage_system4' <br> 'arn:aws:braket:::device/qpu/d-wave/DW_2000Q_6'|\n",
    "\n",
    "Then, we can run the SA for this problem:"
   ]
  },
  {
   "cell_type": "code",
   "execution_count": null,
   "id": "bac3b192",
   "metadata": {},
   "outputs": [],
   "source": [
    "method = 'neal-sa'\n",
    "\n",
    "optimizer_param = {}\n",
    "optimizer_param['shots'] = 1000\n",
    "\n",
    "sa_optimizer = Annealer(qubo_model, method, **optimizer_param)"
   ]
  },
  {
   "cell_type": "code",
   "execution_count": null,
   "id": "f1b28e0d",
   "metadata": {},
   "outputs": [],
   "source": [
    "sa_optimize_result = sa_optimizer.fit()"
   ]
  },
  {
   "cell_type": "markdown",
   "id": "99c606d2",
   "metadata": {},
   "source": [
    "We can tell that we set the number of shots for SA to 1000. \n",
    "The result is saved as the local file **./sa_result.pickle.**\n",
    "Alternatively, we can use QA to solve this problem:"
   ]
  },
  {
   "cell_type": "code",
   "execution_count": null,
   "id": "efaea78d",
   "metadata": {},
   "outputs": [],
   "source": [
    "method = 'dwave-qa'\n",
    "\n",
    "optimizer_param = {}\n",
    "optimizer_param['shots'] = 1000\n",
    "optimizer_param['bucket'] = s3_bucket # the name of the bucket\n",
    "optimizer_param['prefix'] = prefix # the name of the folder in the bucket\n",
    "optimizer_param['device'] = \"arn:aws:braket:::device/qpu/d-wave/Advantage_system4\"\n",
    "optimizer_param[\"embed_method\"] = \"default\"\n",
    "\n",
    "qa_optimizer = Annealer(qubo_model, method, **optimizer_param)"
   ]
  },
  {
   "cell_type": "markdown",
   "id": "7a28a6a8",
   "metadata": {},
   "source": [
    "In this QA, we set the number of shots to 1000 and \n",
    "choose the \n",
    "[Advantage_System4.1](https://docs.dwavesys.com/docs/latest/doc_physical_properties.html)\n",
    "as the QPU. In addition, the results are saved to your bucket automatically and you \n",
    "can get the task id for future process. "
   ]
  },
  {
   "cell_type": "code",
   "execution_count": null,
   "id": "68ce738c",
   "metadata": {},
   "outputs": [],
   "source": [
    "# not create annealing task, only embedding logic\n",
    "qa_optimizer.embed()\n",
    "# create annealing task\n",
    "qa_optimize_result = qa_optimizer.fit()"
   ]
  },
  {
   "cell_type": "code",
   "execution_count": null,
   "id": "24fdf142",
   "metadata": {},
   "outputs": [],
   "source": [
    "qa_task_id = qa_optimizer.get_task_id()\n",
    "print(f\"task id is {qa_task_id}\")"
   ]
  },
  {
   "cell_type": "markdown",
   "id": "84901a01",
   "metadata": {},
   "source": [
    "Finally, we can compare the execution time between SA and QA :"
   ]
  },
  {
   "cell_type": "code",
   "execution_count": null,
   "id": "6023a8fb",
   "metadata": {},
   "outputs": [],
   "source": [
    "print(f\"dwave-sa run time {sa_optimize_result['time']}\")\n",
    "print(f\"dwave-qa run time {qa_optimize_result['time']}\")"
   ]
  },
  {
   "cell_type": "markdown",
   "id": "86f0ed9a",
   "metadata": {},
   "source": [
    "We can tell from the image that SA needs more than 150 seconds \n",
    "and QA needs more than 5 seconds to find \n",
    "solution.\n",
    "\n",
    "We sometimes get the best result that occurs only once.\n",
    "\n",
    "![OneTimeQA](../../../docs/en/images/one-time-qa.png)\n",
    "\n",
    "This does not always indicate an error. It is actually the characteristic of the problem or how the problem \n",
    "is formulated. Because we have different linear and quadratic terms that vary by many orders of magnitude. If we \n",
    "set change value of A to some smaller number, like 10 or 100, more occurrences of the best answer will be observed. \n",
    "However, these answers usually break the constraints. For more information about this phenomenon, please refer to this \n",
    "[Link](https://support.dwavesys.com/hc/en-us/community/posts/1500000698522-Number-of-occurrences-?input_string=number%20occurance)."
   ]
  },
  {
   "cell_type": "markdown",
   "id": "ddcba0ff",
   "metadata": {},
   "source": [
    "# Step 4: PostProcess Result"
   ]
  },
  {
   "cell_type": "markdown",
   "id": "2d0d4d09",
   "metadata": {},
   "source": [
    "In this part, we post process the optimizing results for evaluation and visualization.\n",
    "At first, we prepare the following parameters:\n",
    "\n",
    "| Parameter | Description | Value |\n",
    "|--- |--- |--- |\n",
    "|method | annealing method for QUBO problem |'dwave-sa': use the simulated annealer in ocean toolkit<br> 'dwave-qa': use the quantum annealer|\n",
    "|raw_path| the path for the original molecule file| './molecule-data/117_ideal.mol2' in this example |\n",
    "|data_path| the path for the processed molecule file| './qmu_117_ideal_data_latest.mol2' in this example |\n",
    "|bucket | the s3 bucket to store your results | - |\n",
    "|prefix | the name of the folder in your s3 bucket | - |\n",
    "|task_id | the id for your quantum annealing task| '2b5a3b05-1a0e-443a-852c-4ec422a10e59' in this example |"
   ]
  },
  {
   "cell_type": "markdown",
   "id": "6132a665",
   "metadata": {},
   "source": [
    "Then we can run the post-process using **ResultParser** object for SA:"
   ]
  },
  {
   "cell_type": "code",
   "execution_count": null,
   "id": "ee681be9",
   "metadata": {},
   "outputs": [],
   "source": [
    "method = \"neal-sa\"\n",
    "sa_param = {}\n",
    "sa_param[\"raw_path\"] = raw_path\n",
    "sa_param[\"data_path\"] = data_path\n",
    "\n",
    "sa_process_result = ResultParser(method, **sa_param)\n",
    "# print(f\"{method} result is {sa_process_result.get_all_result()}\")\n",
    "\n",
    "local_time, _ , _, _= sa_process_result.get_time()\n",
    "\n",
    "print(f\"time for {method}: \\n \\\n",
    "    local time is {local_time}\")"
   ]
  },
  {
   "cell_type": "code",
   "execution_count": null,
   "id": "c78e26dc",
   "metadata": {},
   "outputs": [],
   "source": [
    "sa_atom_pos_data = sa_process_result.generate_optimize_pts()\n",
    "# save unfold file for visualization and parameters for experiment: 1. volume value 2. relative improvement\n",
    "sa_result_filepath, sa_result_json = sa_process_result.save_mol_file(f\"{timestamp}\")\n",
    "\n",
    "print(f\"result path is {sa_result_filepath}, and result optimization file path is {sa_result_json}\")"
   ]
  },
  {
   "cell_type": "code",
   "execution_count": null,
   "id": "a12c756a",
   "metadata": {},
   "outputs": [],
   "source": [
    "sa_process_result.parameters"
   ]
  },
  {
   "cell_type": "markdown",
   "id": "392b7985",
   "metadata": {},
   "source": [
    "In the first block, we can see the **local time**\n",
    "for SA is more than 150 seconds. \n",
    "With the **generate_optimize_pts()** method, the final 3D \n",
    "points after unfolding will be generated and saved as json file and mol2 files. The last \n",
    "block shows the optimizing results which are also stored in json files. \n",
    "It shows that the optimized result gains \n",
    "1.0006x increase in volume. The value for **unfolding_results** indicates \n",
    "that the rotatable bond 15 should rotate $270^o$ ($360/8*(7-1)$) and \n",
    "the rotatable bond 14 should rotate $0^o$ ($360/8*(1-1)$).\n",
    "At the same time, you can run the post-process for QA:"
   ]
  },
  {
   "cell_type": "code",
   "execution_count": null,
   "id": "c8eea314",
   "metadata": {},
   "outputs": [],
   "source": [
    "method = \"dwave-qa\"\n",
    "qa_param = {}\n",
    "qa_param[\"bucket\"] = s3_bucket\n",
    "qa_param[\"prefix\"] = prefix\n",
    "qa_param[\"task_id\"] = qa_task_id\n",
    "qa_param[\"raw_path\"] = raw_path\n",
    "qa_param[\"data_path\"] = data_path\n",
    "\n",
    "qa_process_result = ResultParser(method, **qa_param)\n",
    "# print(f\"{method} result is {qa_process_result.get_all_result()}\")\n",
    "\n",
    "local_time, task_time, total_time, access_time = qa_process_result.get_time()\n",
    "\n",
    "print(f\"time for {method}: \\n \\\n",
    "    local time is {local_time},\\n \\\n",
    "    task time is {task_time}, \\n \\\n",
    "    qpu total time is {total_time}, \\n \\\n",
    "    qpu access time is {access_time}\")"
   ]
  },
  {
   "cell_type": "markdown",
   "id": "fa124178",
   "metadata": {},
   "source": [
    "we can see that there many types of time metrics for running QA.\n",
    "This task has the **local time** of 5 s, which means the time between calling the api and \n",
    "getting the annealing result. The **task time** time is the metric from the json file in \n",
    "bucket. We can also see the **qpu total time** and **qpu access time** representing the \n",
    "actual time running in the QPU. Please refer to [Operation and Timing](https://docs.dwavesys.com/docs/latest/c_qpu_timing.html)\n",
    "for details."
   ]
  },
  {
   "cell_type": "code",
   "execution_count": null,
   "id": "b7cc0999",
   "metadata": {},
   "outputs": [],
   "source": [
    "qa_atom_pos_data = qa_process_result.generate_optimize_pts()\n",
    "# save unfold file for visualization and parameters for experiment: 1. volume value 2. relative improvement\n",
    "qa_result_filepath, qa_result_json = qa_process_result.save_mol_file(f\"{timestamp}\")\n",
    "print(f\"result path is {qa_result_filepath}, and result optimization file path is {qa_result_json}\")"
   ]
  },
  {
   "cell_type": "code",
   "execution_count": null,
   "id": "a531017a",
   "metadata": {},
   "outputs": [],
   "source": [
    "qa_process_result.parameters"
   ]
  },
  {
   "cell_type": "markdown",
   "id": "2d3edcb7",
   "metadata": {},
   "source": [
    "In same way, the optimized results are translated the 3D points and saved \n",
    "as local json and mol2 files. The result indicates that QA gains \n",
    "1.0006x increase in \n",
    "volume."
   ]
  },
  {
   "cell_type": "markdown",
   "id": "356785f5",
   "metadata": {},
   "source": [
    "Finally, We can open folders for the optimized results:\n",
    "\n",
    "![optimize-results](../../../docs/en/images/optimize-results.png)\n",
    "\n",
    " <center>Optimize Results</center>\n",
    "\n",
    "We can see the json result and mol2 file of SA and QA are \n",
    "stored in this place. If we carry out more \n",
    "experiments, more results with time stamp are \n",
    "stored incrementally. \n",
    "For visualization, we can use the following method to see the original the molecule and unfolding molecule."
   ]
  },
  {
   "cell_type": "code",
   "execution_count": null,
   "id": "baf8787f",
   "metadata": {},
   "outputs": [],
   "source": [
    "# this shows the original molecule\n",
    "qa_process_result.InteractView(raw_path, size=800)"
   ]
  },
  {
   "cell_type": "code",
   "execution_count": null,
   "id": "a21f8478",
   "metadata": {},
   "outputs": [],
   "source": [
    "# copy the variable for the path of unfolding molecule, we can see the unfolding results. this also works for sa_process_result.\n",
    "qa_process_result.InteractView(qa_result_filepath, size=800)"
   ]
  },
  {
   "cell_type": "markdown",
   "id": "d1a07681",
   "metadata": {},
   "source": [
    "Alternatively, we can upload the mol2 file into \n",
    "[online viewer tool](https://www.rcsb.org/3d-view) \n",
    "to see the result:\n",
    "\n",
    "![visual](../../../docs/en/images/visualization.png)\n",
    "\n",
    " <center>Visualization</center>"
   ]
  }
 ],
 "metadata": {
  "kernelspec": {
   "display_name": "Python 3.8.2 64-bit",
   "language": "python",
   "name": "python3"
  },
  "language_info": {
   "codemirror_mode": {
    "name": "ipython",
    "version": 3
   },
   "file_extension": ".py",
   "mimetype": "text/x-python",
   "name": "python",
   "nbconvert_exporter": "python",
   "pygments_lexer": "ipython3",
   "version": "3.8.2"
  },
  "vscode": {
   "interpreter": {
    "hash": "31f2aee4e71d21fbe5cf8b01ff0e069b9275f58929596ceb00d14d90e3e16cd6"
   }
  }
 },
 "nbformat": 4,
 "nbformat_minor": 5
}
