{
 "cells": [
  {
   "cell_type": "code",
   "execution_count": 2,
   "id": "ec2fe146",
   "metadata": {},
   "outputs": [
    {
     "name": "stderr",
     "output_type": "stream",
     "text": [
      "2022-05-16 13:30:13,675 dwave.cloud INFO MainThread Log level for 'dwave.cloud' namespace set to 0\n"
     ]
    }
   ],
   "source": [
    "from utility.MoleculeParser import MoleculeData\n",
    "from utility.QMUQUBO import QMUQUBO\n",
    "from utility.AnnealerOptimizer import Annealer\n",
    "from utility.ResultProcess import ResultParser\n",
    "import time\n",
    "\n",
    "timestamp = time.strftime(\"%Y%m%d-%H\")"
   ]
  },
  {
   "cell_type": "markdown",
   "id": "68c6b938",
   "metadata": {},
   "source": [
    "# Step 1: Prepare Data"
   ]
  },
  {
   "cell_type": "markdown",
   "id": "977b418f",
   "metadata": {},
   "source": [
    "In this part, we load the raw molecule data for experiment.\n",
    "The [117 ligand](http://www.rcsb.org/ligand/117) was \n",
    "put in the repository. We assign the relative \n",
    "path to **raw_path**.\n",
    "The **s3_bucket** and **prefix** are used to store the \n",
    "optimization results. We can use the one created with the \n",
    "cloudformation for convenience."
   ]
  },
  {
   "cell_type": "code",
   "execution_count": 3,
   "id": "ea880ba2",
   "metadata": {},
   "outputs": [],
   "source": [
    "# initial parameters for experiment data\n",
    "s3_bucket = f\"amazon-braket-1a222675c751\" # change to the name of bucket created in your deployment\n",
    "prefix = \"annealer-experiment\" # the name of the folder in the bucket\n",
    "\n",
    "# raw_path = './molecule-data/117_ideal.mol2' # the mol2 file for this experiment\n",
    "raw_path = '/Users/aoyuzhan/Workplace/SolutionCenter/initiative/qc/hcls/drug-discovery/AWS-gcr-qc-life-science/source/src/molecule-unfolding/molecule-data/Aspirin.mol2'"
   ]
  },
  {
   "cell_type": "code",
   "execution_count": 4,
   "id": "e823bd32",
   "metadata": {},
   "outputs": [
    {
     "name": "stderr",
     "output_type": "stream",
     "text": [
      "INFO:root:parse mol2 file!\n",
      "INFO:root:finish save qmu_Aspirin_data_latest.pickle\n"
     ]
    },
    {
     "name": "stdout",
     "output_type": "stream",
     "text": [
      "You have loaded the raw molecule data and saved as ./qmu_Aspirin_data_latest.pickle. \n",
      "This molecule has 4 rotable bond\n"
     ]
    }
   ],
   "source": [
    "mol_data = MoleculeData(raw_path, 'qmu')\n",
    "\n",
    "data_path = mol_data.save(\"latest\")\n",
    "\n",
    "num_rotation_bond = mol_data.bond_graph.rb_num\n",
    "print(f\"You have loaded the raw molecule data and saved as {data_path}. \\n\\\n",
    "This molecule has {num_rotation_bond} rotable bond\")"
   ]
  },
  {
   "cell_type": "markdown",
   "id": "654360b3",
   "metadata": {},
   "source": [
    "After running this block, the processed data \n",
    "will be saved as **qmu_117_ideal_data_latest.pickle**\n",
    "and **data_path** will be updated. We can see that this \n",
    "molecule has 23 rotatable bonds."
   ]
  },
  {
   "cell_type": "markdown",
   "id": "8431116a",
   "metadata": {},
   "source": [
    "# Step 2: Build Model"
   ]
  },
  {
   "cell_type": "markdown",
   "id": "761f8310",
   "metadata": {},
   "source": [
    "In this part, we build the Quadratic Unconstrained \n",
    "Binary Optimization (QUBO) model for molecular unfolding.\n",
    "\n",
    "First, we set the following parameters and \n",
    "initialize the QMUQUBO object. \n",
    "\n",
    "<center>\n",
    "\n",
    "| Parameter | Description | Value |\n",
    "|--- |--- |--- |\n",
    "|A | penalty scalar |300|\n",
    "|hubo_qubo_val | energy penalty of make_quadratic() |200|\n",
    "|M | number of torsions for molecular unfolding| [1, max number of rotatable bonds] |\n",
    "|D| angle precision of rotation| 8|\n",
    "|method| the method of building model| 'pre-calc': calculate the score in advance|\n",
    "\n",
    " </center>"
   ]
  },
  {
   "cell_type": "markdown",
   "id": "b45b1b23",
   "metadata": {},
   "source": [
    "We use the 'pre-calc' method \n",
    "to build the model. This molecule has 23 rotatable bonds and \n",
    "we only test 2 of them, so we set the **M** to 2. And we want \n",
    "the angle to become $45^o$, so we set the **D** to 8 \n",
    "(i.e., $8=360^o/45^o$). The **A** and **hubo_qubo_val** are \n",
    "test from experiments. "
   ]
  },
  {
   "cell_type": "code",
   "execution_count": 5,
   "id": "89c4c746",
   "metadata": {},
   "outputs": [
    {
     "name": "stderr",
     "output_type": "stream",
     "text": [
      "INFO:root:initial pre-calculate for constructing molecule QUBO\n"
     ]
    }
   ],
   "source": [
    "# initial the QMUQUBO object\n",
    "init_param = {}\n",
    "method = ['pre-calc']\n",
    "\n",
    "for mt in method:\n",
    "    if mt == 'pre-calc':\n",
    "        init_param[mt] = {}\n",
    "        init_param[mt]['param'] = ['M', 'D', 'A', 'hubo_qubo_val']\n",
    "    \n",
    "qmu_qubo = QMUQUBO(mol_data, method, **init_param)"
   ]
  },
  {
   "cell_type": "code",
   "execution_count": 6,
   "id": "69ffcbfd",
   "metadata": {},
   "outputs": [
    {
     "name": "stderr",
     "output_type": "stream",
     "text": [
      "INFO:root:Construct model for M:1,D:4,A:300,hubo_qubo_val:200 9.801387786865235e-05 min\n",
      "INFO:root:Construct model for M:1,D:8,A:300,hubo_qubo_val:200 0.0001687169075012207 min\n",
      "INFO:root:Construct model for M:2,D:4,A:300,hubo_qubo_val:200 0.000338900089263916 min\n",
      "INFO:root:Construct model for M:2,D:8,A:300,hubo_qubo_val:200 0.002280716101328532 min\n",
      "INFO:root:Construct model for M:3,D:4,A:300,hubo_qubo_val:200 0.0015691161155700684 min\n",
      "INFO:root:Construct model for M:3,D:8,A:300,hubo_qubo_val:200 0.008494039376576742 min\n",
      "INFO:root:Construct model for M:4,D:4,A:300,hubo_qubo_val:200 0.0026584664980570474 min\n",
      "INFO:root:Construct model for M:4,D:8,A:300,hubo_qubo_val:200 0.033118863900502525 min\n"
     ]
    },
    {
     "data": {
      "text/plain": [
       "0"
      ]
     },
     "execution_count": 6,
     "metadata": {},
     "output_type": "execute_result"
    }
   ],
   "source": [
    "# set the parameters for model\n",
    "model_param = {}\n",
    "# parameters\n",
    "num_rotation_bond = mol_data.bond_graph.rb_num\n",
    "\n",
    "method = 'pre-calc'\n",
    "model_param[method] = {}\n",
    "# model_param[method]['M'] = range(1, num_rotation_bond+1)\n",
    "model_param[method]['M'] = [1,2,3,4]\n",
    "model_param[method]['D'] = [4,8]\n",
    "model_param[method]['A'] = [300]\n",
    "model_param[method]['hubo_qubo_val'] = [200]\n",
    "\n",
    "qmu_qubo.build_model(**model_param)"
   ]
  },
  {
   "cell_type": "markdown",
   "id": "a9624b3f",
   "metadata": {},
   "source": [
    "We can use the following method to check the properties of \n",
    "model. This way, we can build many models conveniently. \n",
    "After that, we save the model and update the value of \n",
    "**model_path**."
   ]
  },
  {
   "cell_type": "code",
   "execution_count": 7,
   "id": "431a9c5a",
   "metadata": {},
   "outputs": [
    {
     "name": "stderr",
     "output_type": "stream",
     "text": [
      "INFO:root:method: pre-calc\n",
      "INFO:root:The model_name should be {M}_{D}_{A}_{hubo_qubo_val}\n",
      "INFO:root:param: M, value {1, 2, 3, 4}\n",
      "INFO:root:param: D, value {8, 4}\n",
      "INFO:root:param: A, value {300}\n",
      "INFO:root:param: hubo_qubo_val, value {200}\n"
     ]
    }
   ],
   "source": [
    "# describe the model parameters\n",
    "model_info = qmu_qubo.describe_model()"
   ]
  },
  {
   "cell_type": "code",
   "execution_count": 8,
   "id": "8cfdc3cb",
   "metadata": {},
   "outputs": [
    {
     "name": "stderr",
     "output_type": "stream",
     "text": [
      "INFO:root:finish save qmu_Aspirin_model_latest.pickle\n"
     ]
    },
    {
     "name": "stdout",
     "output_type": "stream",
     "text": [
      "You have built the QUBO model and saved it as ./qmu_Aspirin_model_latest.pickle\n"
     ]
    }
   ],
   "source": [
    "# save the model\n",
    "model_path = qmu_qubo.save(\"latest\")\n",
    "\n",
    "print(f\"You have built the QUBO model and saved it as {model_path}\")"
   ]
  },
  {
   "cell_type": "code",
   "execution_count": 9,
   "id": "ddadeac4",
   "metadata": {},
   "outputs": [
    {
     "data": {
      "text/plain": [
       "'3'"
      ]
     },
     "execution_count": 9,
     "metadata": {},
     "output_type": "execute_result"
    }
   ],
   "source": [
    "qmu_qubo.rb_var_map['4+5']"
   ]
  },
  {
   "cell_type": "code",
   "execution_count": 10,
   "id": "ed1f8d71",
   "metadata": {},
   "outputs": [
    {
     "data": {
      "text/plain": [
       "{'1': {'pts': [-1.4637, 1.3943, 1.2946],\n",
       "  'idx': ([0, 0, 0], [0, 0, 0]),\n",
       "  'vdw-radius': 1.7},\n",
       " '2': {'pts': [-1.3545, -0.1059, 1.201],\n",
       "  'idx': ([0, 0, 0], [0, 0, 0]),\n",
       "  'vdw-radius': 1.7},\n",
       " '3': {'pts': [-1.4493, -0.7819, 2.198],\n",
       "  'idx': ([0, 0, 0], [0, 0, 0]),\n",
       "  'vdw-radius': 1.52},\n",
       " '4': {'pts': [-1.1519, -0.6914, 0.0093],\n",
       "  'idx': ([0, 0, 0], [0, 0, 0]),\n",
       "  'vdw-radius': 1.52},\n",
       " '5': {'pts': [-0.9578, -2.0342, 0.0079],\n",
       "  'idx': ([0, 0, 0], [0, 0, 0]),\n",
       "  'vdw-radius': 1.7},\n",
       " '6': {'pts': [0.327, -2.5523, 0.0594],\n",
       "  'idx': ([0, 0, 0], [0, 0, 0]),\n",
       "  'vdw-radius': 1.7},\n",
       " '7': {'pts': [0.5232, -3.9195, 0.0578],\n",
       "  'idx': ([0, 0, 0], [0, 0, 0]),\n",
       "  'vdw-radius': 1.7},\n",
       " '8': {'pts': [-0.5586, -4.7832, 0.005],\n",
       "  'idx': ([0, 0, 0], [0, 0, 0]),\n",
       "  'vdw-radius': 1.7},\n",
       " '9': {'pts': [-1.843, -4.2868, -0.0466],\n",
       "  'idx': ([0, 0, 0], [0, 0, 0]),\n",
       "  'vdw-radius': 1.7},\n",
       " '10': {'pts': [-0.3627, -2.4987, 0.1243],\n",
       "  'idx': ([0, 0, 0], [0, 0, 0]),\n",
       "  'vdw-radius': 1.7},\n",
       " '11': {'pts': [-0.1645, -2.4318, 1.5816],\n",
       "  'idx': ([0, 0, 0], [0, 0, 0]),\n",
       "  'vdw-radius': 1.7},\n",
       " '12': {'pts': [-0.1103, -3.4617, 2.2394],\n",
       "  'idx': ([0, 0, 0], [0, 0, 0]),\n",
       "  'vdw-radius': 1.52},\n",
       " '13': {'pts': [-0.0541, -1.3462, 2.1347],\n",
       "  'idx': ([0, 0, 0], [0, 0, 0]),\n",
       "  'vdw-radius': 1.52},\n",
       " '14': {'pts': [-1.6261, 1.6826, 2.3332],\n",
       "  'idx': ([0, 0, 0], [0, 0, 0]),\n",
       "  'vdw-radius': 1.2},\n",
       " '15': {'pts': [-0.5422, 1.849, 0.9311],\n",
       "  'idx': ([0, 0, 0], [0, 0, 0]),\n",
       "  'vdw-radius': 1.2},\n",
       " '16': {'pts': [-2.3018, 1.7362, 0.6873],\n",
       "  'idx': ([0, 0, 0], [0, 0, 0]),\n",
       "  'vdw-radius': 1.2},\n",
       " '17': {'pts': [1.1759, -1.8858, 0.1003],\n",
       "  'idx': ([0, 0, 0], [0, 0, 0]),\n",
       "  'vdw-radius': 1.2},\n",
       " '18': {'pts': [1.5263, -4.3177, 0.0977],\n",
       "  'idx': ([0, 0, 0], [0, 0, 0]),\n",
       "  'vdw-radius': 1.2},\n",
       " '19': {'pts': [-0.3945, -5.8507, 0.004],\n",
       "  'idx': ([0, 0, 0], [0, 0, 0]),\n",
       "  'vdw-radius': 1.2},\n",
       " '20': {'pts': [-2.6833, -4.964, -0.0884],\n",
       "  'idx': ([0, 0, 0], [0, 0, 0]),\n",
       "  'vdw-radius': 1.2}}"
      ]
     },
     "execution_count": 10,
     "metadata": {},
     "output_type": "execute_result"
    }
   ],
   "source": [
    "qmu_qubo.atom_pos_data"
   ]
  },
  {
   "cell_type": "code",
   "execution_count": 11,
   "id": "a84d0b5f",
   "metadata": {},
   "outputs": [
    {
     "data": {
      "text/plain": [
       "{'4+5': {'metrics': '4+5',\n",
       "  'f_0_set': {'2'},\n",
       "  'f_1_set': {'10',\n",
       "   '11',\n",
       "   '12',\n",
       "   '13',\n",
       "   '17',\n",
       "   '18',\n",
       "   '19',\n",
       "   '20',\n",
       "   '6',\n",
       "   '7',\n",
       "   '8',\n",
       "   '9'},\n",
       "  'avg_bc_num': 0.5146198830409356,\n",
       "  'rb_count_num': 1},\n",
       " '2+4': {'metrics': '2+4',\n",
       "  'f_0_set': {'1', '14', '15', '16', '3'},\n",
       "  'f_1_set': {'5'},\n",
       "  'avg_bc_num': 0.4444444444444444,\n",
       "  'rb_count_num': 1},\n",
       " '4+5,2+4': {'metrics': '4+5',\n",
       "  'f_0_set': {'1', '14', '15', '16', '3'},\n",
       "  'f_1_set': {'10',\n",
       "   '11',\n",
       "   '12',\n",
       "   '13',\n",
       "   '17',\n",
       "   '18',\n",
       "   '19',\n",
       "   '20',\n",
       "   '6',\n",
       "   '7',\n",
       "   '8',\n",
       "   '9'},\n",
       "  'avg_bc_num': 0.47953216374269003,\n",
       "  'rb_count_num': 2}}"
      ]
     },
     "execution_count": 11,
     "metadata": {},
     "output_type": "execute_result"
    }
   ],
   "source": [
    "M = 2\n",
    "D = 8\n",
    "A = 300\n",
    "hubo_qubo_val = 200\n",
    "model_name = \"{}_{}_{}_{}\".format(M, D, A, hubo_qubo_val)\n",
    "method = \"pre-calc\"\n",
    "\n",
    "qmu_qubo.mol_data.bond_graph.sort_ris_data['2']"
   ]
  },
  {
   "cell_type": "code",
   "execution_count": 12,
   "id": "867c8ba1",
   "metadata": {},
   "outputs": [
    {
     "data": {
      "text/plain": [
       "{'1': {'pts': [-1.4637, 1.3943, 1.2946],\n",
       "  'idx': ([0, 0, 0], [0, 0, 0]),\n",
       "  'vdw-radius': 1.7},\n",
       " '2': {'pts': [-1.3545, -0.1059, 1.201],\n",
       "  'idx': ([0, 0, 0], [0, 0, 0]),\n",
       "  'vdw-radius': 1.7},\n",
       " '3': {'pts': [-1.4493, -0.7819, 2.198],\n",
       "  'idx': ([0, 0, 0], [0, 0, 0]),\n",
       "  'vdw-radius': 1.52},\n",
       " '4': {'pts': [-1.1519, -0.6914, 0.0093],\n",
       "  'idx': ([0, 0, 0], [0, 0, 0]),\n",
       "  'vdw-radius': 1.52},\n",
       " '5': {'pts': [-0.9578, -2.0342, 0.0079],\n",
       "  'idx': ([0, 0, 0], [0, 0, 0]),\n",
       "  'vdw-radius': 1.7},\n",
       " '6': {'pts': [0.327, -2.5523, 0.0594],\n",
       "  'idx': ([0, 0, 0], [0, 0, 0]),\n",
       "  'vdw-radius': 1.7},\n",
       " '7': {'pts': [0.5232, -3.9195, 0.0578],\n",
       "  'idx': ([0, 0, 0], [0, 0, 0]),\n",
       "  'vdw-radius': 1.7},\n",
       " '8': {'pts': [-0.5586, -4.7832, 0.005],\n",
       "  'idx': ([0, 0, 0], [0, 0, 0]),\n",
       "  'vdw-radius': 1.7},\n",
       " '9': {'pts': [-1.843, -4.2868, -0.0466],\n",
       "  'idx': ([0, 0, 0], [0, 0, 0]),\n",
       "  'vdw-radius': 1.7},\n",
       " '10': {'pts': [-0.3627, -2.4987, 0.1243],\n",
       "  'idx': ([0, 0, 0], [0, 0, 0]),\n",
       "  'vdw-radius': 1.7},\n",
       " '11': {'pts': [-0.1645, -2.4318, 1.5816],\n",
       "  'idx': ([0, 0, 0], [0, 0, 0]),\n",
       "  'vdw-radius': 1.7},\n",
       " '12': {'pts': [-0.1103, -3.4617, 2.2394],\n",
       "  'idx': ([0, 0, 0], [0, 0, 0]),\n",
       "  'vdw-radius': 1.52},\n",
       " '13': {'pts': [-0.0541, -1.3462, 2.1347],\n",
       "  'idx': ([0, 0, 0], [0, 0, 0]),\n",
       "  'vdw-radius': 1.52},\n",
       " '14': {'pts': [-1.6261, 1.6826, 2.3332],\n",
       "  'idx': ([0, 0, 0], [0, 0, 0]),\n",
       "  'vdw-radius': 1.2},\n",
       " '15': {'pts': [-0.5422, 1.849, 0.9311],\n",
       "  'idx': ([0, 0, 0], [0, 0, 0]),\n",
       "  'vdw-radius': 1.2},\n",
       " '16': {'pts': [-2.3018, 1.7362, 0.6873],\n",
       "  'idx': ([0, 0, 0], [0, 0, 0]),\n",
       "  'vdw-radius': 1.2},\n",
       " '17': {'pts': [1.1759, -1.8858, 0.1003],\n",
       "  'idx': ([0, 0, 0], [0, 0, 0]),\n",
       "  'vdw-radius': 1.2},\n",
       " '18': {'pts': [1.5263, -4.3177, 0.0977],\n",
       "  'idx': ([0, 0, 0], [0, 0, 0]),\n",
       "  'vdw-radius': 1.2},\n",
       " '19': {'pts': [-0.3945, -5.8507, 0.004],\n",
       "  'idx': ([0, 0, 0], [0, 0, 0]),\n",
       "  'vdw-radius': 1.2},\n",
       " '20': {'pts': [-2.6833, -4.964, -0.0884],\n",
       "  'idx': ([0, 0, 0], [0, 0, 0]),\n",
       "  'vdw-radius': 1.2}}"
      ]
     },
     "execution_count": 12,
     "metadata": {},
     "output_type": "execute_result"
    }
   ],
   "source": [
    "mol_data = qmu_qubo.mol_data\n",
    "atom_pos_data = qmu_qubo.atom_pos_data\n",
    "atom_pos_data"
   ]
  },
  {
   "cell_type": "code",
   "execution_count": 13,
   "id": "456ce032",
   "metadata": {},
   "outputs": [],
   "source": [
    "from pyqubo import Array\n",
    "from pyqubo import Num\n",
    "from pyqubo import Binary\n",
    "import math\n",
    "import numpy as np\n",
    "\n",
    "def rot_mat_value(vec, orig, c, s):\n",
    "\n",
    "    x_vector = vec[0]\n",
    "    y_vector = vec[1]\n",
    "    z_vector = vec[2]\n",
    "    x_orig = orig[0]\n",
    "    y_orig = orig[1]\n",
    "    z_orig = orig[2]\n",
    "\n",
    "    u = x_orig - x_vector\n",
    "    v = y_orig - y_vector\n",
    "    w = z_orig - z_vector\n",
    "\n",
    "    u2 = u * u\n",
    "    v2 = v * v\n",
    "    w2 = w * w\n",
    "\n",
    "    l2 = u * u + v * v + w * w\n",
    "\n",
    "    l = math.sqrt(l2)\n",
    "\n",
    "    cost = c\n",
    "\n",
    "    sint = s\n",
    "\n",
    "    one_minus_cost = 1 - c\n",
    "\n",
    "    matrix_list =[]\n",
    "    row_list = []\n",
    "    row_list.append((u2 + (v2 + w2) * cost)/l2)\n",
    "    row_list.append((u * v * one_minus_cost - w * l * sint)/l2)\n",
    "    row_list.append((u * w * one_minus_cost + v * l * sint)/l2)\n",
    "    row_list.append(((x_orig * (v2 + w2) - u * (y_orig * v + z_orig * w)) * one_minus_cost + (y_orig * w - z_orig * v) * l * sint) / l2)\n",
    "    row_list = [round(num, 4) for num in row_list]\n",
    "\n",
    "    matrix_list.append(row_list)\n",
    "\n",
    "    row_list = []\n",
    "    row_list.append((u * v * one_minus_cost + w * l * sint)/l2)\n",
    "    row_list.append((v2 + (u2 + w2) * cost)/l2)\n",
    "    row_list.append((v * w * one_minus_cost - u * l * sint)/l2)\n",
    "    row_list.append(((y_orig * (u2 + w2) - v * (x_orig * u + z_orig * w)) * one_minus_cost + (z_orig * u - x_orig * w) * l * sint) / l2)\n",
    "    row_list = [round(num, 4) for num in row_list]\n",
    "\n",
    "    matrix_list.append(row_list)\n",
    "\n",
    "    row_list = []\n",
    "    row_list.append((u * w * one_minus_cost - v * l * sint)/l2)\n",
    "    row_list.append((v * w * one_minus_cost + u * l * sint)/l2)\n",
    "    row_list.append((w2 + (u2 + v2) * cost)/l2)\n",
    "    row_list.append(((z_orig * (u2 + v2) - w * (x_orig * u + y_orig * v)) * one_minus_cost + (x_orig * v - y_orig * u) * l * sint) / l2)\n",
    "    row_list = [round(num, 4) for num in row_list]\n",
    "\n",
    "    matrix_list.append(row_list)\n",
    "\n",
    "    row_list = []\n",
    "    row_list.append(0)\n",
    "    row_list.append(0)\n",
    "    row_list.append(0)\n",
    "    row_list.append(1)\n",
    "    row_list = [round(num, 4) for num in row_list]\n",
    "\n",
    "    matrix_list.append(row_list)\n",
    "\n",
    "    np_matrix = np.array(matrix_list)\n",
    "    rot_binary = Array(matrix_list)\n",
    "\n",
    "    return rot_binary, matrix_list\n",
    "\n"
   ]
  },
  {
   "cell_type": "code",
   "execution_count": 14,
   "id": "c9a696c4",
   "metadata": {},
   "outputs": [
    {
     "name": "stdout",
     "output_type": "stream",
     "text": [
      "var name is ['1+2', '2+4', '4+5', '10+11']\n"
     ]
    }
   ],
   "source": [
    "# initial variables\n",
    "print(f\"var name is {mol_data.bond_graph.rb_name}\")\n",
    "\n",
    "D = 4\n",
    "\n",
    "var = {} \n",
    "var_rb_map = {}\n",
    "rb_var_map = {}\n",
    "\n",
    "for m, name in enumerate(mol_data.bond_graph.rb_name):\n",
    "    x_d = {}\n",
    "    var_rb_map[str(m+1)] = name\n",
    "    rb_var_map[str(name)] = str(m+1)\n",
    "    d = 0\n",
    "    exec (f\"x_{m+1}_{d+1} = Binary(f'x_{m+1}_{d+1}')\") \n",
    "    exec (f\"x_d[str({d+1})] = x_{m+1}_{d+1}\") \n",
    "\n",
    "    exec (f\"s_value = math.sin(2*math.pi*{d}/({D}))\")\n",
    "    exec (f\"x_{m+1}_s_1 = x_{m+1}_{d+1} * s_value\")\n",
    "    exec (f\"s_value = math.cos(2*math.pi*{d}/({D}))\")\n",
    "    exec (f\"x_{m+1}_c_1 = x_{m+1}_{d+1} * s_value\")\n",
    "\n",
    "    for d in range(1, D):\n",
    "        exec (f\"x_{m+1}_{d+1} = Binary(f'x_{m+1}_{d+1}')\") \n",
    "        exec (f\"x_d[str({d+1})] = x_{m+1}_{d+1}\") \n",
    "\n",
    "        exec (f\"s_value = math.sin(2*math.pi*{d}/({D}))\")\n",
    "        exec (f\"x_{m+1}_s_1 = x_{m+1}_s_1 + x_{m+1}_{d+1} * s_value\")\n",
    "        exec (f\"s_value = math.cos(2*math.pi*{d}/({D}))\")\n",
    "        exec (f\"x_{m+1}_c_1 = x_{m+1}_c_1 + x_{m+1}_{d+1} * s_value\")\n",
    "    exec(f\"x_d['s_1'] = x_{m+1}_s_1\")\n",
    "    exec(f\"x_d['c_1'] = x_{m+1}_c_1\")\n",
    "    var[str(m+1)] = x_d"
   ]
  },
  {
   "cell_type": "code",
   "execution_count": 15,
   "id": "5413c98d",
   "metadata": {},
   "outputs": [
    {
     "name": "stdout",
     "output_type": "stream",
     "text": [
      "Rotables influence set(ris) group 4+5\n"
     ]
    },
    {
     "ename": "TypeError",
     "evalue": "type cpp_pyqubo.Mul doesn't define __round__ method",
     "output_type": "error",
     "traceback": [
      "\u001b[0;31m---------------------------------------------------------------------------\u001b[0m",
      "\u001b[0;31mTypeError\u001b[0m                                 Traceback (most recent call last)",
      "\u001b[0;32m/var/folders/1h/djn4snhd2jd073ngq8cy0f000000gs/T/ipykernel_34966/2444465089.py\u001b[0m in \u001b[0;36m<module>\u001b[0;34m\u001b[0m\n\u001b[1;32m     57\u001b[0m         \u001b[0mhubo_constraints\u001b[0m \u001b[0;34m=\u001b[0m \u001b[0mupdate_constraint\u001b[0m\u001b[0;34m(\u001b[0m\u001b[0mris\u001b[0m\u001b[0;34m,\u001b[0m \u001b[0mhubo_constraints\u001b[0m\u001b[0;34m)\u001b[0m\u001b[0;34m\u001b[0m\u001b[0;34m\u001b[0m\u001b[0m\n\u001b[1;32m     58\u001b[0m \u001b[0;34m\u001b[0m\u001b[0m\n\u001b[0;32m---> 59\u001b[0;31m     \u001b[0mhubo_distance\u001b[0m \u001b[0;34m=\u001b[0m \u001b[0mupdate_hubo\u001b[0m\u001b[0;34m(\u001b[0m\u001b[0mtorsion_group\u001b[0m\u001b[0;34m,\u001b[0m \u001b[0mhubo_distance\u001b[0m\u001b[0;34m,\u001b[0m \u001b[0mmol_data\u001b[0m\u001b[0;34m.\u001b[0m\u001b[0mbond_graph\u001b[0m\u001b[0;34m.\u001b[0m\u001b[0msort_ris_data\u001b[0m\u001b[0;34m[\u001b[0m\u001b[0mstr\u001b[0m\u001b[0;34m(\u001b[0m\u001b[0mM\u001b[0m\u001b[0;34m)\u001b[0m\u001b[0;34m]\u001b[0m\u001b[0;34m[\u001b[0m\u001b[0mris\u001b[0m\u001b[0;34m]\u001b[0m\u001b[0;34m)\u001b[0m\u001b[0;34m\u001b[0m\u001b[0;34m\u001b[0m\u001b[0m\n\u001b[0m",
      "\u001b[0;32m/var/folders/1h/djn4snhd2jd073ngq8cy0f000000gs/T/ipykernel_34966/2444465089.py\u001b[0m in \u001b[0;36mupdate_hubo\u001b[0;34m(torsion_group, hubo_distance, tor_points)\u001b[0m\n\u001b[1;32m     28\u001b[0m         \u001b[0mend_pts\u001b[0m \u001b[0;34m=\u001b[0m \u001b[0matom_pos_data\u001b[0m\u001b[0;34m[\u001b[0m\u001b[0mtor\u001b[0m\u001b[0;34m.\u001b[0m\u001b[0msplit\u001b[0m\u001b[0;34m(\u001b[0m\u001b[0;34m'+'\u001b[0m\u001b[0;34m)\u001b[0m\u001b[0;34m[\u001b[0m\u001b[0;36m1\u001b[0m\u001b[0;34m]\u001b[0m\u001b[0;34m]\u001b[0m\u001b[0;34m\u001b[0m\u001b[0;34m\u001b[0m\u001b[0m\n\u001b[1;32m     29\u001b[0m         \u001b[0;32mif\u001b[0m \u001b[0mrot_mat\u001b[0m \u001b[0;32mis\u001b[0m \u001b[0;32mNone\u001b[0m\u001b[0;34m:\u001b[0m\u001b[0;34m\u001b[0m\u001b[0;34m\u001b[0m\u001b[0m\n\u001b[0;32m---> 30\u001b[0;31m             \u001b[0mrot_mat\u001b[0m\u001b[0;34m,\u001b[0m \u001b[0m_\u001b[0m \u001b[0;34m=\u001b[0m \u001b[0mrot_mat_value\u001b[0m\u001b[0;34m(\u001b[0m\u001b[0mstart_pts\u001b[0m\u001b[0;34m[\u001b[0m\u001b[0;34m'pts'\u001b[0m\u001b[0;34m]\u001b[0m\u001b[0;34m,\u001b[0m \u001b[0mend_pts\u001b[0m\u001b[0;34m[\u001b[0m\u001b[0;34m'pts'\u001b[0m\u001b[0;34m]\u001b[0m\u001b[0;34m,\u001b[0m \u001b[0mc\u001b[0m\u001b[0;34m,\u001b[0m \u001b[0ms\u001b[0m\u001b[0;34m)\u001b[0m\u001b[0;34m\u001b[0m\u001b[0;34m\u001b[0m\u001b[0m\n\u001b[0m\u001b[1;32m     31\u001b[0m         \u001b[0;32melse\u001b[0m\u001b[0;34m:\u001b[0m\u001b[0;34m\u001b[0m\u001b[0;34m\u001b[0m\u001b[0m\n\u001b[1;32m     32\u001b[0m             \u001b[0mnew_mat\u001b[0m\u001b[0;34m,\u001b[0m \u001b[0m_\u001b[0m \u001b[0;34m=\u001b[0m \u001b[0mrot_mat_value\u001b[0m\u001b[0;34m(\u001b[0m\u001b[0mstart_pts\u001b[0m\u001b[0;34m[\u001b[0m\u001b[0;34m'pts'\u001b[0m\u001b[0;34m]\u001b[0m\u001b[0;34m,\u001b[0m \u001b[0mend_pts\u001b[0m\u001b[0;34m[\u001b[0m\u001b[0;34m'pts'\u001b[0m\u001b[0;34m]\u001b[0m\u001b[0;34m,\u001b[0m \u001b[0mc\u001b[0m\u001b[0;34m,\u001b[0m \u001b[0ms\u001b[0m\u001b[0;34m)\u001b[0m\u001b[0;34m\u001b[0m\u001b[0;34m\u001b[0m\u001b[0m\n",
      "\u001b[0;32m/var/folders/1h/djn4snhd2jd073ngq8cy0f000000gs/T/ipykernel_34966/992345174.py\u001b[0m in \u001b[0;36mrot_mat_value\u001b[0;34m(vec, orig, c, s)\u001b[0m\n\u001b[1;32m     38\u001b[0m     \u001b[0mrow_list\u001b[0m\u001b[0;34m.\u001b[0m\u001b[0mappend\u001b[0m\u001b[0;34m(\u001b[0m\u001b[0;34m(\u001b[0m\u001b[0mu\u001b[0m \u001b[0;34m*\u001b[0m \u001b[0mw\u001b[0m \u001b[0;34m*\u001b[0m \u001b[0mone_minus_cost\u001b[0m \u001b[0;34m+\u001b[0m \u001b[0mv\u001b[0m \u001b[0;34m*\u001b[0m \u001b[0ml\u001b[0m \u001b[0;34m*\u001b[0m \u001b[0msint\u001b[0m\u001b[0;34m)\u001b[0m\u001b[0;34m/\u001b[0m\u001b[0ml2\u001b[0m\u001b[0;34m)\u001b[0m\u001b[0;34m\u001b[0m\u001b[0;34m\u001b[0m\u001b[0m\n\u001b[1;32m     39\u001b[0m     \u001b[0mrow_list\u001b[0m\u001b[0;34m.\u001b[0m\u001b[0mappend\u001b[0m\u001b[0;34m(\u001b[0m\u001b[0;34m(\u001b[0m\u001b[0;34m(\u001b[0m\u001b[0mx_orig\u001b[0m \u001b[0;34m*\u001b[0m \u001b[0;34m(\u001b[0m\u001b[0mv2\u001b[0m \u001b[0;34m+\u001b[0m \u001b[0mw2\u001b[0m\u001b[0;34m)\u001b[0m \u001b[0;34m-\u001b[0m \u001b[0mu\u001b[0m \u001b[0;34m*\u001b[0m \u001b[0;34m(\u001b[0m\u001b[0my_orig\u001b[0m \u001b[0;34m*\u001b[0m \u001b[0mv\u001b[0m \u001b[0;34m+\u001b[0m \u001b[0mz_orig\u001b[0m \u001b[0;34m*\u001b[0m \u001b[0mw\u001b[0m\u001b[0;34m)\u001b[0m\u001b[0;34m)\u001b[0m \u001b[0;34m*\u001b[0m \u001b[0mone_minus_cost\u001b[0m \u001b[0;34m+\u001b[0m \u001b[0;34m(\u001b[0m\u001b[0my_orig\u001b[0m \u001b[0;34m*\u001b[0m \u001b[0mw\u001b[0m \u001b[0;34m-\u001b[0m \u001b[0mz_orig\u001b[0m \u001b[0;34m*\u001b[0m \u001b[0mv\u001b[0m\u001b[0;34m)\u001b[0m \u001b[0;34m*\u001b[0m \u001b[0ml\u001b[0m \u001b[0;34m*\u001b[0m \u001b[0msint\u001b[0m\u001b[0;34m)\u001b[0m \u001b[0;34m/\u001b[0m \u001b[0ml2\u001b[0m\u001b[0;34m)\u001b[0m\u001b[0;34m\u001b[0m\u001b[0;34m\u001b[0m\u001b[0m\n\u001b[0;32m---> 40\u001b[0;31m     \u001b[0mrow_list\u001b[0m \u001b[0;34m=\u001b[0m \u001b[0;34m[\u001b[0m\u001b[0mround\u001b[0m\u001b[0;34m(\u001b[0m\u001b[0mnum\u001b[0m\u001b[0;34m,\u001b[0m \u001b[0;36m4\u001b[0m\u001b[0;34m)\u001b[0m \u001b[0;32mfor\u001b[0m \u001b[0mnum\u001b[0m \u001b[0;32min\u001b[0m \u001b[0mrow_list\u001b[0m\u001b[0;34m]\u001b[0m\u001b[0;34m\u001b[0m\u001b[0;34m\u001b[0m\u001b[0m\n\u001b[0m\u001b[1;32m     41\u001b[0m \u001b[0;34m\u001b[0m\u001b[0m\n\u001b[1;32m     42\u001b[0m     \u001b[0mmatrix_list\u001b[0m\u001b[0;34m.\u001b[0m\u001b[0mappend\u001b[0m\u001b[0;34m(\u001b[0m\u001b[0mrow_list\u001b[0m\u001b[0;34m)\u001b[0m\u001b[0;34m\u001b[0m\u001b[0;34m\u001b[0m\u001b[0m\n",
      "\u001b[0;32m/var/folders/1h/djn4snhd2jd073ngq8cy0f000000gs/T/ipykernel_34966/992345174.py\u001b[0m in \u001b[0;36m<listcomp>\u001b[0;34m(.0)\u001b[0m\n\u001b[1;32m     38\u001b[0m     \u001b[0mrow_list\u001b[0m\u001b[0;34m.\u001b[0m\u001b[0mappend\u001b[0m\u001b[0;34m(\u001b[0m\u001b[0;34m(\u001b[0m\u001b[0mu\u001b[0m \u001b[0;34m*\u001b[0m \u001b[0mw\u001b[0m \u001b[0;34m*\u001b[0m \u001b[0mone_minus_cost\u001b[0m \u001b[0;34m+\u001b[0m \u001b[0mv\u001b[0m \u001b[0;34m*\u001b[0m \u001b[0ml\u001b[0m \u001b[0;34m*\u001b[0m \u001b[0msint\u001b[0m\u001b[0;34m)\u001b[0m\u001b[0;34m/\u001b[0m\u001b[0ml2\u001b[0m\u001b[0;34m)\u001b[0m\u001b[0;34m\u001b[0m\u001b[0;34m\u001b[0m\u001b[0m\n\u001b[1;32m     39\u001b[0m     \u001b[0mrow_list\u001b[0m\u001b[0;34m.\u001b[0m\u001b[0mappend\u001b[0m\u001b[0;34m(\u001b[0m\u001b[0;34m(\u001b[0m\u001b[0;34m(\u001b[0m\u001b[0mx_orig\u001b[0m \u001b[0;34m*\u001b[0m \u001b[0;34m(\u001b[0m\u001b[0mv2\u001b[0m \u001b[0;34m+\u001b[0m \u001b[0mw2\u001b[0m\u001b[0;34m)\u001b[0m \u001b[0;34m-\u001b[0m \u001b[0mu\u001b[0m \u001b[0;34m*\u001b[0m \u001b[0;34m(\u001b[0m\u001b[0my_orig\u001b[0m \u001b[0;34m*\u001b[0m \u001b[0mv\u001b[0m \u001b[0;34m+\u001b[0m \u001b[0mz_orig\u001b[0m \u001b[0;34m*\u001b[0m \u001b[0mw\u001b[0m\u001b[0;34m)\u001b[0m\u001b[0;34m)\u001b[0m \u001b[0;34m*\u001b[0m \u001b[0mone_minus_cost\u001b[0m \u001b[0;34m+\u001b[0m \u001b[0;34m(\u001b[0m\u001b[0my_orig\u001b[0m \u001b[0;34m*\u001b[0m \u001b[0mw\u001b[0m \u001b[0;34m-\u001b[0m \u001b[0mz_orig\u001b[0m \u001b[0;34m*\u001b[0m \u001b[0mv\u001b[0m\u001b[0;34m)\u001b[0m \u001b[0;34m*\u001b[0m \u001b[0ml\u001b[0m \u001b[0;34m*\u001b[0m \u001b[0msint\u001b[0m\u001b[0;34m)\u001b[0m \u001b[0;34m/\u001b[0m \u001b[0ml2\u001b[0m\u001b[0;34m)\u001b[0m\u001b[0;34m\u001b[0m\u001b[0;34m\u001b[0m\u001b[0m\n\u001b[0;32m---> 40\u001b[0;31m     \u001b[0mrow_list\u001b[0m \u001b[0;34m=\u001b[0m \u001b[0;34m[\u001b[0m\u001b[0mround\u001b[0m\u001b[0;34m(\u001b[0m\u001b[0mnum\u001b[0m\u001b[0;34m,\u001b[0m \u001b[0;36m4\u001b[0m\u001b[0;34m)\u001b[0m \u001b[0;32mfor\u001b[0m \u001b[0mnum\u001b[0m \u001b[0;32min\u001b[0m \u001b[0mrow_list\u001b[0m\u001b[0;34m]\u001b[0m\u001b[0;34m\u001b[0m\u001b[0;34m\u001b[0m\u001b[0m\n\u001b[0m\u001b[1;32m     41\u001b[0m \u001b[0;34m\u001b[0m\u001b[0m\n\u001b[1;32m     42\u001b[0m     \u001b[0mmatrix_list\u001b[0m\u001b[0;34m.\u001b[0m\u001b[0mappend\u001b[0m\u001b[0;34m(\u001b[0m\u001b[0mrow_list\u001b[0m\u001b[0;34m)\u001b[0m\u001b[0;34m\u001b[0m\u001b[0;34m\u001b[0m\u001b[0m\n",
      "\u001b[0;31mTypeError\u001b[0m: type cpp_pyqubo.Mul doesn't define __round__ method"
     ]
    }
   ],
   "source": [
    "M = 1\n",
    "A = 5*300\n",
    "shots = 1000\n",
    "\n",
    "hubo_constraints = Num(0)\n",
    "hubo_distance = Num(0)\n",
    "\n",
    "def update_constraint(ris, hubo_constraints):\n",
    "    # implement variable for one torsion\n",
    "    for d1 in range(D):\n",
    "        var_1 = var[rb_var_map[ris]][str(d1+1)]\n",
    "        for d2 in range(D):\n",
    "            var_2 = var[rb_var_map[ris]][str(d2+1)]\n",
    "            if var_1 == var_2:\n",
    "                hubo_constraints = hubo_constraints + var_1 * var_1 * -A\n",
    "            else:\n",
    "                hubo_constraints = hubo_constraints + var_1 * var_2 * 2 * A\n",
    "    \n",
    "    return hubo_constraints\n",
    "\n",
    "def update_hubo(torsion_group, hubo_distance, tor_points):\n",
    "    rot_mat = None\n",
    "\n",
    "    for tor in torsion_group:\n",
    "        c = var[rb_var_map[tor]]['c_1']\n",
    "        s = var[rb_var_map[tor]]['s_1']\n",
    "        start_pts = atom_pos_data[tor.split('+')[0]]\n",
    "        end_pts = atom_pos_data[tor.split('+')[1]]\n",
    "        if rot_mat is None:\n",
    "            rot_mat, _ = rot_mat_value(start_pts['pts'], end_pts['pts'], c, s)\n",
    "        else:\n",
    "            new_mat, _ = rot_mat_value(start_pts['pts'], end_pts['pts'], c, s)\n",
    "            rot_mat = rot_mat.matmul(new_mat)\n",
    "    # update points distance\n",
    "    tor_points_f_0_set = tor_points['f_0_set']\n",
    "    tor_points_f_1_set = tor_points['f_1_set']\n",
    "\n",
    "    for f_0 in tor_points_f_0_set:\n",
    "        for f_1 in tor_points_f_1_set:\n",
    "            a_pos = atom_pos_data[f_0]['pts']\n",
    "            b_pos = atom_pos_data[f_1]['pts']\n",
    "            a_homo_pos = Array([[a_pos[0]], [a_pos[1]], [a_pos[2]], [1]])\n",
    "            b_homo_pos = Array([[b_pos[0]], [b_pos[1]], [b_pos[2]], [1]])\n",
    "            result_array = a_homo_pos - rot_mat.matmul(b_homo_pos)\n",
    "            distance = result_array.T.matmul(result_array)\n",
    "            hubo_distance = hubo_distance - distance[0][0]\n",
    "    \n",
    "    return hubo_distance\n",
    "\n",
    "for ris in mol_data.bond_graph.sort_ris_data[str(M)].keys():\n",
    "    start = time.time()\n",
    "    print(f\"Rotables influence set(ris) group {ris}\")\n",
    "    end = time.time()\n",
    "    torsion_group = ris.split(\",\")\n",
    "    if len(torsion_group) == 1:\n",
    "        # update constraint\n",
    "        hubo_constraints = update_constraint(ris, hubo_constraints)\n",
    "\n",
    "    hubo_distance = update_hubo(torsion_group, hubo_distance, mol_data.bond_graph.sort_ris_data[str(M)][ris])"
   ]
  },
  {
   "cell_type": "code",
   "execution_count": 1,
   "id": "3e96180b",
   "metadata": {},
   "outputs": [
    {
     "ename": "NameError",
     "evalue": "name 'hubo_distance' is not defined",
     "output_type": "error",
     "traceback": [
      "\u001b[0;31m---------------------------------------------------------------------------\u001b[0m",
      "\u001b[0;31mNameError\u001b[0m                                 Traceback (most recent call last)",
      "\u001b[0;32m/var/folders/1h/djn4snhd2jd073ngq8cy0f000000gs/T/ipykernel_34966/987282978.py\u001b[0m in \u001b[0;36m<module>\u001b[0;34m\u001b[0m\n\u001b[1;32m      1\u001b[0m \u001b[0mstrength\u001b[0m \u001b[0;34m=\u001b[0m \u001b[0;36m100000\u001b[0m\u001b[0;34m\u001b[0m\u001b[0;34m\u001b[0m\u001b[0m\n\u001b[1;32m      2\u001b[0m \u001b[0;34m\u001b[0m\u001b[0m\n\u001b[0;32m----> 3\u001b[0;31m \u001b[0mhubo_model\u001b[0m \u001b[0;34m=\u001b[0m \u001b[0mhubo_distance\u001b[0m \u001b[0;34m+\u001b[0m \u001b[0mhubo_constraints\u001b[0m\u001b[0;34m\u001b[0m\u001b[0;34m\u001b[0m\u001b[0m\n\u001b[0m\u001b[1;32m      4\u001b[0m \u001b[0;34m\u001b[0m\u001b[0m\n\u001b[1;32m      5\u001b[0m \u001b[0;31m# model = hubo_model.compile(strength)\u001b[0m\u001b[0;34m\u001b[0m\u001b[0;34m\u001b[0m\u001b[0;34m\u001b[0m\u001b[0m\n",
      "\u001b[0;31mNameError\u001b[0m: name 'hubo_distance' is not defined"
     ]
    }
   ],
   "source": [
    "strength = 100000\n",
    "\n",
    "hubo_model = hubo_distance + hubo_constraints\n",
    "\n",
    "# model = hubo_model.compile(strength)\n",
    "\n",
    "model = hubo_model.compile()\n",
    "\n",
    "bqm = model.to_bqm()"
   ]
  },
  {
   "cell_type": "code",
   "execution_count": 50,
   "id": "2c75d039",
   "metadata": {},
   "outputs": [],
   "source": [
    "import neal \n",
    "shots = 10000\n",
    "sampler = neal.SimulatedAnnealingSampler()\n",
    "\n",
    "sampleset = sampler.sample(bqm, num_reads=shots)\n",
    "\n",
    "decode_samples = model.decode_sampleset(sampleset)"
   ]
  },
  {
   "cell_type": "code",
   "execution_count": 51,
   "id": "bb5e93dc",
   "metadata": {},
   "outputs": [
    {
     "name": "stdout",
     "output_type": "stream",
     "text": [
      "default strength\n",
      "annealing energy == -3762.636355718011 with A = 1500 shots = 10000 strength = 100000\n",
      "x_3_4 == 1\n"
     ]
    }
   ],
   "source": [
    "print(\"default strength\")\n",
    "analysis_result(decode_samples)"
   ]
  },
  {
   "cell_type": "code",
   "execution_count": 31,
   "id": "be9ee15d",
   "metadata": {},
   "outputs": [
    {
     "name": "stdout",
     "output_type": "stream",
     "text": [
      "annealing energy == -5364.761663192825 with A = 1500 shots = 10000 strength = 100000\n",
      "x_2_8 == 1\n",
      "x_3_7 == 1\n"
     ]
    }
   ],
   "source": [
    "analysis_result(decode_samples)"
   ]
  },
  {
   "cell_type": "code",
   "execution_count": 30,
   "id": "2b87adb1",
   "metadata": {},
   "outputs": [],
   "source": [
    "def analysis_result(decode_samples):\n",
    "    samples = min(decode_samples, key=lambda x: x.energy)\n",
    "\n",
    "    type(samples)\n",
    "\n",
    "    result = samples.sample\n",
    "\n",
    "    print(f\"annealing energy == {samples.energy} with A = {A} shots = {shots} strength = {strength}\")\n",
    "\n",
    "    for k,v in result.items():\n",
    "        if k.split('_')[0] == 'x' and v == 1:\n",
    "            print(f\"{k} == 1\")"
   ]
  },
  {
   "cell_type": "code",
   "execution_count": 157,
   "id": "b5dc5766",
   "metadata": {},
   "outputs": [],
   "source": [
    "r45_vector = (-1.1519, -0.6914, 0.0093)\n",
    "r45_orig = (-0.9578, -2.0342, 0.0079)\n",
    "r45_rot_binary, r45_mat = rot_mat(r45_vector, r45_orig)\n",
    "# r45_orig = (-1.1519, -0.6914, 0.0093)\n",
    "# r45_vector = (-0.9578, -2.0342, 0.0079)\n",
    "# r45_rot_binary, r45_mat = rot_mat(r45_vector, r45_orig)\n"
   ]
  },
  {
   "cell_type": "code",
   "execution_count": 150,
   "id": "0cc2a553",
   "metadata": {},
   "outputs": [],
   "source": [
    "r24_r45_binary = r24_rot_binary.matmul(r45_rot_binary)"
   ]
  },
  {
   "cell_type": "markdown",
   "id": "fb42eb0f",
   "metadata": {},
   "source": [
    "# Step 3: Optimize Configuration"
   ]
  },
  {
   "cell_type": "markdown",
   "id": "2b3febaf",
   "metadata": {},
   "source": [
    "In this part, we use SA and QA to find the optimized configuration of molecular unfolding.\n",
    "At first, we load the model file using **QMUQUBO** object"
   ]
  },
  {
   "cell_type": "code",
   "execution_count": 8,
   "id": "d4e2a058",
   "metadata": {},
   "outputs": [],
   "source": [
    "qmu_qubo_optimize = QMUQUBO.load(model_path)"
   ]
  },
  {
   "cell_type": "code",
   "execution_count": 9,
   "id": "40f19710",
   "metadata": {},
   "outputs": [
    {
     "name": "stderr",
     "output_type": "stream",
     "text": [
      "INFO:root:method: pre-calc\n",
      "INFO:root:The model_name should be {M}_{D}_{A}_{hubo_qubo_val}\n",
      "INFO:root:param: M, value {1, 2, 3, 4}\n",
      "INFO:root:param: D, value {8}\n",
      "INFO:root:param: A, value {300}\n",
      "INFO:root:param: hubo_qubo_val, value {200}\n"
     ]
    }
   ],
   "source": [
    "model_info = qmu_qubo_optimize.describe_model()"
   ]
  },
  {
   "cell_type": "markdown",
   "id": "b363515e",
   "metadata": {},
   "source": [
    "We can see the parameters of this model, with M equaling 1,2 or 3, D equaling 8, \n",
    "A equaling 300 and hubo_qubo_val equaling 200. \n",
    "Actually, we can contain multiple models in this file just \n",
    "by giving multiple values for one parameter when creating models.\n",
    "\n",
    "Actually, we can contain multiple models in this file just \n",
    "by giving multiple values for one parameter when creating models.\n",
    "Then, we need use **model_name** to get the model for experiments."
   ]
  },
  {
   "cell_type": "code",
   "execution_count": 52,
   "id": "c89eb573",
   "metadata": {},
   "outputs": [],
   "source": [
    "# get the model you want to optimize\n",
    "M = 1\n",
    "D = 8\n",
    "A = 300\n",
    "hubo_qubo_val = 200\n",
    "model_name = \"{}_{}_{}_{}\".format(M, D, A, hubo_qubo_val)\n",
    "method = \"pre-calc\"\n",
    "\n",
    "qubo_model = qmu_qubo_optimize.get_model(method, model_name)"
   ]
  },
  {
   "cell_type": "markdown",
   "id": "7fe4c79b",
   "metadata": {},
   "source": [
    "We can see that we want to carry out experiment with the QUBO model with M equaling 2.\n",
    " After that, we set the parameters for optimization.\n",
    "\n",
    "| Parameter | Description | Value |\n",
    "|--- |--- |--- |\n",
    "|method | annealing method for QUBO problem |'dwave-sa': use the simulated annealer in ocean toolkit<br> 'dwave-qa': use the quantum annealer|\n",
    "|shots| number of reads, refer to [dwave-sa](https://docs.ocean.dwavesys.com/projects/neal/en/latest/reference/generated/neal.sampler.SimulatedAnnealingSampler.sample.html#neal.sampler.SimulatedAnnealingSampler.sample) and [dwave-qa](https://amazon-braket-ocean-plugin-python.readthedocs.io/en/latest/_apidoc/braket.ocean_plugin.braket_sampler.html) for details |1 to 10,000|\n",
    "|bucket | the s3 bucket to store your results | - |\n",
    "|prefix | the name of the folder in your s3 bucket | - |\n",
    "|device | the arn name to run your quantum annealing| 'arn:aws:braket:::device/qpu/d-wave/Advantage_system4' <br> 'arn:aws:braket:::device/qpu/d-wave/DW_2000Q_6'|\n",
    "\n",
    "Then, we can run the SA for this problem:"
   ]
  },
  {
   "cell_type": "code",
   "execution_count": 53,
   "id": "bac3b192",
   "metadata": {},
   "outputs": [
    {
     "name": "stderr",
     "output_type": "stream",
     "text": [
      "INFO:root:use neal simulated annealer (c++) from dimod\n"
     ]
    }
   ],
   "source": [
    "method = 'neal-sa'\n",
    "\n",
    "optimizer_param = {}\n",
    "optimizer_param['shots'] = 10000\n",
    "\n",
    "sa_optimizer = Annealer(qubo_model, method, **optimizer_param)"
   ]
  },
  {
   "cell_type": "code",
   "execution_count": 54,
   "id": "f1b28e0d",
   "metadata": {},
   "outputs": [
    {
     "name": "stderr",
     "output_type": "stream",
     "text": [
      "INFO:root:fit() ...\n",
      "INFO:root:neal-sa save to local\n",
      "INFO:root:finish save neal-sa_result.pickle\n"
     ]
    }
   ],
   "source": [
    "sa_optimize_result = sa_optimizer.fit()"
   ]
  },
  {
   "cell_type": "markdown",
   "id": "99c606d2",
   "metadata": {},
   "source": [
    "We can tell that we set the number of shots for SA to 1000. \n",
    "The result is saved as the local file **./sa_result.pickle.**\n",
    "Alternatively, we can use QA to solve this problem:"
   ]
  },
  {
   "cell_type": "code",
   "execution_count": 316,
   "id": "efaea78d",
   "metadata": {},
   "outputs": [
    {
     "name": "stderr",
     "output_type": "stream",
     "text": [
      "INFO:botocore.credentials:Found credentials in shared credentials file: ~/.aws/credentials\n",
      "INFO:root:use quantum annealer arn:aws:braket:::device/qpu/d-wave/Advantage_system4 \n"
     ]
    }
   ],
   "source": [
    "method = 'dwave-qa'\n",
    "\n",
    "optimizer_param = {}\n",
    "optimizer_param['shots'] = 1000\n",
    "optimizer_param['bucket'] = s3_bucket # the name of the bucket\n",
    "optimizer_param['prefix'] = prefix # the name of the folder in the bucket\n",
    "optimizer_param['device'] = \"arn:aws:braket:::device/qpu/d-wave/Advantage_system4\"\n",
    "optimizer_param[\"embed_method\"] = \"default\"\n",
    "\n",
    "qa_optimizer = Annealer(qubo_model, method, **optimizer_param)"
   ]
  },
  {
   "cell_type": "markdown",
   "id": "7a28a6a8",
   "metadata": {},
   "source": [
    "In this QA, we set the number of shots to 1000 and \n",
    "choose the \n",
    "[Advantage_System4.1](https://docs.dwavesys.com/docs/latest/doc_physical_properties.html)\n",
    "as the QPU. In addition, the results are saved to your bucket automatically and you \n",
    "can get the task id for future process. "
   ]
  },
  {
   "cell_type": "code",
   "execution_count": null,
   "id": "7e2a1bc3",
   "metadata": {},
   "outputs": [],
   "source": [
    "# not create annealing task, only embedding logic\n",
    "qa_optimizer.embed()\n",
    "# create annealing task\n",
    "qa_optimize_result = qa_optimizer.fit()"
   ]
  },
  {
   "cell_type": "code",
   "execution_count": 318,
   "id": "24fdf142",
   "metadata": {},
   "outputs": [
    {
     "name": "stdout",
     "output_type": "stream",
     "text": [
      "task id is f4081e34-c785-4ba7-9718-cbea1a308596\n"
     ]
    }
   ],
   "source": [
    "qa_task_id = qa_optimizer.get_task_id()\n",
    "print(f\"task id is {qa_task_id}\")"
   ]
  },
  {
   "cell_type": "markdown",
   "id": "84901a01",
   "metadata": {},
   "source": [
    "Finally, we can compare the execution time between SA and QA :"
   ]
  },
  {
   "cell_type": "code",
   "execution_count": 26,
   "id": "6023a8fb",
   "metadata": {},
   "outputs": [
    {
     "name": "stdout",
     "output_type": "stream",
     "text": [
      "dwave-sa run time 129.5549328327179\n",
      "dwave-qa run time 11.894113779067993\n"
     ]
    }
   ],
   "source": [
    "print(f\"dwave-sa run time {sa_optimize_result['time']}\")\n",
    "print(f\"dwave-qa run time {qa_optimize_result['time']}\")"
   ]
  },
  {
   "cell_type": "markdown",
   "id": "86f0ed9a",
   "metadata": {},
   "source": [
    "We can tell from the image that SA needs more than 150 seconds \n",
    "and QA needs more than 5 seconds to find \n",
    "solution.\n",
    "\n",
    "We sometimes get the best result that occurs only once.\n",
    "\n",
    "![OneTimeQA](../../../docs/en/images/one-time-qa.png)\n",
    "\n",
    "This does not always indicate an error. It is actually the characteristic of the problem or how the problem \n",
    "is formulated. Because we have different linear and quadratic terms that vary by many orders of magnitude. If we \n",
    "set change value of A to some smaller number, like 10 or 100, more occurrences of the best answer will be observed. \n",
    "However, these answers usually break the constraints. For more information about this phenomenon, please refer to this \n",
    "[Link](https://support.dwavesys.com/hc/en-us/community/posts/1500000698522-Number-of-occurrences-?input_string=number%20occurance)."
   ]
  },
  {
   "cell_type": "markdown",
   "id": "ddcba0ff",
   "metadata": {},
   "source": [
    "# Step 4: PostProcess Result"
   ]
  },
  {
   "cell_type": "markdown",
   "id": "2d0d4d09",
   "metadata": {},
   "source": [
    "In this part, we post process the optimizing results for evaluation and visualization.\n",
    "At first, we prepare the following parameters:\n",
    "\n",
    "| Parameter | Description | Value |\n",
    "|--- |--- |--- |\n",
    "|method | annealing method for QUBO problem |'dwave-sa': use the simulated annealer in ocean toolkit<br> 'dwave-qa': use the quantum annealer|\n",
    "|raw_path| the path for the original molecule file| './molecule-data/117_ideal.mol2' in this example |\n",
    "|data_path| the path for the processed molecule file| './qmu_117_ideal_data_latest.mol2' in this example |\n",
    "|bucket | the s3 bucket to store your results | - |\n",
    "|prefix | the name of the folder in your s3 bucket | - |\n",
    "|task_id | the id for your quantum annealing task| '2b5a3b05-1a0e-443a-852c-4ec422a10e59' in this example |"
   ]
  },
  {
   "cell_type": "markdown",
   "id": "6132a665",
   "metadata": {},
   "source": [
    "Then we can run the post-process using **ResultParser** object for SA:"
   ]
  },
  {
   "cell_type": "code",
   "execution_count": 55,
   "id": "ee681be9",
   "metadata": {},
   "outputs": [
    {
     "name": "stderr",
     "output_type": "stream",
     "text": [
      "INFO:root:_load_raw_result\n",
      "INFO:root:load simulated annealer neal-sa raw result\n",
      "INFO:root:MoleculeData.load()\n",
      "INFO:root:init mol data for final position\n",
      "INFO:root:init mol data for raw position\n",
      "INFO:root:_parse_model_info\n",
      "INFO:root:_init_parameters\n",
      "INFO:root:parse simulated annealer result\n",
      "INFO:root:sa only has local_time!\n"
     ]
    },
    {
     "name": "stdout",
     "output_type": "stream",
     "text": [
      "time for neal-sa: \n",
      "     local time is 1.7825100421905518\n"
     ]
    }
   ],
   "source": [
    "method = \"neal-sa\"\n",
    "sa_param = {}\n",
    "sa_param[\"raw_path\"] = raw_path\n",
    "sa_param[\"data_path\"] = data_path\n",
    "\n",
    "sa_process_result = ResultParser(method, **sa_param)\n",
    "# print(f\"{method} result is {sa_process_result.get_all_result()}\")\n",
    "\n",
    "local_time, _ , _, _= sa_process_result.get_time()\n",
    "\n",
    "print(f\"time for {method}: \\n \\\n",
    "    local time is {local_time}\")"
   ]
  },
  {
   "cell_type": "code",
   "execution_count": 56,
   "id": "c78e26dc",
   "metadata": {},
   "outputs": [
    {
     "name": "stderr",
     "output_type": "stream",
     "text": [
      "INFO:root:generate_optimize_pts()\n",
      "INFO:root:var_dict_raw {'3': ['3']} var_dict_list [{'3': '3'}]\n",
      "INFO:root:chosen var {'x_3_3'}\n",
      "INFO:root:tor list {'X_3_3'}\n",
      "INFO:root:initial 377.71674234809467\n",
      "INFO:root:optimize 386.947021886511\n",
      "INFO:root:optimize_gain 1.0244370410510157\n",
      "INFO:root:start physical check\n",
      "INFO:root:fail at 3 to 17\n",
      "INFO:root:physical check not pass!\n",
      "INFO:root:var_dict_raw {'3': ['2']} var_dict_list [{'3': '2'}]\n",
      "INFO:root:chosen var {'x_3_2'}\n",
      "INFO:root:tor list {'X_3_2'}\n",
      "INFO:root:initial 377.71674234809467\n",
      "INFO:root:optimize 385.0520577463982\n",
      "INFO:root:optimize_gain 1.0194201489526336\n",
      "INFO:root:start physical check\n",
      "INFO:root:save_mol_file 20220505-14\n",
      "INFO:root:finish save /Users/aoyuzhan/Workplace/SolutionCenter/initiative/qc/hcls/drug-discovery/AWS-gcr-qc-life-science/source/src/molecule-unfolding/molecule-data/Aspirin_neal-sa_20220505-14.mol2 and /Users/aoyuzhan/Workplace/SolutionCenter/initiative/qc/hcls/drug-discovery/AWS-gcr-qc-life-science/source/src/molecule-unfolding/molecule-data/Aspirin_neal-sa_20220505-14.json\n"
     ]
    },
    {
     "name": "stdout",
     "output_type": "stream",
     "text": [
      "result path is /Users/aoyuzhan/Workplace/SolutionCenter/initiative/qc/hcls/drug-discovery/AWS-gcr-qc-life-science/source/src/molecule-unfolding/molecule-data/Aspirin_neal-sa_20220505-14.mol2, and result optimization file path is /Users/aoyuzhan/Workplace/SolutionCenter/initiative/qc/hcls/drug-discovery/AWS-gcr-qc-life-science/source/src/molecule-unfolding/molecule-data/Aspirin_neal-sa_20220505-14.json\n"
     ]
    }
   ],
   "source": [
    "sa_atom_pos_data = sa_process_result.generate_optimize_pts()\n",
    "# save unfold file for visualization and parameters for experiment: 1. volume value 2. relative improvement\n",
    "sa_result_filepath, sa_result_json = sa_process_result.save_mol_file(f\"{timestamp}\")\n",
    "\n",
    "print(f\"result path is {sa_result_filepath}, and result optimization file path is {sa_result_json}\")"
   ]
  },
  {
   "cell_type": "code",
   "execution_count": 57,
   "id": "a12c756a",
   "metadata": {},
   "outputs": [
    {
     "data": {
      "text/plain": [
       "{'volume': {'optimize': 385.0520577463982,\n",
       "  'initial': 377.71674234809467,\n",
       "  'gain': 1.0194201489526336,\n",
       "  'unfolding_results': ['X_3_2'],\n",
       "  'annealing_results': ['x_3_2'],\n",
       "  'optimize_info': {'optimize_state': True, 'result_rank': 2}}}"
      ]
     },
     "execution_count": 57,
     "metadata": {},
     "output_type": "execute_result"
    }
   ],
   "source": [
    "sa_process_result.parameters"
   ]
  },
  {
   "cell_type": "markdown",
   "id": "392b7985",
   "metadata": {},
   "source": [
    "In the first block, we can see the **local time**\n",
    "for SA is more than 150 seconds. \n",
    "With the **generate_optimize_pts()** method, the final 3D \n",
    "points after unfolding will be generated and saved as json file and mol2 files. The last \n",
    "block shows the optimizing results which are also stored in json files. \n",
    "It shows that the optimized result gains \n",
    "1.0006x increase in volume. The value for **unfolding_results** indicates \n",
    "that the rotatable bond 15 should rotate $270^o$ ($360/8*(7-1)$) and \n",
    "the rotatable bond 14 should rotate $0^o$ ($360/8*(1-1)$).\n",
    "At the same time, you can run the post-process for QA:"
   ]
  },
  {
   "cell_type": "code",
   "execution_count": 322,
   "id": "c8eea314",
   "metadata": {},
   "outputs": [
    {
     "name": "stderr",
     "output_type": "stream",
     "text": [
      "INFO:root:_load_raw_result\n",
      "INFO:root:load quantum annealer raw result\n",
      "INFO:root:_read_result_obj\n",
      "INFO:root:_read_result_obj: annealer-experiment/f4081e34-c785-4ba7-9718-cbea1a308596/qa_result.pickle\n",
      "INFO:root:MoleculeData.load()\n",
      "INFO:root:init mol data for final position\n",
      "INFO:root:init mol data for raw position\n",
      "INFO:root:_parse_model_info\n",
      "INFO:root:_init_parameters\n",
      "INFO:root:parse quantum annealer result\n",
      "INFO:root:_read_result_obj\n",
      "INFO:root:_read_result_obj: annealer-experiment/f4081e34-c785-4ba7-9718-cbea1a308596/results.json\n"
     ]
    },
    {
     "name": "stdout",
     "output_type": "stream",
     "text": [
      "time for dwave-qa: \n",
      "     local time is 10.384690284729004,\n",
      "     task time is 1.969, \n",
      "     qpu total time is 0.117948, \n",
      "     qpu access time is 0.110488\n"
     ]
    }
   ],
   "source": [
    "method = \"dwave-qa\"\n",
    "qa_param = {}\n",
    "qa_param[\"bucket\"] = s3_bucket\n",
    "qa_param[\"prefix\"] = prefix\n",
    "qa_param[\"task_id\"] = qa_task_id\n",
    "qa_param[\"raw_path\"] = raw_path\n",
    "qa_param[\"data_path\"] = data_path\n",
    "\n",
    "qa_process_result = ResultParser(method, **qa_param)\n",
    "# print(f\"{method} result is {qa_process_result.get_all_result()}\")\n",
    "\n",
    "local_time, task_time, total_time, access_time = qa_process_result.get_time()\n",
    "\n",
    "print(f\"time for {method}: \\n \\\n",
    "    local time is {local_time},\\n \\\n",
    "    task time is {task_time}, \\n \\\n",
    "    qpu total time is {total_time}, \\n \\\n",
    "    qpu access time is {access_time}\")"
   ]
  },
  {
   "cell_type": "markdown",
   "id": "fa124178",
   "metadata": {},
   "source": [
    "we can see that there many types of time metrics for running QA.\n",
    "This task has the **local time** of 5 s, which means the time between calling the api and \n",
    "getting the annealing result. The **task time** time is the metric from the json file in \n",
    "bucket. We can also see the **qpu total time** and **qpu access time** representing the \n",
    "actual time running in the QPU. Please refer to [Operation and Timing](https://docs.dwavesys.com/docs/latest/c_qpu_timing.html)\n",
    "for details."
   ]
  },
  {
   "cell_type": "code",
   "execution_count": 323,
   "id": "b7cc0999",
   "metadata": {},
   "outputs": [
    {
     "name": "stderr",
     "output_type": "stream",
     "text": [
      "INFO:root:generate_optimize_pts()\n",
      "INFO:root:var_dict_raw {'3': ['3'], '2': ['1']} var_dict_list [{'3': '3', '2': '1'}]\n",
      "INFO:root:chosen var {'x_3_3', 'x_2_1'}\n",
      "INFO:root:tor list {'X_3_3', 'X_2_1'}\n",
      "INFO:root:initial 12.11393714296005\n",
      "INFO:root:optimize 12.453192990579538\n",
      "INFO:root:optimize_gain 1.0280054158789032\n",
      "INFO:root:start physical check\n",
      "INFO:root:fail at 3 to 17\n",
      "INFO:root:physical check not pass!\n",
      "INFO:root:var_dict_raw {'2': ['1'], '3': ['4']} var_dict_list [{'2': '1', '3': '4'}]\n",
      "INFO:root:chosen var {'x_2_1', 'x_3_4'}\n",
      "INFO:root:tor list {'X_3_4', 'X_2_1'}\n",
      "INFO:root:initial 12.11393714296005\n",
      "INFO:root:optimize 12.36453125062258\n",
      "INFO:root:optimize_gain 1.0206864295814975\n",
      "INFO:root:start physical check\n",
      "INFO:root:save_mol_file 20220426-08\n",
      "INFO:root:finish save /Users/aoyuzhan/Workplace/SolutionCenter/initiative/qc/hcls/drug-discovery/AWS-gcr-qc-life-science/source/src/molecule-unfolding/molecule-data/Aspirin_dwave-qa_20220426-08.mol2 and /Users/aoyuzhan/Workplace/SolutionCenter/initiative/qc/hcls/drug-discovery/AWS-gcr-qc-life-science/source/src/molecule-unfolding/molecule-data/Aspirin_dwave-qa_20220426-08.json\n"
     ]
    },
    {
     "name": "stdout",
     "output_type": "stream",
     "text": [
      "result path is /Users/aoyuzhan/Workplace/SolutionCenter/initiative/qc/hcls/drug-discovery/AWS-gcr-qc-life-science/source/src/molecule-unfolding/molecule-data/Aspirin_dwave-qa_20220426-08.mol2, and result optimization file path is /Users/aoyuzhan/Workplace/SolutionCenter/initiative/qc/hcls/drug-discovery/AWS-gcr-qc-life-science/source/src/molecule-unfolding/molecule-data/Aspirin_dwave-qa_20220426-08.json\n"
     ]
    }
   ],
   "source": [
    "qa_atom_pos_data = qa_process_result.generate_optimize_pts()\n",
    "# save unfold file for visualization and parameters for experiment: 1. volume value 2. relative improvement\n",
    "qa_result_filepath, qa_result_json = qa_process_result.save_mol_file(f\"{timestamp}\")\n",
    "print(f\"result path is {qa_result_filepath}, and result optimization file path is {qa_result_json}\")"
   ]
  },
  {
   "cell_type": "code",
   "execution_count": 324,
   "id": "a531017a",
   "metadata": {},
   "outputs": [
    {
     "data": {
      "text/plain": [
       "{'volume': {'optimize': 12.36453125062258,\n",
       "  'initial': 12.11393714296005,\n",
       "  'gain': 1.0206864295814975,\n",
       "  'unfolding_results': ['X_3_4', 'X_2_1'],\n",
       "  'annealing_results': ['x_2_1', 'x_3_4'],\n",
       "  'optimize_info': {'optimize_state': True, 'result_rank': 2}}}"
      ]
     },
     "execution_count": 324,
     "metadata": {},
     "output_type": "execute_result"
    }
   ],
   "source": [
    "qa_process_result.parameters"
   ]
  },
  {
   "cell_type": "markdown",
   "id": "2d3edcb7",
   "metadata": {},
   "source": [
    "In same way, the optimized results are translated the 3D points and saved \n",
    "as local json and mol2 files. The result indicates that QA gains \n",
    "1.0006x increase in \n",
    "volume."
   ]
  },
  {
   "cell_type": "markdown",
   "id": "356785f5",
   "metadata": {},
   "source": [
    "Finally, We can open folders for the optimized results:\n",
    "\n",
    "![optimize-results](../../../docs/en/images/optimize-results.png)\n",
    "\n",
    " <center>Optimize Results</center>\n",
    "\n",
    "We can see the json result and mol2 file of SA and QA are \n",
    "stored in this place. If we carry out more \n",
    "experiments, more results with time stamp are \n",
    "stored incrementally. \n",
    "For visualization, we can use the following method to see the original the molecule and unfolding molecule."
   ]
  },
  {
   "cell_type": "code",
   "execution_count": 37,
   "id": "baf8787f",
   "metadata": {},
   "outputs": [
    {
     "data": {
      "application/vnd.jupyter.widget-view+json": {
       "model_id": "b2d81e39bfb5414dbb04efef62627053",
       "version_major": 2,
       "version_minor": 0
      },
      "text/plain": [
       "interactive(children=(Text(value='./molecule-data/117_ideal.mol2', description='mol'), IntSlider(value=800, de…"
      ]
     },
     "metadata": {},
     "output_type": "display_data"
    }
   ],
   "source": [
    "# this shows the original molecule\n",
    "qa_process_result.InteractView(raw_path, size=800)"
   ]
  },
  {
   "cell_type": "code",
   "execution_count": 38,
   "id": "a21f8478",
   "metadata": {},
   "outputs": [
    {
     "data": {
      "application/vnd.jupyter.widget-view+json": {
       "model_id": "6f2d7cab339a46558d3be5f7ef944344",
       "version_major": 2,
       "version_minor": 0
      },
      "text/plain": [
       "interactive(children=(Text(value='./molecule-data/117_ideal_dwave-qa_20220323-14.mol2', description='mol'), In…"
      ]
     },
     "metadata": {},
     "output_type": "display_data"
    }
   ],
   "source": [
    "# copy the variable for the path of unfolding molecule, we can see the unfolding results. this also works for sa_process_result.\n",
    "qa_process_result.InteractView(qa_result_filepath, size=800)"
   ]
  },
  {
   "cell_type": "markdown",
   "id": "d1a07681",
   "metadata": {},
   "source": [
    "Alternatively, we can upload the mol2 file into \n",
    "[online viewer tool](https://www.rcsb.org/3d-view) \n",
    "to see the result:\n",
    "\n",
    "![visual](../../../docs/en/images/visualization.png)\n",
    "\n",
    " <center>Visualization</center>"
   ]
  },
  {
   "cell_type": "markdown",
   "id": "ec0e17f7",
   "metadata": {},
   "source": [
    "# Draft place"
   ]
  },
  {
   "cell_type": "code",
   "execution_count": 16,
   "id": "2bef01de",
   "metadata": {},
   "outputs": [],
   "source": [
    "# result from symbolic annealing\n",
    "# x_2_8 = 1, x_3_7 = 1\n",
    "# result from pre-calc \n",
    "# x_2_1 = 1, x_3_4 = 1\n",
    "# result from pre-calc, sum distance metrics\n",
    "# x_2_1 = 1, x_3_2 = 1\n",
    "import logging"
   ]
  },
  {
   "cell_type": "code",
   "execution_count": 19,
   "id": "1d624683",
   "metadata": {},
   "outputs": [
    {
     "name": "stderr",
     "output_type": "stream",
     "text": [
      "INFO:root:Rotables influence set(ris) group 4+5\n",
      "INFO:root:torsion_group is ['4+5']\n",
      "INFO:root:rot start pts [-1.1519, -0.6914, 0.0093], end pts [-0.9578, -2.0342, 0.0079]\n",
      "INFO:root:rot_mat is Array([[0.0205, -0.1426, 0.9896, -1.2361],\n",
      "       [-0.1406, 0.9795, 0.1441, -0.1774],\n",
      "       [-0.9899, -0.142, 0.0, -1.2291],\n",
      "       [0, 0, 0, 1]])\n",
      "INFO:root:b org Array([[-0.3627],\n",
      "       [-2.4987],\n",
      "       [0.1243],\n",
      "       [1]])\n",
      "INFO:root:a org pos Array([[-1.4637],\n",
      "       [1.3943],\n",
      "       [1.2946]]) b rotate Array([[-0.76421345],\n",
      "       [-2.5559694],\n",
      "       [-0.51524787]]) distance is Array([[19.369459078750797]])\n"
     ]
    }
   ],
   "source": [
    "var = {} \n",
    "var_rb_map = {}\n",
    "rb_var_map = {}\n",
    "\n",
    "atom_pos_data = qmu_qubo.atom_pos_data\n",
    "\n",
    "for m, name in enumerate(mol_data.bond_graph.rb_name):\n",
    "    x_d = {}\n",
    "    var_rb_map[str(m+1)] = name\n",
    "    rb_var_map[str(name)] = str(m+1)\n",
    "    d = 0\n",
    "    exec (f\"x_{m+1}_{d+1} = Binary(f'x_{m+1}_{d+1}')\") \n",
    "    exec (f\"x_{m+1}_{d+1} = 0\") \n",
    "    # exec (f\"x_2_8 = 1\") \n",
    "    # exec (f\"x_3_7 = 1\") \n",
    "    # exec (f\"x_2_1 = 1\") \n",
    "    exec (f\"x_3_4 = 1\") \n",
    "    exec (f\"x_d[str({d+1})] = x_{m+1}_{d+1}\") \n",
    "\n",
    "    exec (f\"s_value = math.sin(2*math.pi*{d}/({D}))\")\n",
    "    exec (f\"x_{m+1}_s_1 = x_{m+1}_{d+1} * s_value\")\n",
    "    exec (f\"s_value = math.cos(2*math.pi*{d}/({D}))\")\n",
    "    exec (f\"x_{m+1}_c_1 = x_{m+1}_{d+1} * s_value\")\n",
    "\n",
    "    for d in range(1, D):\n",
    "        exec (f\"x_{m+1}_{d+1} = Binary(f'x_{m+1}_{d+1}')\") \n",
    "        exec (f\"x_{m+1}_{d+1} = 0\") \n",
    "        # exec (f\"x_2_8 = 1\") \n",
    "        # exec (f\"x_3_7 = 1\") \n",
    "        # exec (f\"x_2_1 = 1\") \n",
    "        exec (f\"x_3_4 = 1\") \n",
    "        exec (f\"x_d[str({d+1})] = x_{m+1}_{d+1}\") \n",
    "\n",
    "        exec (f\"s_value = math.sin(2*math.pi*{d}/({D}))\")\n",
    "        exec (f\"x_{m+1}_s_1 = x_{m+1}_s_1 + x_{m+1}_{d+1} * s_value\")\n",
    "        exec (f\"s_value = math.cos(2*math.pi*{d}/({D}))\")\n",
    "        exec (f\"x_{m+1}_c_1 = x_{m+1}_c_1 + x_{m+1}_{d+1} * s_value\")\n",
    "    exec(f\"x_d['s_1'] = x_{m+1}_s_1\")\n",
    "    exec(f\"x_d['c_1'] = x_{m+1}_c_1\")\n",
    "    var[str(m+1)] = x_d\n",
    "test_hubo_distance = 0\n",
    "def update_hubo(torsion_group, hubo_distance, tor_points):\n",
    "    rot_mat = None\n",
    "\n",
    "    for tor in torsion_group:\n",
    "        c = var[rb_var_map[tor]]['c_1']\n",
    "        s = var[rb_var_map[tor]]['s_1']\n",
    "        start_pts = atom_pos_data[tor.split('+')[0]]\n",
    "        end_pts = atom_pos_data[tor.split('+')[1]]\n",
    "        logging.info(f\"rot start pts {start_pts['pts']}, end pts {end_pts['pts']}\")\n",
    "        if rot_mat is None:\n",
    "            rot_mat, mat_list = rot_mat_value(start_pts['pts'], end_pts['pts'], c, s)\n",
    "        else:\n",
    "            new_mat, mat_list = rot_mat_value(start_pts['pts'], end_pts['pts'], c, s)\n",
    "            rot_mat = rot_mat.matmul(new_mat)\n",
    "    # update points distance\n",
    "    tor_points_f_0_set = tor_points['f_0_set']\n",
    "    tor_points_f_1_set = tor_points['f_1_set']\n",
    "    tor_points_f_0_set = ['1']\n",
    "    tor_points_f_1_set = ['10']\n",
    "\n",
    "    logging.info(f\"rot_mat is {rot_mat}\")\n",
    "\n",
    "    for f_0 in tor_points_f_0_set:\n",
    "        for f_1 in tor_points_f_1_set:\n",
    "            a_pos = atom_pos_data[f_0]['pts']\n",
    "            b_pos = atom_pos_data[f_1]['pts']\n",
    "            a_org_pos = Array([[a_pos[0]], [a_pos[1]], [a_pos[2]]])\n",
    "            b_org_homo_pos = Array([[b_pos[0]], [b_pos[1]], [b_pos[2]], [1]])\n",
    "            b_rot_homo_pos = rot_mat.matmul(b_org_homo_pos)\n",
    "            b_rot_pos = Array([b_rot_homo_pos[0],b_rot_homo_pos[1],b_rot_homo_pos[2]])\n",
    "            result_array = a_org_pos - b_rot_pos\n",
    "            distance = result_array.T.matmul(result_array)\n",
    "            logging.info(f'b org {b_org_homo_pos}')\n",
    "            logging.info(f\"a org pos {a_org_pos} b rotate {b_rot_pos} distance is {distance}\")\n",
    "            hubo_distance = hubo_distance - distance[0][0]\n",
    "    \n",
    "    return hubo_distance\n",
    "\n",
    "\n",
    "for ris in mol_data.bond_graph.sort_ris_data[str(M)].keys():\n",
    "    start = time.time()\n",
    "    logging.info(f\"Rotables influence set(ris) group {ris}\")\n",
    "    end = time.time()\n",
    "    torsion_group = ris.split(\",\")\n",
    "    # if len(torsion_group) == 1:\n",
    "    #     # update constraint\n",
    "    #     hubo_constraints = update_constraint(ris, hubo_constraints)\n",
    "    logging.info(f\"torsion_group is {torsion_group}\")\n",
    "\n",
    "    test_hubo_distance = update_hubo(torsion_group, test_hubo_distance, mol_data.bond_graph.sort_ris_data[str(M)][ris])"
   ]
  },
  {
   "cell_type": "code",
   "execution_count": 20,
   "id": "7aee7dac",
   "metadata": {},
   "outputs": [
    {
     "ename": "NameError",
     "evalue": "name 'b_rot_homo_pos' is not defined",
     "output_type": "error",
     "traceback": [
      "\u001b[0;31m---------------------------------------------------------------------------\u001b[0m",
      "\u001b[0;31mNameError\u001b[0m                                 Traceback (most recent call last)",
      "\u001b[0;32m/var/folders/1h/djn4snhd2jd073ngq8cy0f000000gs/T/ipykernel_34966/3043999087.py\u001b[0m in \u001b[0;36m<module>\u001b[0;34m\u001b[0m\n\u001b[0;32m----> 1\u001b[0;31m \u001b[0mb_rot_homo_pos\u001b[0m\u001b[0;34m[\u001b[0m\u001b[0;36m0\u001b[0m\u001b[0;34m]\u001b[0m\u001b[0;34m\u001b[0m\u001b[0;34m\u001b[0m\u001b[0m\n\u001b[0m",
      "\u001b[0;31mNameError\u001b[0m: name 'b_rot_homo_pos' is not defined"
     ]
    }
   ],
   "source": [
    "b_rot_homo_pos[0]"
   ]
  },
  {
   "cell_type": "code",
   "execution_count": 157,
   "id": "c0ec33f2",
   "metadata": {},
   "outputs": [
    {
     "data": {
      "text/plain": [
       "-16.683417559238634"
      ]
     },
     "execution_count": 157,
     "metadata": {},
     "output_type": "execute_result"
    }
   ],
   "source": [
    "# x_3_4 = 1\n",
    "test_hubo_distance"
   ]
  },
  {
   "cell_type": "code",
   "execution_count": 192,
   "id": "1b0c1d7b",
   "metadata": {},
   "outputs": [
    {
     "data": {
      "text/plain": [
       "{'pts': [-2.0568, -2.9052, -0.0398],\n",
       " 'idx': ([0, 0, 0], [0, 0, 0]),\n",
       " 'vdw-radius': 1.7}"
      ]
     },
     "execution_count": 192,
     "metadata": {},
     "output_type": "execute_result"
    }
   ],
   "source": [
    "qmu_qubo.atom_pos_data['10']"
   ]
  },
  {
   "cell_type": "code",
   "execution_count": 21,
   "id": "7ba60bc4",
   "metadata": {},
   "outputs": [],
   "source": [
    "qmu_qubo._init_mol_file()"
   ]
  },
  {
   "cell_type": "code",
   "execution_count": 22,
   "id": "423f4697",
   "metadata": {},
   "outputs": [
    {
     "data": {
      "text/plain": [
       "{'atom_name': 'C10',\n",
       " 'x': -2.0568,\n",
       " 'y': -2.9052,\n",
       " 'z': -0.0398,\n",
       " 'atom_type': 'C.ar',\n",
       " 'subst_id': 1,\n",
       " 'subst_name': '<0>',\n",
       " 'charge': -0.14,\n",
       " 'vdw-radius': 1.7}"
      ]
     },
     "execution_count": 22,
     "metadata": {},
     "output_type": "execute_result"
    }
   ],
   "source": [
    "qmu_qubo.mol_data.atom_data['10']"
   ]
  },
  {
   "cell_type": "code",
   "execution_count": 23,
   "id": "aa164a4c",
   "metadata": {},
   "outputs": [
    {
     "name": "stderr",
     "output_type": "stream",
     "text": [
      "INFO:root:ris group 4+5 \n",
      "INFO:root:['4+5']\n",
      "INFO:root:tor list ['x_3_4']\n",
      "INFO:root:whole set is {'10'}\n",
      "INFO:root:gen pts is [{'pts': [-2.0568, -2.9052, -0.0398], 'idx': ([0, 0, 0], [0, 0, 0]), 'vdw-radius': 1.7}]\n",
      "INFO:root:start_pts [{'pts': [-1.1519, -0.6914, 0.0093], 'idx': ([0, 0, 0], [0, 0, 0]), 'vdw-radius': 1.52}]\n",
      "INFO:root:end_pts [{'pts': [-0.9578, -2.0342, 0.0079], 'idx': ([0, 0, 0], [0, 0, 0]), 'vdw-radius': 1.7}]\n",
      "INFO:root:pts_list [{'pts': [-2.0568, -2.9052, -0.0398], 'idx': ([0, 0, 0], [0, 0, 0]), 'vdw-radius': 1.7}]\n",
      "INFO:root:pts 1: {'pts': [-1.4637, 1.3943, 1.2946], 'idx': ([0, 0, 0], [0, 0, 0]), 'vdw-radius': 1.7}, pts 10: {'pts': [-0.9033, -2.7398, 1.2195], 'idx': ([0, 0, 0], [0, 0, 0]), 'vdw-radius': 1.7}\n",
      "INFO:root:final list ['x_3_4'] with distance 4.172585646814214 pow(2) 17.410470979999996\n"
     ]
    }
   ],
   "source": [
    "from utility.MolGeoCalc import *\n",
    "pre_hubo_distance = {}\n",
    "theta_option = [x * 360/D for x in range(D)]\n",
    "# x_3_4\n",
    "# f_0_set = ['1']\n",
    "# f_1_set = ['10']\n",
    "\n",
    "var = qmu_qubo.var\n",
    "\n",
    "def _init_mol_file(raw_atom_data):\n",
    "    atom_pos_data = {}\n",
    "    for pt, info in raw_atom_data.items():\n",
    "        atom_pos_data[pt] = {}\n",
    "        atom_pos_data[pt]['pts'] = [info['x'], info['y'], info['z']]\n",
    "        atom_pos_data[pt]['idx'] = ([0, 0, 0], [0, 0, 0])\n",
    "        atom_pos_data[pt]['vdw-radius'] = info['vdw-radius']\n",
    "    return atom_pos_data\n",
    "\n",
    "def update_hubo(torsion_group, up_list, ris):\n",
    "    if len(torsion_group) == 1:\n",
    "        for d in range(D):\n",
    "            if d != 3:\n",
    "                continue\n",
    "\n",
    "            tor_list = up_list + \\\n",
    "                [var[rb_var_map[torsion_group[0]]][str(d+1)]]\n",
    "            # distance\n",
    "            final_list_name = []\n",
    "            if len(tor_list) == 1:\n",
    "                final_list_name = tor_list + tor_list\n",
    "            else:\n",
    "                final_list_name = tor_list\n",
    "\n",
    "            # update temp points and distance\n",
    "            # TODO: !!!! temp disable for quick validation\n",
    "            atom_pos_data = _init_mol_file(qmu_qubo.mol_data.atom_data)\n",
    "\n",
    "            rb_set = mol_data.bond_graph.sort_ris_data[str(\n",
    "                M)][ris]\n",
    "            \n",
    "            rb_set['f_0_set'] = set()\n",
    "            rb_set['f_0_set'].add('1')\n",
    "            rb_set['f_1_set'] = set()\n",
    "            rb_set['f_1_set'].add('10')\n",
    "\n",
    "            # build map for affected tor\n",
    "            tor_map = {}\n",
    "            tor_len = len(tor_list)\n",
    "            logging.info(f\"tor list {tor_list}\")\n",
    "            for base_idx in range(tor_len):\n",
    "                tor_name = tor_list[base_idx]\n",
    "                tor_map[tor_name] = set()\n",
    "                base_rb_name = var_rb_map[tor_list[base_idx].split('_')[\n",
    "                    1]]\n",
    "\n",
    "                # get direction set\n",
    "                direction_set = get_same_direction_set(\n",
    "                    rb_set['f_1_set'], mol_data.bond_graph.rb_data, base_rb_name)\n",
    "\n",
    "                for candi_idx in range(base_idx, tor_len):\n",
    "                    candi_rb_name = var_rb_map[tor_list[candi_idx].split('_')[\n",
    "                        1]].split('+')\n",
    "                    for rb in candi_rb_name:\n",
    "                        if rb in direction_set:\n",
    "                            tor_map[tor_name].add(rb)\n",
    "\n",
    "            # distance = update_pts_distance(\n",
    "            #     atom_pos_data, rb_set, tor_map, var_rb_map, theta_option, True, True)\n",
    "            def _gen_pts_pos_list(pt_set, atom_pos_data):\n",
    "                return [atom_pos_data[pt]['pts'] for pt in pt_set]\n",
    "\n",
    "            def _gen_pts_list(pt_set, atom_pos_data):\n",
    "                return [atom_pos_data[pt] for pt in pt_set]\n",
    "\n",
    "            def update_pts(start_pts, end_pts, pts_list, rotate_theta):\n",
    "                rotate_list = []\n",
    "                logging.info(\"start_pts {}\".format(start_pts))\n",
    "                logging.info(\"end_pts {}\".format(end_pts))\n",
    "                logging.info(\"pts_list {}\".format(pts_list))\n",
    "                pi = 3.1415926\n",
    "                for pt in pts_list:\n",
    "                    if pt['idx'] != (start_pts[0]['pts'], end_pts[0]['pts']):\n",
    "                        rotate_list.append(PointRotate3D(\n",
    "                            start_pts[0]['pts'], end_pts[0]['pts'], pt['pts'], rotate_theta/180*pi))\n",
    "                    else:\n",
    "                        logging.debug(\"avoid same rotate *******\")\n",
    "                        rotate_list.append(pt['pts'])\n",
    "                return rotate_list\n",
    "\n",
    "            # rb_set\n",
    "            for var_name, affect_tor_pts_set in tor_map.items():\n",
    "                d = var_name.split('_')[2]\n",
    "                rb_name = var_rb_map[var_name.split('_')[1]]\n",
    "                # update points\n",
    "                start_pts = atom_pos_data[rb_name.split('+')[0]]\n",
    "                end_pts = atom_pos_data[rb_name.split('+')[1]]\n",
    "                whole_set = set.union(rb_set['f_1_set'], affect_tor_pts_set)\n",
    "                logging.info(f\"whole set is {whole_set}\")\n",
    "                gen_pts = _gen_pts_list(whole_set, atom_pos_data)\n",
    "                logging.info(f\"gen pts is {gen_pts}\")\n",
    "                theta = theta_option[int(d)-1]\n",
    "                rotate_list = update_pts([start_pts], [end_pts], gen_pts, theta)\n",
    "                for pt_name, pt_value in zip(whole_set, rotate_list):\n",
    "                    atom_pos_data[pt_name]['pts'] = pt_value\n",
    "\n",
    "            distance = None\n",
    "            # calculate distance\n",
    "            logging.info(f\"pts 1: {atom_pos_data['1']}, pts 10: {atom_pos_data['10']}\")\n",
    "            distance = calc_distance_between_pts(_gen_pts_pos_list(\n",
    "                rb_set['f_0_set'], atom_pos_data), _gen_pts_pos_list(rb_set['f_1_set'], atom_pos_data))\n",
    "\n",
    "            pre_hubo_distance[tuple(final_list_name)] = -distance\n",
    "            logging.info(\n",
    "                f\"final list {tor_list} with distance {distance} pow(2) {distance**2}\")\n",
    "    else:\n",
    "        for d in range(D):\n",
    "            final_list = up_list + \\\n",
    "                [var[rb_var_map[torsion_group[0]]][str(d+1)]]\n",
    "            update_hubo(torsion_group[1:], final_list, ris)\n",
    "\n",
    "\n",
    "for ris in mol_data.bond_graph.sort_ris_data[str(M)].keys():\n",
    "    start = time.time()\n",
    "    logging.info(f\"ris group {ris} \")\n",
    "    end = time.time()\n",
    "    torsion_group = ris.split(\",\")\n",
    "\n",
    "    logging.info(torsion_group)\n",
    "    # update hubo terms\n",
    "    update_hubo(torsion_group, [], ris)\n",
    "    logging.debug(\n",
    "        f\"elapsed time for torsion group {ris} : {(end-start)/60} min\")"
   ]
  },
  {
   "cell_type": "code",
   "execution_count": 164,
   "id": "d7303417",
   "metadata": {},
   "outputs": [
    {
     "data": {
      "text/plain": [
       "{'1': {'pts': [-1.4637, 1.3943, 1.2946],\n",
       "  'idx': ([0, 0, 0], [0, 0, 0]),\n",
       "  'vdw-radius': 1.7},\n",
       " '2': {'pts': [-1.3545, -0.1059, 1.201],\n",
       "  'idx': ([0, 0, 0], [0, 0, 0]),\n",
       "  'vdw-radius': 1.7},\n",
       " '3': {'pts': [-1.4493, -0.7819, 2.198],\n",
       "  'idx': ([0, 0, 0], [0, 0, 0]),\n",
       "  'vdw-radius': 1.52},\n",
       " '4': {'pts': [-1.1519, -0.6914, 0.0093],\n",
       "  'idx': ([0, 0, 0], [0, 0, 0]),\n",
       "  'vdw-radius': 1.52},\n",
       " '5': {'pts': [-0.9578, -2.0342, 0.0079],\n",
       "  'idx': ([0, 0, 0], [0, 0, 0]),\n",
       "  'vdw-radius': 1.7},\n",
       " '6': {'pts': [0.327, -2.5523, 0.0594],\n",
       "  'idx': ([0, 0, 0], [0, 0, 0]),\n",
       "  'vdw-radius': 1.7},\n",
       " '7': {'pts': [0.5232, -3.9195, 0.0578],\n",
       "  'idx': ([0, 0, 0], [0, 0, 0]),\n",
       "  'vdw-radius': 1.7},\n",
       " '8': {'pts': [-0.5586, -4.7832, 0.005],\n",
       "  'idx': ([0, 0, 0], [0, 0, 0]),\n",
       "  'vdw-radius': 1.7},\n",
       " '9': {'pts': [-1.843, -4.2868, -0.0466],\n",
       "  'idx': ([0, 0, 0], [0, 0, 0]),\n",
       "  'vdw-radius': 1.7},\n",
       " '10': {'pts': [-0.3627, -2.4987, 0.1243],\n",
       "  'idx': ([0, 0, 0], [0, 0, 0]),\n",
       "  'vdw-radius': 1.7},\n",
       " '11': {'pts': [-0.1645, -2.4318, 1.5816],\n",
       "  'idx': ([0, 0, 0], [0, 0, 0]),\n",
       "  'vdw-radius': 1.7},\n",
       " '12': {'pts': [-0.1103, -3.4617, 2.2394],\n",
       "  'idx': ([0, 0, 0], [0, 0, 0]),\n",
       "  'vdw-radius': 1.52},\n",
       " '13': {'pts': [-0.0541, -1.3462, 2.1347],\n",
       "  'idx': ([0, 0, 0], [0, 0, 0]),\n",
       "  'vdw-radius': 1.52},\n",
       " '14': {'pts': [-1.6261, 1.6826, 2.3332],\n",
       "  'idx': ([0, 0, 0], [0, 0, 0]),\n",
       "  'vdw-radius': 1.2},\n",
       " '15': {'pts': [-0.5422, 1.849, 0.9311],\n",
       "  'idx': ([0, 0, 0], [0, 0, 0]),\n",
       "  'vdw-radius': 1.2},\n",
       " '16': {'pts': [-2.3018, 1.7362, 0.6873],\n",
       "  'idx': ([0, 0, 0], [0, 0, 0]),\n",
       "  'vdw-radius': 1.2},\n",
       " '17': {'pts': [1.1759, -1.8858, 0.1003],\n",
       "  'idx': ([0, 0, 0], [0, 0, 0]),\n",
       "  'vdw-radius': 1.2},\n",
       " '18': {'pts': [1.5263, -4.3177, 0.0977],\n",
       "  'idx': ([0, 0, 0], [0, 0, 0]),\n",
       "  'vdw-radius': 1.2},\n",
       " '19': {'pts': [-0.3945, -5.8507, 0.004],\n",
       "  'idx': ([0, 0, 0], [0, 0, 0]),\n",
       "  'vdw-radius': 1.2},\n",
       " '20': {'pts': [-2.6833, -4.964, -0.0884],\n",
       "  'idx': ([0, 0, 0], [0, 0, 0]),\n",
       "  'vdw-radius': 1.2}}"
      ]
     },
     "execution_count": 164,
     "metadata": {},
     "output_type": "execute_result"
    }
   ],
   "source": [
    "qmu_qubo.atom_pos_data"
   ]
  },
  {
   "cell_type": "code",
   "execution_count": null,
   "id": "a86d73e9",
   "metadata": {},
   "outputs": [],
   "source": [
    "import numpy as np\n",
    "from math import cos, sin\n",
    "\n",
    "from utility.MolGeoCalc import *\n",
    "r45_vector = (-1.1519, -0.6914, 0.0093)\n",
    "r45_orig = (-0.9578, -2.0342, 0.0079)\n",
    "# r45_vector = (1, 0, 0)\n",
    "# r45_orig = (0, 0, 1)\n",
    "\n",
    "# theta = math.pi/8 * 3\n",
    "# c = cos(theta)\n",
    "# s = sin(theta)\n",
    "c = x_1_c\n",
    "s = x_1_s\n",
    "r45_rot_binary, r45_rot = rot_mat_value(r45_vector, r45_orig, c, s)\n",
    "\n",
    "r24_vector = (-1.3545, -0.1059, 1.2020)\n",
    "r24_orig = (-1.1519, -0.6914, 0.0093)\n",
    "r24_rot_binary, r24_rot = rot_mat_value(r24_vector, r24_orig, c, s)\n",
    "\n",
    "a = np.array([-2.4524, -0.3545, 0.0197, 1])\n",
    "\n",
    "b = np.array([1.342, -2.343, 3.113, 1])\n",
    "\n",
    "a_1 = np.matmul(np.matmul(r24_rot, r45_rot).round(4), a).round(4)\n",
    "\n",
    "result_a_1 = (b - a_1)\n",
    "\n",
    "distance = np.matmul(result_a_1.T, result_a_1)\n",
    "\n",
    "# b = np.matmul(np.matmul(r24_rot, r45_rot).round(4), a).round(4)\n",
    "# b = np.matmul(r24_rot, np.matmul(r45_rot, a))\n",
    "# b = np.matmul(r24_rot, a)\n",
    "\n",
    "# print(f\"1st rot a_1 is {a_1} 2nd rot a_2 is {a_1}\")\n",
    "print(f\"1st distance {distance}\")\n",
    "# a.shape\n",
    "# r45_rot.shape\n",
    "p2 = list(r45_vector)\n",
    "p1 = list(r45_orig)\n",
    "p0 = [a[0], a[1], a[2]]\n",
    "\n",
    "a_1 = PointRotate3D(p1,p2,p0,theta)\n",
    "\n",
    "p2 = list(r24_vector)\n",
    "p1 = list(r24_orig)\n",
    "p0 = [a_1[0], a_1[1], a_1[2]]\n",
    "\n",
    "result_p = PointRotate3D(p1,p2,p0,theta)\n",
    "\n",
    "b_list = [b[0], b[1], b[2]]\n",
    "\n",
    "result_a_2 = []\n",
    "for idx in range(3):\n",
    "    result_a_2.append(b_list[idx] - result_p[idx])\n",
    "\n",
    "distance_2 = 0\n",
    "\n",
    "for v in result_a_2:\n",
    "    distance_2 = distance_2 + v**2\n",
    "\n",
    "# print(f\"PointRotate3D 1st rot a_1 is {a_1} 2nd rot a_2 is {result_p}\")\n",
    "print(f\"2nd distance {distance_2}\")"
   ]
  },
  {
   "cell_type": "code",
   "execution_count": 18,
   "id": "9ec85374",
   "metadata": {},
   "outputs": [
    {
     "ename": "NameError",
     "evalue": "name 'c' is not defined",
     "output_type": "error",
     "traceback": [
      "\u001b[0;31m---------------------------------------------------------------------------\u001b[0m",
      "\u001b[0;31mNameError\u001b[0m                                 Traceback (most recent call last)",
      "\u001b[0;32m/var/folders/1h/djn4snhd2jd073ngq8cy0f000000gs/T/ipykernel_34966/3074881585.py\u001b[0m in \u001b[0;36m<module>\u001b[0;34m\u001b[0m\n\u001b[1;32m      2\u001b[0m \u001b[0mr24_vector\u001b[0m \u001b[0;34m=\u001b[0m \u001b[0;34m(\u001b[0m\u001b[0;34m-\u001b[0m\u001b[0;36m1.3545\u001b[0m\u001b[0;34m,\u001b[0m \u001b[0;34m-\u001b[0m\u001b[0;36m0.1059\u001b[0m\u001b[0;34m,\u001b[0m \u001b[0;36m1.2020\u001b[0m\u001b[0;34m)\u001b[0m\u001b[0;34m\u001b[0m\u001b[0;34m\u001b[0m\u001b[0m\n\u001b[1;32m      3\u001b[0m \u001b[0mr24_orig\u001b[0m \u001b[0;34m=\u001b[0m \u001b[0;34m(\u001b[0m\u001b[0;34m-\u001b[0m\u001b[0;36m1.1519\u001b[0m\u001b[0;34m,\u001b[0m \u001b[0;34m-\u001b[0m\u001b[0;36m0.6914\u001b[0m\u001b[0;34m,\u001b[0m \u001b[0;36m0.0093\u001b[0m\u001b[0;34m)\u001b[0m\u001b[0;34m\u001b[0m\u001b[0;34m\u001b[0m\u001b[0m\n\u001b[0;32m----> 4\u001b[0;31m \u001b[0mr24_rot\u001b[0m\u001b[0;34m,\u001b[0m \u001b[0mr24_mat\u001b[0m \u001b[0;34m=\u001b[0m \u001b[0mrot_mat_value\u001b[0m\u001b[0;34m(\u001b[0m\u001b[0mr24_vector\u001b[0m\u001b[0;34m,\u001b[0m \u001b[0mr24_orig\u001b[0m\u001b[0;34m,\u001b[0m \u001b[0mc\u001b[0m\u001b[0;34m,\u001b[0m \u001b[0ms\u001b[0m\u001b[0;34m)\u001b[0m\u001b[0;34m\u001b[0m\u001b[0;34m\u001b[0m\u001b[0m\n\u001b[0m\u001b[1;32m      5\u001b[0m \u001b[0;34m\u001b[0m\u001b[0m\n\u001b[1;32m      6\u001b[0m \u001b[0ma_3\u001b[0m \u001b[0;34m=\u001b[0m \u001b[0mnp\u001b[0m\u001b[0;34m.\u001b[0m\u001b[0mmatmul\u001b[0m\u001b[0;34m(\u001b[0m\u001b[0mr24_rot\u001b[0m\u001b[0;34m,\u001b[0m \u001b[0ma\u001b[0m\u001b[0;34m)\u001b[0m\u001b[0;34m.\u001b[0m\u001b[0mround\u001b[0m\u001b[0;34m(\u001b[0m\u001b[0;36m4\u001b[0m\u001b[0;34m)\u001b[0m\u001b[0;34m\u001b[0m\u001b[0;34m\u001b[0m\u001b[0m\n",
      "\u001b[0;31mNameError\u001b[0m: name 'c' is not defined"
     ]
    }
   ],
   "source": [
    "a = np.array([0.78, 0.343, 1.34, 1])\n",
    "r24_vector = (-1.3545, -0.1059, 1.2020)\n",
    "r24_orig = (-1.1519, -0.6914, 0.0093)\n",
    "r24_rot, r24_mat = rot_mat_value(r24_vector, r24_orig, c, s)\n",
    "\n",
    "a_3 = np.matmul(r24_rot, a).round(4)\n",
    "\n",
    "print(f\"separate matmul {a_3}\")\n",
    "\n",
    "p1 = list(r24_vector)\n",
    "p2 = list(r24_orig)\n",
    "p0 = [a[0], a[1], a[2]]\n",
    "\n",
    "a_1 = PointRotate3D(p1,p2,p0,theta)\n",
    "\n",
    "print(f\"Point3D is {a_1}\")"
   ]
  },
  {
   "cell_type": "code",
   "execution_count": 42,
   "id": "ac344023",
   "metadata": {},
   "outputs": [
    {
     "data": {
      "text/plain": [
       "23.943914988382435"
      ]
     },
     "execution_count": 42,
     "metadata": {},
     "output_type": "execute_result"
    }
   ],
   "source": [
    "(-1.3545 - (-0.5591503570775571))**2 + (-0.1059 - (-4.783278224327885))**2 + (1.201 - 0.0037252276653875205)**2"
   ]
  }
 ],
 "metadata": {
  "interpreter": {
   "hash": "81f7af5811fbe0789d6990fa753fb585f18723a52af88870b1183168a1fd4223"
  },
  "kernelspec": {
   "display_name": "Python 3.8.12 ('qc')",
   "language": "python",
   "name": "python3"
  },
  "language_info": {
   "codemirror_mode": {
    "name": "ipython",
    "version": 3
   },
   "file_extension": ".py",
   "mimetype": "text/x-python",
   "name": "python",
   "nbconvert_exporter": "python",
   "pygments_lexer": "ipython3",
   "version": "3.8.12"
  }
 },
 "nbformat": 4,
 "nbformat_minor": 5
}
