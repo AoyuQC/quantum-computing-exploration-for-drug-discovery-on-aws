{
 "cells": [
  {
   "cell_type": "markdown",
   "id": "76db6fc7",
   "metadata": {},
   "source": [
    "# 第四步：后处理"
   ]
  },
  {
   "cell_type": "markdown",
   "id": "6d794ecb",
   "metadata": {},
   "source": [
    "\n",
    "\n",
    "本节介绍对优化结果进行后处理以进行评估和可视化。\n",
    "\n",
    "首先，准备以下参数：\n",
    "\n",
    "|参数 |说明 |数值 |\n",
    "|--- |--- |--- |\n",
    "|method | QUBO问题的退火方法|`dwave-sa`：使用Ocean工具包中的模拟退火器<br>`dwave-qa`：使用量子退火器|\n",
    "|raw_path|原始分子文件的路径| 示例为`./molecule-data/117_ideal.mol2`|\n",
    "|data_path|处理后的分子文件的路径| 示例为`./qmu_117_ideal_data_latest.mol2`|\n",
    "|bucket |存储结果的S3存储桶 | - |\n",
    "|prefix | S3存储桶中的文件夹名称 | - |\n",
    "|task_id |量子退火任务id| 示例为`2b5a3b05-1a0e-443a-852c-4ec422a10e59`|"
   ]
  },
  {
   "cell_type": "markdown",
   "id": "ee80634c",
   "metadata": {},
   "source": [
    "然后，使用SA的 **ResultParser**对象运行后处理："
   ]
  },
  {
   "cell_type": "code",
   "execution_count": null,
   "id": "ad558c1f",
   "metadata": {},
   "outputs": [],
   "source": [
    "from utility.MoleculeParser import MoleculeData\n",
    "from utility.QMUQUBO import QMUQUBO\n",
    "from utility.AnnealerOptimizer import Annealer\n",
    "from utility.ResultProcess import ResultParser\n",
    "import time\n",
    "\n",
    "timestamp = time.strftime(\"%Y%m%d-%H\")"
   ]
  },
  {
   "cell_type": "code",
   "execution_count": 18,
   "id": "b6ae63e5",
   "metadata": {},
   "outputs": [
    {
     "name": "stderr",
     "output_type": "stream",
     "text": [
      "INFO:root:_load_raw_result\n",
      "INFO:root:load simulated annealer raw result\n",
      "INFO:root:MoleculeData.load()\n",
      "INFO:root:init mol data for final position\n",
      "INFO:root:init mol data for raw position\n",
      "INFO:root:_parse_model_info\n",
      "INFO:root:_init_parameters\n",
      "INFO:root:parse simulated annealer result\n",
      "INFO:root:sa only has local_time!\n"
     ]
    },
    {
     "name": "stdout",
     "output_type": "stream",
     "text": [
      "time for dwave-sa: \n",
      "     local time is 175.73437476158142\n"
     ]
    }
   ],
   "source": [
    "method = \"dwave-sa\"\n",
    "sa_param = {}\n",
    "sa_param[\"raw_path\"] = raw_path\n",
    "sa_param[\"data_path\"] = data_path\n",
    "\n",
    "sa_process_result = ResultParser(method, **sa_param)\n",
    "# print(f\"{method} result is {sa_process_result.get_all_result()}\")\n",
    "\n",
    "local_time, _ , _, _= sa_process_result.get_time()\n",
    "\n",
    "print(f\"time for {method}: \\n \\\n",
    "    local time is {local_time}\")"
   ]
  },
  {
   "cell_type": "code",
   "execution_count": 19,
   "id": "0049b852",
   "metadata": {},
   "outputs": [
    {
     "name": "stderr",
     "output_type": "stream",
     "text": [
      "INFO:root:generate_optimize_pts()\n",
      "INFO:numexpr.utils:NumExpr defaulting to 2 threads.\n",
      "INFO:root:save_mol_file 20220216-06\n",
      "INFO:root:finish save ./molecule-data/117_ideal_dwave-sa_20220216-06.mol2 and ./molecule-data/117_ideal_dwave-sa_20220216-06.json\n"
     ]
    },
    {
     "data": {
      "text/plain": [
       "['./molecule-data/117_ideal_dwave-sa_20220216-06.mol2',\n",
       " './molecule-data/117_ideal_dwave-sa_20220216-06.json']"
      ]
     },
     "execution_count": 19,
     "metadata": {},
     "output_type": "execute_result"
    }
   ],
   "source": [
    "sa_atom_pos_data = sa_process_result.generate_optimize_pts()\n",
    "# save unfold file for visualization and parameters for experiment: 1. volume value 2. relative improvement\n",
    "sa_process_result.save_mol_file(f\"{timestamp}\")\n"
   ]
  },
  {
   "cell_type": "code",
   "execution_count": 20,
   "id": "639f2b55",
   "metadata": {},
   "outputs": [
    {
     "data": {
      "text/plain": [
       "{'volume': {'optimize': 18.9423642473021,\n",
       "  'initial': 18.549876807564765,\n",
       "  'gain': 1.0211584930621898,\n",
       "  'unfolding_results': ['x_15_7', 'x_14_8']}}"
      ]
     },
     "execution_count": 20,
     "metadata": {},
     "output_type": "execute_result"
    }
   ],
   "source": [
    "sa_process_result.parameters"
   ]
  },
  {
   "cell_type": "markdown",
   "id": "99498cad",
   "metadata": {},
   "source": [
    "在第一个代码块中，可以看到SA的**local time**大约是 174 秒。使用 **generate_optimize_pts()** 方法，最终的3D展开后的点会生成并保存为json文件和mol2文件。最后一个代码块显示优化结果，也存储在json文件中。从结果看出体积增加1.0212倍。**unfolding_results** 的值表示可旋转键 15 应旋转 $270^o$ ($360/8*(7-1)$) ，可旋转键 14 应旋转 $315^o$ ($360/8*(8-1)$)。\n",
    "\n",
    "同时，您可以运行QA的后处理："
   ]
  },
  {
   "cell_type": "code",
   "execution_count": 21,
   "id": "c94944c7",
   "metadata": {},
   "outputs": [
    {
     "name": "stderr",
     "output_type": "stream",
     "text": [
      "INFO:root:_load_raw_result\n",
      "INFO:root:load quantum annealer raw result\n",
      "INFO:root:_read_result_obj\n",
      "INFO:root:_read_result_obj: annealer-experiment/89a59fa9-c66e-482d-85e0-6dfce8c54454/qa_result.pickle\n",
      "INFO:root:MoleculeData.load()\n",
      "INFO:root:init mol data for final position\n",
      "INFO:root:init mol data for raw position\n",
      "INFO:root:_parse_model_info\n",
      "INFO:root:_init_parameters\n",
      "INFO:root:parse quantum annealer result\n",
      "INFO:root:_read_result_obj\n",
      "INFO:root:_read_result_obj: annealer-experiment/89a59fa9-c66e-482d-85e0-6dfce8c54454/results.json\n"
     ]
    },
    {
     "name": "stdout",
     "output_type": "stream",
     "text": [
      "time for dwave-qa: \n",
      "     local time is 7.57835578918457,\n",
      "     task time is 1.89, \n",
      "     qpu total time is 0.142533, \n",
      "     qpu access time is 0.124129\n"
     ]
    }
   ],
   "source": [
    "method = \"dwave-qa\"\n",
    "qa_param = {}\n",
    "qa_param[\"bucket\"] = s3_bucket\n",
    "qa_param[\"prefix\"] = prefix\n",
    "qa_param[\"task_id\"] = qa_task_id\n",
    "qa_param[\"raw_path\"] = raw_path\n",
    "qa_param[\"data_path\"] = data_path\n",
    "\n",
    "qa_process_result = ResultParser(method, **qa_param)\n",
    "# print(f\"{method} result is {qa_process_result.get_all_result()}\")\n",
    "\n",
    "local_time, task_time, total_time, access_time = qa_process_result.get_time()\n",
    "\n",
    "print(f\"time for {method}: \\n \\\n",
    "    local time is {local_time},\\n \\\n",
    "    task time is {task_time}, \\n \\\n",
    "    qpu total time is {total_time}, \\n \\\n",
    "    qpu access time is {access_time}\")"
   ]
  },
  {
   "cell_type": "markdown",
   "id": "56757928",
   "metadata": {},
   "source": [
    "我们可以看到运行 QA 的时间指标有很多种。该任务的**local time**为 7.7 秒，即调用 api 和得到退火结果的时间。**task time** 是来自存放在桶里面的json文件的度量。**qpu total time**和**qpu access time**代表在QPU中运行的实际时间。详情请参考[操作与时序](https://docs.dwavesys.com/docs/latest/c_qpu_timing.html)。"
   ]
  },
  {
   "cell_type": "code",
   "execution_count": 22,
   "id": "2063eb59",
   "metadata": {},
   "outputs": [
    {
     "name": "stderr",
     "output_type": "stream",
     "text": [
      "INFO:root:generate_optimize_pts()\n",
      "INFO:root:save_mol_file 20220216-06\n",
      "INFO:root:finish save ./molecule-data/117_ideal_dwave-qa_20220216-06.mol2 and ./molecule-data/117_ideal_dwave-qa_20220216-06.json\n"
     ]
    },
    {
     "data": {
      "text/plain": [
       "['./molecule-data/117_ideal_dwave-qa_20220216-06.mol2',\n",
       " './molecule-data/117_ideal_dwave-qa_20220216-06.json']"
      ]
     },
     "execution_count": 22,
     "metadata": {},
     "output_type": "execute_result"
    }
   ],
   "source": [
    "qa_atom_pos_data = qa_process_result.generate_optimize_pts()\n",
    "# save unfold file for visualization and parameters for experiment: 1. volume value 2. relative improvement\n",
    "qa_process_result.save_mol_file(f\"{timestamp}\")"
   ]
  },
  {
   "cell_type": "code",
   "execution_count": 23,
   "id": "e286d569",
   "metadata": {},
   "outputs": [
    {
     "data": {
      "text/plain": [
       "{'volume': {'optimize': 18.9423642473021,\n",
       "  'initial': 18.549876807564765,\n",
       "  'gain': 1.0211584930621898,\n",
       "  'unfolding_results': ['x_15_7', 'x_14_8']}}"
      ]
     },
     "execution_count": 23,
     "metadata": {},
     "output_type": "execute_result"
    }
   ],
   "source": [
    "qa_process_result.parameters"
   ]
  },
  {
   "cell_type": "markdown",
   "id": "2d246fae",
   "metadata": {},
   "source": [
    "同理，优化后的结果被转化为3D点并保存作为本地json和mol2文件。结果表明QA获得了1.021倍体积增加。"
   ]
  },
  {
   "cell_type": "markdown",
   "id": "15451a30",
   "metadata": {},
   "source": [
    "\n",
    "\n",
    "最后，打开文件夹查看优化的结果：\n",
    "\n",
    "![optimize-results](../../../images/optimize-results.png)\n",
    "\n",
    " 图1：优化结果\n",
    "\n",
    "您可以将SA和QA的json结果和mol2文件分别存放在这个地方。如果执行更多实验，更多带有时间戳的结果会存储在这里。\n",
    "\n",
    "您可以上传结果**117_ideal_dwave-qa_20220216-05.mol2**进入[在线查看工具](https://www.rcsb.org/3d-view)查看结果：\n",
    "\n",
    "![视觉](../../../images/visualization.png)\n",
    "\n",
    "图2：可视化"
   ]
  }
 ],
 "metadata": {
  "interpreter": {
   "hash": "18f113ef20d2e5656a0bc837e6c476bd436e29840b6ed1847ecdb90743164c58"
  },
  "kernelspec": {
   "display_name": "conda_braket",
   "language": "python",
   "name": "python3"
  },
  "language_info": {
   "codemirror_mode": {
    "name": "ipython",
    "version": 3
   },
   "file_extension": ".py",
   "mimetype": "text/x-python",
   "name": "python",
   "nbconvert_exporter": "python",
   "pygments_lexer": "ipython3",
   "version": "3.7.12"
  }
 },
 "nbformat": 4,
 "nbformat_minor": 5
}
